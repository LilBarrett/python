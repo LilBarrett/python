{
 "cells": [
  {
   "cell_type": "code",
   "execution_count": 11,
   "id": "cc7fc066-2a16-4282-a929-7fcde7b47685",
   "metadata": {},
   "outputs": [
    {
     "data": {
      "text/plain": [
       "Index(['drugbank_id', 'name', 'type', 'form', 'indications', 'description',\n",
       "       'cas_number', 'unii', 'state', 'groups', 'articles', 'links',\n",
       "       'indication', 'pharmacodynamics', 'mechanism_of_action', 'toxicity',\n",
       "       'metabolism', 'absorption', 'half_life', 'protein_binding',\n",
       "       'route_of_elimination', 'volume_of_distribution', 'clearance',\n",
       "       'classification', 'salts', 'synonyms', 'products', 'packagers',\n",
       "       'manufacturers', 'prices', 'categories', 'affected_organisms',\n",
       "       'dosages', 'atc_codes', 'patents', 'food_interactions',\n",
       "       'drug_interactions', 'drug_id', 'product_name', 'manufacturer',\n",
       "       'national_drug_code', 'route_of_administration', 'dose_information',\n",
       "       'country', 'regulatory_agency', 'pathway_name', 'pathway_category',\n",
       "       'processes', 'targets'],\n",
       "      dtype='object')"
      ]
     },
     "execution_count": 11,
     "metadata": {},
     "output_type": "execute_result"
    }
   ],
   "source": [
    "import pandas as pd\n",
    "import xml.etree.ElementTree as ET\n",
    "\n",
    "def parse_drugbank_xml(xml_file):\n",
    "    '''\n",
    "    Parse the XML file and extract pathway information for each drug.\n",
    "    '''\n",
    "    \n",
    "    # Parse the XML file\n",
    "    tree = ET.parse(xml_file)\n",
    "    root = tree.getroot()\n",
    "\n",
    "    # Define namespaces\n",
    "    ns = {'drugbank': 'http://www.drugbank.ca'}\n",
    "\n",
    "    # Initialize lists to store data\n",
    "    data = {\n",
    "        'drugbank_id': [],\n",
    "        'name': [],\n",
    "        'type': [],\n",
    "        'form': [],\n",
    "        'indications': [],\n",
    "        'description': [],\n",
    "        'cas_number': [],\n",
    "        'unii': [],\n",
    "        'state': [],\n",
    "        'groups': [],\n",
    "        'articles': [],\n",
    "        'links': [],\n",
    "        'indication': [],\n",
    "        'pharmacodynamics': [],\n",
    "        'mechanism_of_action': [],\n",
    "        'toxicity': [],\n",
    "        'metabolism': [],\n",
    "        'absorption': [],\n",
    "        'half_life': [],\n",
    "        'protein_binding': [],\n",
    "        'route_of_elimination': [],\n",
    "        'volume_of_distribution': [],\n",
    "        'clearance': [],\n",
    "        'classification': [],\n",
    "        'salts': [],\n",
    "        'synonyms': [],\n",
    "        'products': [],\n",
    "        'packagers': [],\n",
    "        'manufacturers': [],\n",
    "        'prices': [],\n",
    "        'categories': [],\n",
    "        'affected_organisms': [],\n",
    "        'dosages': [],\n",
    "        'atc_codes': [],\n",
    "        'patents': [],\n",
    "        'food_interactions': [],\n",
    "        'drug_interactions': [],\n",
    "        'drug_id': [],\n",
    "        'product_name': [],\n",
    "        'manufacturer': [],\n",
    "        'national_drug_code': [],\n",
    "        'route_of_administration': [],\n",
    "        'dose_information': [],\n",
    "        'country': [],\n",
    "        'regulatory_agency': [],\n",
    "        'pathway_name': [],\n",
    "        'pathway_category': [],\n",
    "        'processes': [],\n",
    "        'targets': []\n",
    "    }\n",
    "\n",
    "    # Helper function to get text or None\n",
    "    def text_or_empty(element):\n",
    "        return element.text if element is not None and element != 'None' else None\n",
    "\n",
    "    # Extract data\n",
    "    for drug in root.findall('drugbank:drug', ns):\n",
    "        data['drugbank_id'].append(text_or_empty(drug.find('drugbank:drugbank-id[@primary=\"true\"]', ns)))\n",
    "        data['name'].append(text_or_empty(drug.find('drugbank:name', ns)))\n",
    "        data['type'].append(drug.attrib.get('type'))\n",
    "        data['description'].append(text_or_empty(drug.find('drugbank:description', ns)))\n",
    "        data['cas_number'].append(text_or_empty(drug.find('drugbank:cas-number', ns)))\n",
    "        data['unii'].append(text_or_empty(drug.find('drugbank:unii', ns)))\n",
    "        data['state'].append(text_or_empty(drug.find('drugbank:state', ns)))\n",
    "        \n",
    "        # Extract groups\n",
    "        groups = [group.text for group in drug.findall('drugbank:groups/drugbank:group', ns)]\n",
    "        data['groups'].append(groups if groups else None)\n",
    "        \n",
    "        # Extract general references articles\n",
    "        articles = []\n",
    "        for article in drug.findall('drugbank:general-references/drugbank:articles/drugbank:article', ns):\n",
    "            articles.append({\n",
    "                'ref-id': text_or_empty(article.find('drugbank:ref-id', ns)),\n",
    "                'pubmed-id': text_or_empty(article.find('drugbank:pubmed-id', ns)),\n",
    "                'citation': text_or_empty(article.find('drugbank:citation', ns))\n",
    "            })\n",
    "        data['articles'].append(articles if articles else None)\n",
    "        \n",
    "        # Extract links\n",
    "        links = []\n",
    "        for link in drug.findall('drugbank:general-references/drugbank:links/drugbank:link', ns):\n",
    "            links.append({\n",
    "                'ref-id': text_or_empty(link.find('drugbank:ref-id', ns)),\n",
    "                'title': text_or_empty(link.find('drugbank:title', ns)),\n",
    "                'url': text_or_empty(link.find('drugbank:url', ns))\n",
    "            })\n",
    "        data['links'].append(links if links else None)\n",
    "        \n",
    "        data['indication'].append(text_or_empty(drug.find('drugbank:indication', ns)))\n",
    "        data['pharmacodynamics'].append(text_or_empty(drug.find('drugbank:pharmacodynamics', ns)))\n",
    "        data['mechanism_of_action'].append(text_or_empty(drug.find('drugbank:mechanism-of-action', ns)))\n",
    "        data['toxicity'].append(text_or_empty(drug.find('drugbank:toxicity', ns)))\n",
    "        data['metabolism'].append(text_or_empty(drug.find('drugbank:metabolism', ns)))\n",
    "        data['absorption'].append(text_or_empty(drug.find('drugbank:absorption', ns)))\n",
    "        data['half_life'].append(text_or_empty(drug.find('drugbank:half-life', ns)))\n",
    "        data['protein_binding'].append(text_or_empty(drug.find('drugbank:protein-binding', ns)))\n",
    "        data['route_of_elimination'].append(text_or_empty(drug.find('drugbank:route-of-elimination', ns)))\n",
    "        data['volume_of_distribution'].append(text_or_empty(drug.find('drugbank:volume-of-distribution', ns)))\n",
    "        data['clearance'].append(text_or_empty(drug.find('drugbank:clearance', ns)))\n",
    "        \n",
    "        # Extract form\n",
    "        form = [form.text for form in drug.findall('drugbank:dosages/drugbank:dosage/drugbank:form', ns)]\n",
    "        data['form'].append(form if form else None)\n",
    "        \n",
    "        # Extract indications\n",
    "        indications = [indication.text for indication in drug.findall('drugbank:indication', ns)]\n",
    "        data['indications'].append(indications if indications else None)\n",
    "        \n",
    "        # Extract classification with checks\n",
    "        classification = {\n",
    "            'description': text_or_empty(drug.find('drugbank:classification/drugbank:description', ns)),\n",
    "            'direct-parent': text_or_empty(drug.find('drugbank:classification/drugbank:direct-parent', ns)),\n",
    "            'kingdom': text_or_empty(drug.find('drugbank:classification/drugbank:kingdom', ns)),\n",
    "            'superclass': text_or_empty(drug.find('drugbank:classification/drugbank:superclass', ns)),\n",
    "            'class': text_or_empty(drug.find('drugbank:classification/drugbank:class', ns)),\n",
    "            'subclass': text_or_empty(drug.find('drugbank:classification/drugbank:subclass', ns))\n",
    "        }\n",
    "        data['classification'].append(classification)\n",
    "        \n",
    "        # Extract synonyms\n",
    "        synonyms = [synonym.text for synonym in drug.findall('drugbank:synonyms/drugbank:synonym', ns)]\n",
    "        data['synonyms'].append(synonyms if synonyms else None)\n",
    "        \n",
    "        # Extract products\n",
    "        products = []\n",
    "        for product in drug.findall('drugbank:products/drugbank:product', ns):\n",
    "            products.append({\n",
    "                'name': text_or_empty(product.find('drugbank:name', ns)),\n",
    "                'labeller': text_or_empty(product.find('drugbank:labeller', ns)),\n",
    "                'ndc-product-code': text_or_empty(product.find('drugbank:ndc-product-code', ns)),\n",
    "                'dpd-id': text_or_empty(product.find('drugbank:dpd-id', ns)),\n",
    "                'ema-product-code': text_or_empty(product.find('drugbank:ema-product-code', ns)),\n",
    "                'ema-ma-number': text_or_empty(product.find('drugbank:ema-ma-number', ns)),\n",
    "                'started-marketing-on': text_or_empty(product.find('drugbank:started-marketing-on', ns)),\n",
    "                'ended-marketing-on': text_or_empty(product.find('drugbank:ended-marketing-on', ns)),\n",
    "                'dosage-form': text_or_empty(product.find('drugbank:dosage-form', ns)),\n",
    "                'strength': text_or_empty(product.find('drugbank:strength', ns)),\n",
    "                'route': text_or_empty(product.find('drugbank:route', ns)),\n",
    "                'fda-application-number': text_or_empty(product.find('drugbank:fda-application-number', ns)),\n",
    "                'generic': text_or_empty(product.find('drugbank:generic', ns)),\n",
    "                'over-the-counter': text_or_empty(product.find('drugbank:over-the-counter', ns)),\n",
    "                'approved': text_or_empty(product.find('drugbank:approved', ns)),\n",
    "                'country': text_or_empty(product.find('drugbank:country', ns)),\n",
    "                'source': text_or_empty(product.find('drugbank:source', ns))\n",
    "            })\n",
    "        data['products'].append(products if products else None)\n",
    "        \n",
    "        # Extract packagers\n",
    "        packagers = []\n",
    "        for packager in drug.findall('drugbank:packagers/drugbank:packager', ns):\n",
    "            packagers.append({\n",
    "                'name': text_or_empty(packager.find('drugbank:name', ns)),\n",
    "                'url': text_or_empty(packager.find('drugbank:url', ns))\n",
    "            })\n",
    "        data['packagers'].append(packagers if packagers else None)\n",
    "        \n",
    "        # Extract manufacturers\n",
    "        manufacturers = [manufacturer.text for manufacturer in drug.findall('drugbank:manufacturers/drugbank:manufacturer', ns)]\n",
    "        data['manufacturers'].append(manufacturers if manufacturers else None)\n",
    "        \n",
    "        # Extract prices\n",
    "        prices = []\n",
    "        for price in drug.findall('drugbank:prices/drugbank:price', ns):\n",
    "            prices.append({\n",
    "                'description': text_or_empty(price.find('drugbank:description', ns)),\n",
    "                'cost': text_or_empty(price.find('drugbank:cost', ns)),\n",
    "                'currency': price.find('drugbank:cost', ns).attrib['currency'] if price.find('drugbank:cost', ns) is not None else None,\n",
    "                'unit': text_or_empty(price.find('drugbank:unit', ns))\n",
    "            })\n",
    "        data['prices'].append(prices if prices else None)\n",
    "        \n",
    "        # Extract categories\n",
    "        categories = []\n",
    "        for category in drug.findall('drugbank:categories/drugbank:category', ns):\n",
    "            categories.append({\n",
    "                'category': text_or_empty(category.find('drugbank:category', ns)),\n",
    "                'mesh-id': text_or_empty(category.find('drugbank:mesh-id', ns))\n",
    "            })\n",
    "        data['categories'].append(categories if categories else None)\n",
    "        \n",
    "        # Extract affected organisms\n",
    "        affected_organisms = [organism.text for organism in drug.findall('drugbank:affected-organisms/drugbank:affected-organism', ns)]\n",
    "        data['affected_organisms'].append(affected_organisms if affected_organisms else None)\n",
    "        \n",
    "        # Extract dosages\n",
    "        dosages = []\n",
    "        for dosage in drug.findall('drugbank:dosages/drugbank:dosage', ns):\n",
    "            dosages.append({\n",
    "                'form': text_or_empty(dosage.find('drugbank:form', ns)),\n",
    "                'route': text_or_empty(dosage.find('drugbank:route', ns)),\n",
    "                'strength': text_or_empty(dosage.find('drugbank:strength', ns))\n",
    "            })\n",
    "        data['dosages'].append(dosages if dosages else None)\n",
    "        \n",
    "        # Extract ATC codes\n",
    "        atc_codes = []\n",
    "        for atc_code in drug.findall('drugbank:atc-codes/drugbank:atc-code', ns):\n",
    "            levels = [level.text for level in atc_code.findall('drugbank:level', ns)]\n",
    "            atc_codes.append({\n",
    "                'code': atc_code.attrib['code'],\n",
    "                'levels': levels\n",
    "            })\n",
    "        data['atc_codes'].append(atc_codes if atc_codes else None)\n",
    "        \n",
    "        # Extract patents\n",
    "        patents = []\n",
    "        for patent in drug.findall('drugbank:patents/drugbank:patent', ns):\n",
    "            patents.append({\n",
    "                'number': text_or_empty(patent.find('drugbank:number', ns)),\n",
    "                'country': text_or_empty(patent.find('drugbank:country', ns)),\n",
    "                'approved': text_or_empty(patent.find('drugbank:approved', ns)),\n",
    "                'expires': text_or_empty(patent.find('drugbank:expires', ns)),\n",
    "                'pediatric-extension': text_or_empty(patent.find('drugbank:pediatric-extension', ns))\n",
    "            })\n",
    "        data['patents'].append(patents if patents else None)\n",
    "        \n",
    "        # Extract food interactions\n",
    "        food_interactions = [interaction.text for interaction in drug.findall('drugbank:food-interactions/drugbank:food-interaction', ns)]\n",
    "        data['food_interactions'].append(food_interactions if food_interactions else None)\n",
    "        \n",
    "        # Extract drug interactions\n",
    "        drug_interactions = []\n",
    "        for interaction in drug.findall('drugbank:drug-interactions/drugbank:drug-interaction', ns):\n",
    "            drug_interactions.append({\n",
    "                'drugbank-id': text_or_empty(interaction.find('drugbank:drugbank-id', ns)),\n",
    "                'name': text_or_empty(interaction.find('drugbank:name', ns)),\n",
    "                'description': text_or_empty(interaction.find('drugbank:description', ns))\n",
    "            })\n",
    "        data['drug_interactions'].append(drug_interactions if drug_interactions else None)\n",
    "        \n",
    "        # Extract drug ID\n",
    "        data['drug_id'].append(text_or_empty(drug.find('drugbank:drugbank-id', ns)))\n",
    "        \n",
    "        # Extract product name\n",
    "        product_name = [product_name.text for product_name in drug.findall('drugbank:products/drugbank:product/drugbank:name', ns)]\n",
    "        data['product_name'].append(product_name if product_name else None)\n",
    "        \n",
    "        # Extract manufacturer\n",
    "        manufacturer = [manufacturer.text for manufacturer in drug.findall('drugbank:products/drugbank:product/drugbank:labeller', ns)]\n",
    "        data['manufacturer'].append(manufacturer if manufacturer else None)\n",
    "        \n",
    "        # Extract national drug code\n",
    "        national_drug_code = [national_drug_code.text for national_drug_code in drug.findall('drugbank:products/drugbank:product/drugbank:ndc-product-code', ns)]\n",
    "        data['national_drug_code'].append(national_drug_code if national_drug_code else None)\n",
    "        \n",
    "        # Extract route of administration\n",
    "        route_of_administration = [route_of_administration.text for route_of_administration in drug.findall('drugbank:dosages/drugbank:dosage/drugbank:route', ns)]\n",
    "        data['route_of_administration'].append(route_of_administration if route_of_administration else None)\n",
    "        \n",
    "        # Extract dose information\n",
    "        dose_information = [dose_information.text for dose_information in drug.findall('drugbank:dosages/drugbank:dosage/drugbank:strength', ns)]\n",
    "        data['dose_information'].append(dose_information if dose_information else None)\n",
    "        \n",
    "        # Extract country\n",
    "        country = [country.text for country in drug.findall('drugbank:products/drugbank:product/drugbank:country', ns)]\n",
    "        data['country'].append(country if country else None)\n",
    "        \n",
    "        # Extract regulatory agency\n",
    "        regulatory_agency = [regulatory_agency.text for regulatory_agency in drug.findall('drugbank:products/drugbank:product/drugbank:source', ns)]\n",
    "        data['regulatory_agency'].append(regulatory_agency if regulatory_agency else None)\n",
    "\n",
    "        # Extract pathways\n",
    "        pathway_names = []\n",
    "        pathway_categories = []\n",
    "        for pathway in drug.findall('drugbank:pathways/drugbank:pathway', ns):\n",
    "            pathway_names.append(text_or_empty(pathway.find('drugbank:name', ns)))\n",
    "            pathway_categories.append(text_or_empty(pathway.find('drugbank:category', ns)))\n",
    "        data['pathway_name'].append(pathway_names if pathway_names else None)\n",
    "        data['pathway_category'].append(pathway_categories if pathway_categories else None)\n",
    "\n",
    "        # Extract processes from go-classifier\n",
    "        processes = [process.find('drugbank:description', ns).text for process in drug.findall('drugbank:go-classifiers/drugbank:go-classifier', ns)]\n",
    "        data['processes'].append(processes if processes else None)\n",
    "\n",
    "    # Ensure all lists are the same length\n",
    "    max_len = max(len(v) for v in data.values())\n",
    "    for key, value in data.items():\n",
    "        if len(value) < max_len:\n",
    "            data[key].extend([None] * (max_len - len(value)))\n",
    "\n",
    "    # Convert data to DataFrame\n",
    "    df_ret = pd.DataFrame(data)\n",
    "    return df_ret\n",
    "\n",
    "# Function to remove duplicates from lists in all cells of a DataFrame\n",
    "def remove_duplicates_from_lists(df):\n",
    "    \n",
    "    def remove_duplicates(cell):\n",
    "        if isinstance(cell, list):\n",
    "            seen = []\n",
    "            for item in cell:\n",
    "                if item not in seen:\n",
    "                    seen.append(item)\n",
    "            return seen\n",
    "        return cell\n",
    "\n",
    "    # Apply the remove_duplicates function to all cells in the DataFrame\n",
    "    df = df.map(remove_duplicates)\n",
    "    \n",
    "    return df\n",
    "\n",
    "# Usage example\n",
    "xml_file_path = \"drugbank_partial(1).xml\"\n",
    "df_main = parse_drugbank_xml(xml_file_path)\n",
    "df_main = remove_duplicates_from_lists(df_main)\n",
    "df_main.columns"
   ]
  },
  {
   "cell_type": "code",
   "execution_count": 12,
   "id": "029225b1-47e2-4006-8ef7-025784f8031e",
   "metadata": {},
   "outputs": [
    {
     "data": {
      "text/html": [
       "<div>\n",
       "<style scoped>\n",
       "    .dataframe tbody tr th:only-of-type {\n",
       "        vertical-align: middle;\n",
       "    }\n",
       "\n",
       "    .dataframe tbody tr th {\n",
       "        vertical-align: top;\n",
       "    }\n",
       "\n",
       "    .dataframe thead th {\n",
       "        text-align: right;\n",
       "    }\n",
       "</style>\n",
       "<table border=\"1\" class=\"dataframe\">\n",
       "  <thead>\n",
       "    <tr style=\"text-align: right;\">\n",
       "      <th></th>\n",
       "      <th>drugbank_id</th>\n",
       "      <th>name</th>\n",
       "      <th>type</th>\n",
       "      <th>description</th>\n",
       "      <th>form</th>\n",
       "      <th>indications</th>\n",
       "      <th>mechanism_of_action</th>\n",
       "      <th>food_interactions</th>\n",
       "    </tr>\n",
       "  </thead>\n",
       "  <tbody>\n",
       "    <tr>\n",
       "      <th>0</th>\n",
       "      <td>DB00001</td>\n",
       "      <td>Lepirudin</td>\n",
       "      <td>biotech</td>\n",
       "      <td>Lepirudin is a recombinant hirudin formed by 6...</td>\n",
       "      <td>[Injection, powder, for suspension, Injection,...</td>\n",
       "      <td>[Lepirudin is indicated for anticoagulation in...</td>\n",
       "      <td>Lepirudin is a direct thrombin inhibitor used ...</td>\n",
       "      <td>[Avoid herbs and supplements with anticoagulan...</td>\n",
       "    </tr>\n",
       "    <tr>\n",
       "      <th>1</th>\n",
       "      <td>DB00002</td>\n",
       "      <td>Cetuximab</td>\n",
       "      <td>biotech</td>\n",
       "      <td>Cetuximab is a recombinant chimeric human/mous...</td>\n",
       "      <td>[Injection, Injection, solution, Solution]</td>\n",
       "      <td>[Cetuximab indicated for the treatment of loca...</td>\n",
       "      <td>The epidermal growth factor receptor (EGFR) is...</td>\n",
       "      <td>None</td>\n",
       "    </tr>\n",
       "    <tr>\n",
       "      <th>2</th>\n",
       "      <td>DB00003</td>\n",
       "      <td>Dornase alfa</td>\n",
       "      <td>biotech</td>\n",
       "      <td>Dornase alfa is a biosynthetic form of human d...</td>\n",
       "      <td>[Aerosol, spray, Solution]</td>\n",
       "      <td>[Used as adjunct therapy in the treatment of c...</td>\n",
       "      <td>Dornase alfa is a biosynthetic form of human D...</td>\n",
       "      <td>None</td>\n",
       "    </tr>\n",
       "    <tr>\n",
       "      <th>3</th>\n",
       "      <td>DB00004</td>\n",
       "      <td>Denileukin diftitox</td>\n",
       "      <td>biotech</td>\n",
       "      <td>A recombinant DNA-derived cytotoxic protein co...</td>\n",
       "      <td>[Injection, solution]</td>\n",
       "      <td>[For treatment of cutaneous T-cell lymphoma]</td>\n",
       "      <td>Denileukin diftitox binds to the high-affinity...</td>\n",
       "      <td>None</td>\n",
       "    </tr>\n",
       "    <tr>\n",
       "      <th>4</th>\n",
       "      <td>DB00005</td>\n",
       "      <td>Etanercept</td>\n",
       "      <td>biotech</td>\n",
       "      <td>Dimeric fusion protein consisting of the extra...</td>\n",
       "      <td>[Injection, solution, Injection, Injection, po...</td>\n",
       "      <td>[Etanercept is indicated for the treatment of ...</td>\n",
       "      <td>There are two distinct receptors for TNF (TNFR...</td>\n",
       "      <td>None</td>\n",
       "    </tr>\n",
       "    <tr>\n",
       "      <th>...</th>\n",
       "      <td>...</td>\n",
       "      <td>...</td>\n",
       "      <td>...</td>\n",
       "      <td>...</td>\n",
       "      <td>...</td>\n",
       "      <td>...</td>\n",
       "      <td>...</td>\n",
       "      <td>...</td>\n",
       "    </tr>\n",
       "    <tr>\n",
       "      <th>95</th>\n",
       "      <td>DB00104</td>\n",
       "      <td>Octreotide</td>\n",
       "      <td>biotech</td>\n",
       "      <td>Acromegaly is a disorder caused by excess grow...</td>\n",
       "      <td>[Injection, Solution, Injection, powder, for s...</td>\n",
       "      <td>[Octreotide by injection is used for the treat...</td>\n",
       "      <td>Octreotide binds to somatostatin receptors cou...</td>\n",
       "      <td>[Take on an empty stomach. The oral capsules s...</td>\n",
       "    </tr>\n",
       "    <tr>\n",
       "      <th>96</th>\n",
       "      <td>DB00105</td>\n",
       "      <td>Interferon alfa-2b</td>\n",
       "      <td>biotech</td>\n",
       "      <td>Interferon alpha 2b (human leukocyte clone hif...</td>\n",
       "      <td>[Injection, powder, lyophilized, for solution,...</td>\n",
       "      <td>[For the treatment of hairy cell leukemia, mal...</td>\n",
       "      <td>Interferon alpha binds to type I interferon re...</td>\n",
       "      <td>[Avoid alcohol.]</td>\n",
       "    </tr>\n",
       "    <tr>\n",
       "      <th>97</th>\n",
       "      <td>DB00106</td>\n",
       "      <td>Abarelix</td>\n",
       "      <td>small molecule</td>\n",
       "      <td>Synthetic decapeptide antagonist to gonadotrop...</td>\n",
       "      <td>None</td>\n",
       "      <td>[For palliative treatment of advanced prostate...</td>\n",
       "      <td>Abarelix binds to the gonadotropin releasing h...</td>\n",
       "      <td>None</td>\n",
       "    </tr>\n",
       "    <tr>\n",
       "      <th>98</th>\n",
       "      <td>DB00107</td>\n",
       "      <td>Oxytocin</td>\n",
       "      <td>biotech</td>\n",
       "      <td>Sir Henry H. Dale first identified oxytocin an...</td>\n",
       "      <td>[Liquid, Solution, Injection, solution, Inject...</td>\n",
       "      <td>[Administration of exogenous oxytocin is indic...</td>\n",
       "      <td>Oxytocin plays a vital role in labour and deli...</td>\n",
       "      <td>None</td>\n",
       "    </tr>\n",
       "    <tr>\n",
       "      <th>99</th>\n",
       "      <td>DB00108</td>\n",
       "      <td>Natalizumab</td>\n",
       "      <td>biotech</td>\n",
       "      <td>Natalizumab is a recombinant humanized IgG4κ m...</td>\n",
       "      <td>[Injection, solution, concentrate, Injection, ...</td>\n",
       "      <td>[Natalizumab is indicated as monotherapy for t...</td>\n",
       "      <td>Integrins are transmembrane receptors and adhe...</td>\n",
       "      <td>None</td>\n",
       "    </tr>\n",
       "  </tbody>\n",
       "</table>\n",
       "<p>100 rows × 8 columns</p>\n",
       "</div>"
      ],
      "text/plain": [
       "   drugbank_id                 name            type  \\\n",
       "0      DB00001            Lepirudin         biotech   \n",
       "1      DB00002            Cetuximab         biotech   \n",
       "2      DB00003         Dornase alfa         biotech   \n",
       "3      DB00004  Denileukin diftitox         biotech   \n",
       "4      DB00005           Etanercept         biotech   \n",
       "..         ...                  ...             ...   \n",
       "95     DB00104           Octreotide         biotech   \n",
       "96     DB00105   Interferon alfa-2b         biotech   \n",
       "97     DB00106             Abarelix  small molecule   \n",
       "98     DB00107             Oxytocin         biotech   \n",
       "99     DB00108          Natalizumab         biotech   \n",
       "\n",
       "                                          description  \\\n",
       "0   Lepirudin is a recombinant hirudin formed by 6...   \n",
       "1   Cetuximab is a recombinant chimeric human/mous...   \n",
       "2   Dornase alfa is a biosynthetic form of human d...   \n",
       "3   A recombinant DNA-derived cytotoxic protein co...   \n",
       "4   Dimeric fusion protein consisting of the extra...   \n",
       "..                                                ...   \n",
       "95  Acromegaly is a disorder caused by excess grow...   \n",
       "96  Interferon alpha 2b (human leukocyte clone hif...   \n",
       "97  Synthetic decapeptide antagonist to gonadotrop...   \n",
       "98  Sir Henry H. Dale first identified oxytocin an...   \n",
       "99  Natalizumab is a recombinant humanized IgG4κ m...   \n",
       "\n",
       "                                                 form  \\\n",
       "0   [Injection, powder, for suspension, Injection,...   \n",
       "1          [Injection, Injection, solution, Solution]   \n",
       "2                          [Aerosol, spray, Solution]   \n",
       "3                               [Injection, solution]   \n",
       "4   [Injection, solution, Injection, Injection, po...   \n",
       "..                                                ...   \n",
       "95  [Injection, Solution, Injection, powder, for s...   \n",
       "96  [Injection, powder, lyophilized, for solution,...   \n",
       "97                                               None   \n",
       "98  [Liquid, Solution, Injection, solution, Inject...   \n",
       "99  [Injection, solution, concentrate, Injection, ...   \n",
       "\n",
       "                                          indications  \\\n",
       "0   [Lepirudin is indicated for anticoagulation in...   \n",
       "1   [Cetuximab indicated for the treatment of loca...   \n",
       "2   [Used as adjunct therapy in the treatment of c...   \n",
       "3        [For treatment of cutaneous T-cell lymphoma]   \n",
       "4   [Etanercept is indicated for the treatment of ...   \n",
       "..                                                ...   \n",
       "95  [Octreotide by injection is used for the treat...   \n",
       "96  [For the treatment of hairy cell leukemia, mal...   \n",
       "97  [For palliative treatment of advanced prostate...   \n",
       "98  [Administration of exogenous oxytocin is indic...   \n",
       "99  [Natalizumab is indicated as monotherapy for t...   \n",
       "\n",
       "                                  mechanism_of_action  \\\n",
       "0   Lepirudin is a direct thrombin inhibitor used ...   \n",
       "1   The epidermal growth factor receptor (EGFR) is...   \n",
       "2   Dornase alfa is a biosynthetic form of human D...   \n",
       "3   Denileukin diftitox binds to the high-affinity...   \n",
       "4   There are two distinct receptors for TNF (TNFR...   \n",
       "..                                                ...   \n",
       "95  Octreotide binds to somatostatin receptors cou...   \n",
       "96  Interferon alpha binds to type I interferon re...   \n",
       "97  Abarelix binds to the gonadotropin releasing h...   \n",
       "98  Oxytocin plays a vital role in labour and deli...   \n",
       "99  Integrins are transmembrane receptors and adhe...   \n",
       "\n",
       "                                    food_interactions  \n",
       "0   [Avoid herbs and supplements with anticoagulan...  \n",
       "1                                                None  \n",
       "2                                                None  \n",
       "3                                                None  \n",
       "4                                                None  \n",
       "..                                                ...  \n",
       "95  [Take on an empty stomach. The oral capsules s...  \n",
       "96                                   [Avoid alcohol.]  \n",
       "97                                               None  \n",
       "98                                               None  \n",
       "99                                               None  \n",
       "\n",
       "[100 rows x 8 columns]"
      ]
     },
     "execution_count": 12,
     "metadata": {},
     "output_type": "execute_result"
    }
   ],
   "source": [
    "# 1)\n",
    "import pandas as pd\n",
    "\n",
    "def extract_drug_info(df):\n",
    "    columns = [\n",
    "        'drugbank_id', 'name', 'type', 'description', \n",
    "        'form', 'indications', 'mechanism_of_action', 'food_interactions'\n",
    "    ]\n",
    "    drug_info_df = df[columns].copy()\n",
    "    return drug_info_df\n",
    "    \n",
    "new_df = extract_drug_info(df_main)\n",
    "new_df"
   ]
  },
  {
   "cell_type": "code",
   "execution_count": 13,
   "id": "ce3d4899-48af-4244-9197-17ab98aad465",
   "metadata": {},
   "outputs": [
    {
     "name": "stdout",
     "output_type": "stream",
     "text": [
      "  drugbank_id                 name     type  \\\n",
      "0     DB00001            Lepirudin  biotech   \n",
      "1     DB00002            Cetuximab  biotech   \n",
      "2     DB00003         Dornase alfa  biotech   \n",
      "3     DB00004  Denileukin diftitox  biotech   \n",
      "4     DB00005           Etanercept  biotech   \n",
      "\n",
      "                                                form  \\\n",
      "0  [Injection, powder, for suspension, Injection,...   \n",
      "1  [Injection, Injection, solution, Injection, so...   \n",
      "2  [Aerosol, spray, Solution, Solution, Solution,...   \n",
      "3                              [Injection, solution]   \n",
      "4  [Injection, solution, Injection, solution, Inj...   \n",
      "\n",
      "                                         indications  \\\n",
      "0  [Lepirudin is indicated for anticoagulation in...   \n",
      "1  [Cetuximab indicated for the treatment of loca...   \n",
      "2  [Used as adjunct therapy in the treatment of c...   \n",
      "3       [For treatment of cutaneous T-cell lymphoma]   \n",
      "4  [Etanercept is indicated for the treatment of ...   \n",
      "\n",
      "                                         description   cas_number        unii  \\\n",
      "0  Lepirudin is a recombinant hirudin formed by 6...  138068-37-8  Y43GF64R34   \n",
      "1  Cetuximab is a recombinant chimeric human/mous...  205923-56-4  PQX0D8J21J   \n",
      "2  Dornase alfa is a biosynthetic form of human d...  143831-71-4  953A26OA1Y   \n",
      "3  A recombinant DNA-derived cytotoxic protein co...  173146-27-5  25E79B5CTM   \n",
      "4  Dimeric fusion protein consisting of the extra...  185243-69-0  OP401G7OJC   \n",
      "\n",
      "    state                       groups  ...  \\\n",
      "0   solid        [approved, withdrawn]  ...   \n",
      "1  liquid                   [approved]  ...   \n",
      "2  liquid                   [approved]  ...   \n",
      "3  liquid  [approved, investigational]  ...   \n",
      "4  liquid  [approved, investigational]  ...   \n",
      "\n",
      "                                        manufacturer  \\\n",
      "0  [Bayer, Bayer, Celgene Europe Limited, Celgene...   \n",
      "1  [ImClone LLC, ImClone LLC, Imclone, Llc, Merck...   \n",
      "2               [Genentech, Inc., Hoffmann La Roche]   \n",
      "3                                    [Eisai Limited]   \n",
      "4  [Samsung Bioepis Nl B.V., Samsung Bioepis Nl B...   \n",
      "\n",
      "                                  national_drug_code  \\\n",
      "0          [50419-150, None, None, None, None, None]   \n",
      "1           [66733-948, 66733-958, None, None, None]   \n",
      "2                                  [50242-100, None]   \n",
      "3                                        [62856-603]   \n",
      "4  [None, None, None, None, None, None, None, Non...   \n",
      "\n",
      "                             route_of_administration  \\\n",
      "0  [Intravenous, Intravenous, Intravenous, Intrav...   \n",
      "1  [Intravenous, Intravenous, Intravenous; Parent...   \n",
      "2  [Respiratory (inhalation), Respiratory (inhala...   \n",
      "3                                      [Intravenous]   \n",
      "4  [Parenteral, Parenteral, Subcutaneous, Subcuta...   \n",
      "\n",
      "                                    dose_information  \\\n",
      "0  [50 mg, 20 mg, 50 mg, None, 50 mg/1mL, 50 mg /...   \n",
      "1  [None, 5 mg/ml, 5 MG/ML, 2 mg/1mL, 2 mg / mL, ...   \n",
      "2  [2.5 mg, 1 mg/1mL, 1 mg / mL, 2.5 mg/2.5ml, No...   \n",
      "3                                       [150 ug/1mL]   \n",
      "4  [25 MG, 50 MG, None, 10 MG, 25 MG/ML, 50 MG, 2...   \n",
      "\n",
      "                                             country  \\\n",
      "0                       [US, Canada, EU, EU, EU, EU]   \n",
      "1                           [US, US, Canada, EU, EU]   \n",
      "2                                       [US, Canada]   \n",
      "3                                               [US]   \n",
      "4  [EU, EU, EU, EU, EU, EU, EU, Canada, Canada, U...   \n",
      "\n",
      "                                   regulatory_agency  \\\n",
      "0                 [FDA NDC, DPD, EMA, EMA, EMA, EMA]   \n",
      "1                  [FDA NDC, FDA NDC, DPD, EMA, EMA]   \n",
      "2                                     [FDA NDC, DPD]   \n",
      "3                                          [FDA NDC]   \n",
      "4  [EMA, EMA, EMA, EMA, EMA, EMA, EMA, DPD, DPD, ...   \n",
      "\n",
      "                 pathway_name pathway_category processes targets  \n",
      "0  [Lepirudin Action Pathway]    [drug_action]      None    None  \n",
      "1  [Cetuximab Action Pathway]    [drug_action]      None    None  \n",
      "2                        None             None      None    None  \n",
      "3                        None             None      None    None  \n",
      "4                        None             None      None    None  \n",
      "\n",
      "[5 rows x 49 columns]\n"
     ]
    },
    {
     "data": {
      "application/vnd.plotly.v1+json": {
       "config": {
        "plotlyServerURL": "https://plot.ly"
       },
       "data": [
        {
         "hoverinfo": "none",
         "line": {
          "color": "#888",
          "width": 0.5
         },
         "mode": "lines",
         "type": "scatter",
         "x": [
          0.0005974007760880747,
          0.3150983125662061,
          null,
          0.0005974007760880747,
          0.6843042866577054,
          null,
          0.0005974007760880747,
          -1,
          null
         ],
         "y": [
          -0.0015530975629250523,
          0.9685780408485039,
          null,
          -0.0015530975629250523,
          -0.7617458803945878,
          null,
          -0.0015530975629250523,
          -0.2052790628909908,
          null
         ]
        },
        {
         "hoverinfo": "text",
         "marker": {
          "color": "lightblue",
          "line": {
           "width": 2
          },
          "showscale": false,
          "size": 20
         },
         "mode": "markers+text",
         "text": [
          "DB00002",
          "Cetuximab",
          "Cétuximab",
          "Cetuximabum"
         ],
         "textposition": "top center",
         "type": "scatter",
         "x": [
          0.0005974007760880747,
          0.3150983125662061,
          0.6843042866577054,
          -1
         ],
         "y": [
          -0.0015530975629250523,
          0.9685780408485039,
          -0.7617458803945878,
          -0.2052790628909908
         ]
        }
       ],
       "layout": {
        "autosize": true,
        "hovermode": "closest",
        "margin": {
         "b": 20,
         "l": 5,
         "r": 5,
         "t": 40
        },
        "showlegend": false,
        "template": {
         "data": {
          "bar": [
           {
            "error_x": {
             "color": "#2a3f5f"
            },
            "error_y": {
             "color": "#2a3f5f"
            },
            "marker": {
             "line": {
              "color": "#E5ECF6",
              "width": 0.5
             },
             "pattern": {
              "fillmode": "overlay",
              "size": 10,
              "solidity": 0.2
             }
            },
            "type": "bar"
           }
          ],
          "barpolar": [
           {
            "marker": {
             "line": {
              "color": "#E5ECF6",
              "width": 0.5
             },
             "pattern": {
              "fillmode": "overlay",
              "size": 10,
              "solidity": 0.2
             }
            },
            "type": "barpolar"
           }
          ],
          "carpet": [
           {
            "aaxis": {
             "endlinecolor": "#2a3f5f",
             "gridcolor": "white",
             "linecolor": "white",
             "minorgridcolor": "white",
             "startlinecolor": "#2a3f5f"
            },
            "baxis": {
             "endlinecolor": "#2a3f5f",
             "gridcolor": "white",
             "linecolor": "white",
             "minorgridcolor": "white",
             "startlinecolor": "#2a3f5f"
            },
            "type": "carpet"
           }
          ],
          "choropleth": [
           {
            "colorbar": {
             "outlinewidth": 0,
             "ticks": ""
            },
            "type": "choropleth"
           }
          ],
          "contour": [
           {
            "colorbar": {
             "outlinewidth": 0,
             "ticks": ""
            },
            "colorscale": [
             [
              0,
              "#0d0887"
             ],
             [
              0.1111111111111111,
              "#46039f"
             ],
             [
              0.2222222222222222,
              "#7201a8"
             ],
             [
              0.3333333333333333,
              "#9c179e"
             ],
             [
              0.4444444444444444,
              "#bd3786"
             ],
             [
              0.5555555555555556,
              "#d8576b"
             ],
             [
              0.6666666666666666,
              "#ed7953"
             ],
             [
              0.7777777777777778,
              "#fb9f3a"
             ],
             [
              0.8888888888888888,
              "#fdca26"
             ],
             [
              1,
              "#f0f921"
             ]
            ],
            "type": "contour"
           }
          ],
          "contourcarpet": [
           {
            "colorbar": {
             "outlinewidth": 0,
             "ticks": ""
            },
            "type": "contourcarpet"
           }
          ],
          "heatmap": [
           {
            "colorbar": {
             "outlinewidth": 0,
             "ticks": ""
            },
            "colorscale": [
             [
              0,
              "#0d0887"
             ],
             [
              0.1111111111111111,
              "#46039f"
             ],
             [
              0.2222222222222222,
              "#7201a8"
             ],
             [
              0.3333333333333333,
              "#9c179e"
             ],
             [
              0.4444444444444444,
              "#bd3786"
             ],
             [
              0.5555555555555556,
              "#d8576b"
             ],
             [
              0.6666666666666666,
              "#ed7953"
             ],
             [
              0.7777777777777778,
              "#fb9f3a"
             ],
             [
              0.8888888888888888,
              "#fdca26"
             ],
             [
              1,
              "#f0f921"
             ]
            ],
            "type": "heatmap"
           }
          ],
          "heatmapgl": [
           {
            "colorbar": {
             "outlinewidth": 0,
             "ticks": ""
            },
            "colorscale": [
             [
              0,
              "#0d0887"
             ],
             [
              0.1111111111111111,
              "#46039f"
             ],
             [
              0.2222222222222222,
              "#7201a8"
             ],
             [
              0.3333333333333333,
              "#9c179e"
             ],
             [
              0.4444444444444444,
              "#bd3786"
             ],
             [
              0.5555555555555556,
              "#d8576b"
             ],
             [
              0.6666666666666666,
              "#ed7953"
             ],
             [
              0.7777777777777778,
              "#fb9f3a"
             ],
             [
              0.8888888888888888,
              "#fdca26"
             ],
             [
              1,
              "#f0f921"
             ]
            ],
            "type": "heatmapgl"
           }
          ],
          "histogram": [
           {
            "marker": {
             "pattern": {
              "fillmode": "overlay",
              "size": 10,
              "solidity": 0.2
             }
            },
            "type": "histogram"
           }
          ],
          "histogram2d": [
           {
            "colorbar": {
             "outlinewidth": 0,
             "ticks": ""
            },
            "colorscale": [
             [
              0,
              "#0d0887"
             ],
             [
              0.1111111111111111,
              "#46039f"
             ],
             [
              0.2222222222222222,
              "#7201a8"
             ],
             [
              0.3333333333333333,
              "#9c179e"
             ],
             [
              0.4444444444444444,
              "#bd3786"
             ],
             [
              0.5555555555555556,
              "#d8576b"
             ],
             [
              0.6666666666666666,
              "#ed7953"
             ],
             [
              0.7777777777777778,
              "#fb9f3a"
             ],
             [
              0.8888888888888888,
              "#fdca26"
             ],
             [
              1,
              "#f0f921"
             ]
            ],
            "type": "histogram2d"
           }
          ],
          "histogram2dcontour": [
           {
            "colorbar": {
             "outlinewidth": 0,
             "ticks": ""
            },
            "colorscale": [
             [
              0,
              "#0d0887"
             ],
             [
              0.1111111111111111,
              "#46039f"
             ],
             [
              0.2222222222222222,
              "#7201a8"
             ],
             [
              0.3333333333333333,
              "#9c179e"
             ],
             [
              0.4444444444444444,
              "#bd3786"
             ],
             [
              0.5555555555555556,
              "#d8576b"
             ],
             [
              0.6666666666666666,
              "#ed7953"
             ],
             [
              0.7777777777777778,
              "#fb9f3a"
             ],
             [
              0.8888888888888888,
              "#fdca26"
             ],
             [
              1,
              "#f0f921"
             ]
            ],
            "type": "histogram2dcontour"
           }
          ],
          "mesh3d": [
           {
            "colorbar": {
             "outlinewidth": 0,
             "ticks": ""
            },
            "type": "mesh3d"
           }
          ],
          "parcoords": [
           {
            "line": {
             "colorbar": {
              "outlinewidth": 0,
              "ticks": ""
             }
            },
            "type": "parcoords"
           }
          ],
          "pie": [
           {
            "automargin": true,
            "type": "pie"
           }
          ],
          "scatter": [
           {
            "fillpattern": {
             "fillmode": "overlay",
             "size": 10,
             "solidity": 0.2
            },
            "type": "scatter"
           }
          ],
          "scatter3d": [
           {
            "line": {
             "colorbar": {
              "outlinewidth": 0,
              "ticks": ""
             }
            },
            "marker": {
             "colorbar": {
              "outlinewidth": 0,
              "ticks": ""
             }
            },
            "type": "scatter3d"
           }
          ],
          "scattercarpet": [
           {
            "marker": {
             "colorbar": {
              "outlinewidth": 0,
              "ticks": ""
             }
            },
            "type": "scattercarpet"
           }
          ],
          "scattergeo": [
           {
            "marker": {
             "colorbar": {
              "outlinewidth": 0,
              "ticks": ""
             }
            },
            "type": "scattergeo"
           }
          ],
          "scattergl": [
           {
            "marker": {
             "colorbar": {
              "outlinewidth": 0,
              "ticks": ""
             }
            },
            "type": "scattergl"
           }
          ],
          "scattermapbox": [
           {
            "marker": {
             "colorbar": {
              "outlinewidth": 0,
              "ticks": ""
             }
            },
            "type": "scattermapbox"
           }
          ],
          "scatterpolar": [
           {
            "marker": {
             "colorbar": {
              "outlinewidth": 0,
              "ticks": ""
             }
            },
            "type": "scatterpolar"
           }
          ],
          "scatterpolargl": [
           {
            "marker": {
             "colorbar": {
              "outlinewidth": 0,
              "ticks": ""
             }
            },
            "type": "scatterpolargl"
           }
          ],
          "scatterternary": [
           {
            "marker": {
             "colorbar": {
              "outlinewidth": 0,
              "ticks": ""
             }
            },
            "type": "scatterternary"
           }
          ],
          "surface": [
           {
            "colorbar": {
             "outlinewidth": 0,
             "ticks": ""
            },
            "colorscale": [
             [
              0,
              "#0d0887"
             ],
             [
              0.1111111111111111,
              "#46039f"
             ],
             [
              0.2222222222222222,
              "#7201a8"
             ],
             [
              0.3333333333333333,
              "#9c179e"
             ],
             [
              0.4444444444444444,
              "#bd3786"
             ],
             [
              0.5555555555555556,
              "#d8576b"
             ],
             [
              0.6666666666666666,
              "#ed7953"
             ],
             [
              0.7777777777777778,
              "#fb9f3a"
             ],
             [
              0.8888888888888888,
              "#fdca26"
             ],
             [
              1,
              "#f0f921"
             ]
            ],
            "type": "surface"
           }
          ],
          "table": [
           {
            "cells": {
             "fill": {
              "color": "#EBF0F8"
             },
             "line": {
              "color": "white"
             }
            },
            "header": {
             "fill": {
              "color": "#C8D4E3"
             },
             "line": {
              "color": "white"
             }
            },
            "type": "table"
           }
          ]
         },
         "layout": {
          "annotationdefaults": {
           "arrowcolor": "#2a3f5f",
           "arrowhead": 0,
           "arrowwidth": 1
          },
          "autotypenumbers": "strict",
          "coloraxis": {
           "colorbar": {
            "outlinewidth": 0,
            "ticks": ""
           }
          },
          "colorscale": {
           "diverging": [
            [
             0,
             "#8e0152"
            ],
            [
             0.1,
             "#c51b7d"
            ],
            [
             0.2,
             "#de77ae"
            ],
            [
             0.3,
             "#f1b6da"
            ],
            [
             0.4,
             "#fde0ef"
            ],
            [
             0.5,
             "#f7f7f7"
            ],
            [
             0.6,
             "#e6f5d0"
            ],
            [
             0.7,
             "#b8e186"
            ],
            [
             0.8,
             "#7fbc41"
            ],
            [
             0.9,
             "#4d9221"
            ],
            [
             1,
             "#276419"
            ]
           ],
           "sequential": [
            [
             0,
             "#0d0887"
            ],
            [
             0.1111111111111111,
             "#46039f"
            ],
            [
             0.2222222222222222,
             "#7201a8"
            ],
            [
             0.3333333333333333,
             "#9c179e"
            ],
            [
             0.4444444444444444,
             "#bd3786"
            ],
            [
             0.5555555555555556,
             "#d8576b"
            ],
            [
             0.6666666666666666,
             "#ed7953"
            ],
            [
             0.7777777777777778,
             "#fb9f3a"
            ],
            [
             0.8888888888888888,
             "#fdca26"
            ],
            [
             1,
             "#f0f921"
            ]
           ],
           "sequentialminus": [
            [
             0,
             "#0d0887"
            ],
            [
             0.1111111111111111,
             "#46039f"
            ],
            [
             0.2222222222222222,
             "#7201a8"
            ],
            [
             0.3333333333333333,
             "#9c179e"
            ],
            [
             0.4444444444444444,
             "#bd3786"
            ],
            [
             0.5555555555555556,
             "#d8576b"
            ],
            [
             0.6666666666666666,
             "#ed7953"
            ],
            [
             0.7777777777777778,
             "#fb9f3a"
            ],
            [
             0.8888888888888888,
             "#fdca26"
            ],
            [
             1,
             "#f0f921"
            ]
           ]
          },
          "colorway": [
           "#636efa",
           "#EF553B",
           "#00cc96",
           "#ab63fa",
           "#FFA15A",
           "#19d3f3",
           "#FF6692",
           "#B6E880",
           "#FF97FF",
           "#FECB52"
          ],
          "font": {
           "color": "#2a3f5f"
          },
          "geo": {
           "bgcolor": "white",
           "lakecolor": "white",
           "landcolor": "#E5ECF6",
           "showlakes": true,
           "showland": true,
           "subunitcolor": "white"
          },
          "hoverlabel": {
           "align": "left"
          },
          "hovermode": "closest",
          "mapbox": {
           "style": "light"
          },
          "paper_bgcolor": "white",
          "plot_bgcolor": "#E5ECF6",
          "polar": {
           "angularaxis": {
            "gridcolor": "white",
            "linecolor": "white",
            "ticks": ""
           },
           "bgcolor": "#E5ECF6",
           "radialaxis": {
            "gridcolor": "white",
            "linecolor": "white",
            "ticks": ""
           }
          },
          "scene": {
           "xaxis": {
            "backgroundcolor": "#E5ECF6",
            "gridcolor": "white",
            "gridwidth": 2,
            "linecolor": "white",
            "showbackground": true,
            "ticks": "",
            "zerolinecolor": "white"
           },
           "yaxis": {
            "backgroundcolor": "#E5ECF6",
            "gridcolor": "white",
            "gridwidth": 2,
            "linecolor": "white",
            "showbackground": true,
            "ticks": "",
            "zerolinecolor": "white"
           },
           "zaxis": {
            "backgroundcolor": "#E5ECF6",
            "gridcolor": "white",
            "gridwidth": 2,
            "linecolor": "white",
            "showbackground": true,
            "ticks": "",
            "zerolinecolor": "white"
           }
          },
          "shapedefaults": {
           "line": {
            "color": "#2a3f5f"
           }
          },
          "ternary": {
           "aaxis": {
            "gridcolor": "white",
            "linecolor": "white",
            "ticks": ""
           },
           "baxis": {
            "gridcolor": "white",
            "linecolor": "white",
            "ticks": ""
           },
           "bgcolor": "#E5ECF6",
           "caxis": {
            "gridcolor": "white",
            "linecolor": "white",
            "ticks": ""
           }
          },
          "title": {
           "x": 0.05
          },
          "xaxis": {
           "automargin": true,
           "gridcolor": "white",
           "linecolor": "white",
           "ticks": "",
           "title": {
            "standoff": 15
           },
           "zerolinecolor": "white",
           "zerolinewidth": 2
          },
          "yaxis": {
           "automargin": true,
           "gridcolor": "white",
           "linecolor": "white",
           "ticks": "",
           "title": {
            "standoff": 15
           },
           "zerolinecolor": "white",
           "zerolinewidth": 2
          }
         }
        },
        "title": {
         "font": {
          "size": 16
         },
         "text": "Synonyms for DrugBank ID: DB00002"
        },
        "xaxis": {
         "autorange": true,
         "range": [
          -1.1344266606710742,
          0.8187309473287797
         ],
         "showgrid": false,
         "type": "linear",
         "zeroline": false
        },
        "yaxis": {
         "autorange": true,
         "range": [
          -0.9566919142846401,
          1.163524074738556
         ],
         "showgrid": false,
         "type": "linear",
         "zeroline": false
        }
       }
      },
      "text/html": [
       "<div>                            <div id=\"59d3a9ec-d907-47d6-9f31-ff4b471f12bd\" class=\"plotly-graph-div\" style=\"height:525px; width:100%;\"></div>            <script type=\"text/javascript\">                require([\"plotly\"], function(Plotly) {                    window.PLOTLYENV=window.PLOTLYENV || {};                                    if (document.getElementById(\"59d3a9ec-d907-47d6-9f31-ff4b471f12bd\")) {                    Plotly.newPlot(                        \"59d3a9ec-d907-47d6-9f31-ff4b471f12bd\",                        [{\"hoverinfo\":\"none\",\"line\":{\"color\":\"#888\",\"width\":0.5},\"mode\":\"lines\",\"x\":[0.0005974007760880747,0.3150983125662061,null,0.0005974007760880747,0.6843042866577054,null,0.0005974007760880747,-1.0,null],\"y\":[-0.0015530975629250523,0.9685780408485039,null,-0.0015530975629250523,-0.7617458803945878,null,-0.0015530975629250523,-0.2052790628909908,null],\"type\":\"scatter\"},{\"hoverinfo\":\"text\",\"marker\":{\"color\":\"lightblue\",\"line\":{\"width\":2},\"showscale\":false,\"size\":20},\"mode\":\"markers+text\",\"text\":[\"DB00002\",\"Cetuximab\",\"C\\u00e9tuximab\",\"Cetuximabum\"],\"textposition\":\"top center\",\"x\":[0.0005974007760880747,0.3150983125662061,0.6843042866577054,-1.0],\"y\":[-0.0015530975629250523,0.9685780408485039,-0.7617458803945878,-0.2052790628909908],\"type\":\"scatter\"}],                        {\"hovermode\":\"closest\",\"margin\":{\"b\":20,\"l\":5,\"r\":5,\"t\":40},\"showlegend\":false,\"title\":{\"font\":{\"size\":16},\"text\":\"Synonyms for DrugBank ID: DB00002\"},\"xaxis\":{\"showgrid\":false,\"zeroline\":false},\"yaxis\":{\"showgrid\":false,\"zeroline\":false},\"template\":{\"data\":{\"histogram2dcontour\":[{\"type\":\"histogram2dcontour\",\"colorbar\":{\"outlinewidth\":0,\"ticks\":\"\"},\"colorscale\":[[0.0,\"#0d0887\"],[0.1111111111111111,\"#46039f\"],[0.2222222222222222,\"#7201a8\"],[0.3333333333333333,\"#9c179e\"],[0.4444444444444444,\"#bd3786\"],[0.5555555555555556,\"#d8576b\"],[0.6666666666666666,\"#ed7953\"],[0.7777777777777778,\"#fb9f3a\"],[0.8888888888888888,\"#fdca26\"],[1.0,\"#f0f921\"]]}],\"choropleth\":[{\"type\":\"choropleth\",\"colorbar\":{\"outlinewidth\":0,\"ticks\":\"\"}}],\"histogram2d\":[{\"type\":\"histogram2d\",\"colorbar\":{\"outlinewidth\":0,\"ticks\":\"\"},\"colorscale\":[[0.0,\"#0d0887\"],[0.1111111111111111,\"#46039f\"],[0.2222222222222222,\"#7201a8\"],[0.3333333333333333,\"#9c179e\"],[0.4444444444444444,\"#bd3786\"],[0.5555555555555556,\"#d8576b\"],[0.6666666666666666,\"#ed7953\"],[0.7777777777777778,\"#fb9f3a\"],[0.8888888888888888,\"#fdca26\"],[1.0,\"#f0f921\"]]}],\"heatmap\":[{\"type\":\"heatmap\",\"colorbar\":{\"outlinewidth\":0,\"ticks\":\"\"},\"colorscale\":[[0.0,\"#0d0887\"],[0.1111111111111111,\"#46039f\"],[0.2222222222222222,\"#7201a8\"],[0.3333333333333333,\"#9c179e\"],[0.4444444444444444,\"#bd3786\"],[0.5555555555555556,\"#d8576b\"],[0.6666666666666666,\"#ed7953\"],[0.7777777777777778,\"#fb9f3a\"],[0.8888888888888888,\"#fdca26\"],[1.0,\"#f0f921\"]]}],\"heatmapgl\":[{\"type\":\"heatmapgl\",\"colorbar\":{\"outlinewidth\":0,\"ticks\":\"\"},\"colorscale\":[[0.0,\"#0d0887\"],[0.1111111111111111,\"#46039f\"],[0.2222222222222222,\"#7201a8\"],[0.3333333333333333,\"#9c179e\"],[0.4444444444444444,\"#bd3786\"],[0.5555555555555556,\"#d8576b\"],[0.6666666666666666,\"#ed7953\"],[0.7777777777777778,\"#fb9f3a\"],[0.8888888888888888,\"#fdca26\"],[1.0,\"#f0f921\"]]}],\"contourcarpet\":[{\"type\":\"contourcarpet\",\"colorbar\":{\"outlinewidth\":0,\"ticks\":\"\"}}],\"contour\":[{\"type\":\"contour\",\"colorbar\":{\"outlinewidth\":0,\"ticks\":\"\"},\"colorscale\":[[0.0,\"#0d0887\"],[0.1111111111111111,\"#46039f\"],[0.2222222222222222,\"#7201a8\"],[0.3333333333333333,\"#9c179e\"],[0.4444444444444444,\"#bd3786\"],[0.5555555555555556,\"#d8576b\"],[0.6666666666666666,\"#ed7953\"],[0.7777777777777778,\"#fb9f3a\"],[0.8888888888888888,\"#fdca26\"],[1.0,\"#f0f921\"]]}],\"surface\":[{\"type\":\"surface\",\"colorbar\":{\"outlinewidth\":0,\"ticks\":\"\"},\"colorscale\":[[0.0,\"#0d0887\"],[0.1111111111111111,\"#46039f\"],[0.2222222222222222,\"#7201a8\"],[0.3333333333333333,\"#9c179e\"],[0.4444444444444444,\"#bd3786\"],[0.5555555555555556,\"#d8576b\"],[0.6666666666666666,\"#ed7953\"],[0.7777777777777778,\"#fb9f3a\"],[0.8888888888888888,\"#fdca26\"],[1.0,\"#f0f921\"]]}],\"mesh3d\":[{\"type\":\"mesh3d\",\"colorbar\":{\"outlinewidth\":0,\"ticks\":\"\"}}],\"scatter\":[{\"fillpattern\":{\"fillmode\":\"overlay\",\"size\":10,\"solidity\":0.2},\"type\":\"scatter\"}],\"parcoords\":[{\"type\":\"parcoords\",\"line\":{\"colorbar\":{\"outlinewidth\":0,\"ticks\":\"\"}}}],\"scatterpolargl\":[{\"type\":\"scatterpolargl\",\"marker\":{\"colorbar\":{\"outlinewidth\":0,\"ticks\":\"\"}}}],\"bar\":[{\"error_x\":{\"color\":\"#2a3f5f\"},\"error_y\":{\"color\":\"#2a3f5f\"},\"marker\":{\"line\":{\"color\":\"#E5ECF6\",\"width\":0.5},\"pattern\":{\"fillmode\":\"overlay\",\"size\":10,\"solidity\":0.2}},\"type\":\"bar\"}],\"scattergeo\":[{\"type\":\"scattergeo\",\"marker\":{\"colorbar\":{\"outlinewidth\":0,\"ticks\":\"\"}}}],\"scatterpolar\":[{\"type\":\"scatterpolar\",\"marker\":{\"colorbar\":{\"outlinewidth\":0,\"ticks\":\"\"}}}],\"histogram\":[{\"marker\":{\"pattern\":{\"fillmode\":\"overlay\",\"size\":10,\"solidity\":0.2}},\"type\":\"histogram\"}],\"scattergl\":[{\"type\":\"scattergl\",\"marker\":{\"colorbar\":{\"outlinewidth\":0,\"ticks\":\"\"}}}],\"scatter3d\":[{\"type\":\"scatter3d\",\"line\":{\"colorbar\":{\"outlinewidth\":0,\"ticks\":\"\"}},\"marker\":{\"colorbar\":{\"outlinewidth\":0,\"ticks\":\"\"}}}],\"scattermapbox\":[{\"type\":\"scattermapbox\",\"marker\":{\"colorbar\":{\"outlinewidth\":0,\"ticks\":\"\"}}}],\"scatterternary\":[{\"type\":\"scatterternary\",\"marker\":{\"colorbar\":{\"outlinewidth\":0,\"ticks\":\"\"}}}],\"scattercarpet\":[{\"type\":\"scattercarpet\",\"marker\":{\"colorbar\":{\"outlinewidth\":0,\"ticks\":\"\"}}}],\"carpet\":[{\"aaxis\":{\"endlinecolor\":\"#2a3f5f\",\"gridcolor\":\"white\",\"linecolor\":\"white\",\"minorgridcolor\":\"white\",\"startlinecolor\":\"#2a3f5f\"},\"baxis\":{\"endlinecolor\":\"#2a3f5f\",\"gridcolor\":\"white\",\"linecolor\":\"white\",\"minorgridcolor\":\"white\",\"startlinecolor\":\"#2a3f5f\"},\"type\":\"carpet\"}],\"table\":[{\"cells\":{\"fill\":{\"color\":\"#EBF0F8\"},\"line\":{\"color\":\"white\"}},\"header\":{\"fill\":{\"color\":\"#C8D4E3\"},\"line\":{\"color\":\"white\"}},\"type\":\"table\"}],\"barpolar\":[{\"marker\":{\"line\":{\"color\":\"#E5ECF6\",\"width\":0.5},\"pattern\":{\"fillmode\":\"overlay\",\"size\":10,\"solidity\":0.2}},\"type\":\"barpolar\"}],\"pie\":[{\"automargin\":true,\"type\":\"pie\"}]},\"layout\":{\"autotypenumbers\":\"strict\",\"colorway\":[\"#636efa\",\"#EF553B\",\"#00cc96\",\"#ab63fa\",\"#FFA15A\",\"#19d3f3\",\"#FF6692\",\"#B6E880\",\"#FF97FF\",\"#FECB52\"],\"font\":{\"color\":\"#2a3f5f\"},\"hovermode\":\"closest\",\"hoverlabel\":{\"align\":\"left\"},\"paper_bgcolor\":\"white\",\"plot_bgcolor\":\"#E5ECF6\",\"polar\":{\"bgcolor\":\"#E5ECF6\",\"angularaxis\":{\"gridcolor\":\"white\",\"linecolor\":\"white\",\"ticks\":\"\"},\"radialaxis\":{\"gridcolor\":\"white\",\"linecolor\":\"white\",\"ticks\":\"\"}},\"ternary\":{\"bgcolor\":\"#E5ECF6\",\"aaxis\":{\"gridcolor\":\"white\",\"linecolor\":\"white\",\"ticks\":\"\"},\"baxis\":{\"gridcolor\":\"white\",\"linecolor\":\"white\",\"ticks\":\"\"},\"caxis\":{\"gridcolor\":\"white\",\"linecolor\":\"white\",\"ticks\":\"\"}},\"coloraxis\":{\"colorbar\":{\"outlinewidth\":0,\"ticks\":\"\"}},\"colorscale\":{\"sequential\":[[0.0,\"#0d0887\"],[0.1111111111111111,\"#46039f\"],[0.2222222222222222,\"#7201a8\"],[0.3333333333333333,\"#9c179e\"],[0.4444444444444444,\"#bd3786\"],[0.5555555555555556,\"#d8576b\"],[0.6666666666666666,\"#ed7953\"],[0.7777777777777778,\"#fb9f3a\"],[0.8888888888888888,\"#fdca26\"],[1.0,\"#f0f921\"]],\"sequentialminus\":[[0.0,\"#0d0887\"],[0.1111111111111111,\"#46039f\"],[0.2222222222222222,\"#7201a8\"],[0.3333333333333333,\"#9c179e\"],[0.4444444444444444,\"#bd3786\"],[0.5555555555555556,\"#d8576b\"],[0.6666666666666666,\"#ed7953\"],[0.7777777777777778,\"#fb9f3a\"],[0.8888888888888888,\"#fdca26\"],[1.0,\"#f0f921\"]],\"diverging\":[[0,\"#8e0152\"],[0.1,\"#c51b7d\"],[0.2,\"#de77ae\"],[0.3,\"#f1b6da\"],[0.4,\"#fde0ef\"],[0.5,\"#f7f7f7\"],[0.6,\"#e6f5d0\"],[0.7,\"#b8e186\"],[0.8,\"#7fbc41\"],[0.9,\"#4d9221\"],[1,\"#276419\"]]},\"xaxis\":{\"gridcolor\":\"white\",\"linecolor\":\"white\",\"ticks\":\"\",\"title\":{\"standoff\":15},\"zerolinecolor\":\"white\",\"automargin\":true,\"zerolinewidth\":2},\"yaxis\":{\"gridcolor\":\"white\",\"linecolor\":\"white\",\"ticks\":\"\",\"title\":{\"standoff\":15},\"zerolinecolor\":\"white\",\"automargin\":true,\"zerolinewidth\":2},\"scene\":{\"xaxis\":{\"backgroundcolor\":\"#E5ECF6\",\"gridcolor\":\"white\",\"linecolor\":\"white\",\"showbackground\":true,\"ticks\":\"\",\"zerolinecolor\":\"white\",\"gridwidth\":2},\"yaxis\":{\"backgroundcolor\":\"#E5ECF6\",\"gridcolor\":\"white\",\"linecolor\":\"white\",\"showbackground\":true,\"ticks\":\"\",\"zerolinecolor\":\"white\",\"gridwidth\":2},\"zaxis\":{\"backgroundcolor\":\"#E5ECF6\",\"gridcolor\":\"white\",\"linecolor\":\"white\",\"showbackground\":true,\"ticks\":\"\",\"zerolinecolor\":\"white\",\"gridwidth\":2}},\"shapedefaults\":{\"line\":{\"color\":\"#2a3f5f\"}},\"annotationdefaults\":{\"arrowcolor\":\"#2a3f5f\",\"arrowhead\":0,\"arrowwidth\":1},\"geo\":{\"bgcolor\":\"white\",\"landcolor\":\"#E5ECF6\",\"subunitcolor\":\"white\",\"showland\":true,\"showlakes\":true,\"lakecolor\":\"white\"},\"title\":{\"x\":0.05},\"mapbox\":{\"style\":\"light\"}}}},                        {\"responsive\": true}                    ).then(function(){\n",
       "                            \n",
       "var gd = document.getElementById('59d3a9ec-d907-47d6-9f31-ff4b471f12bd');\n",
       "var x = new MutationObserver(function (mutations, observer) {{\n",
       "        var display = window.getComputedStyle(gd).display;\n",
       "        if (!display || display === 'none') {{\n",
       "            console.log([gd, 'removed!']);\n",
       "            Plotly.purge(gd);\n",
       "            observer.disconnect();\n",
       "        }}\n",
       "}});\n",
       "\n",
       "// Listen for the removal of the full notebook cells\n",
       "var notebookContainer = gd.closest('#notebook-container');\n",
       "if (notebookContainer) {{\n",
       "    x.observe(notebookContainer, {childList: true});\n",
       "}}\n",
       "\n",
       "// Listen for the clearing of the current output cell\n",
       "var outputEl = gd.closest('.output');\n",
       "if (outputEl) {{\n",
       "    x.observe(outputEl, {childList: true});\n",
       "}}\n",
       "\n",
       "                        })                };                });            </script>        </div>"
      ]
     },
     "metadata": {},
     "output_type": "display_data"
    }
   ],
   "source": [
    "# 2)\n",
    "import pandas as pd\n",
    "import xml.etree.ElementTree as ET\n",
    "import networkx as nx\n",
    "import plotly.graph_objects as go\n",
    "\n",
    "def extract_synonyms(df):\n",
    "    columns = [\n",
    "        'drugbank_id', 'synonyms'\n",
    "    ]\n",
    "    synonyms_df = df[columns].copy()\n",
    "    return synonyms_df\n",
    "\n",
    "def plot_synonyms_graph(df, drugbank_id):\n",
    "    # Find the synonyms for the given DrugBank ID\n",
    "    df_work = extract_synonyms(df)\n",
    "    synonyms = df_work.loc[df['drugbank_id'] == drugbank_id, 'synonyms'].values\n",
    "    if len(synonyms) == 0:\n",
    "        print(f\"No synonyms found for DrugBank ID: {drugbank_id}\")\n",
    "        return\n",
    "\n",
    "    synonyms = synonyms[0]\n",
    "\n",
    "    # Create a graph\n",
    "    G = nx.Graph()\n",
    "\n",
    "    # Add nodes and edges\n",
    "    G.add_node(drugbank_id)\n",
    "    for synonym in synonyms:\n",
    "        G.add_node(synonym)\n",
    "        G.add_edge(drugbank_id, synonym)\n",
    "\n",
    "    # Get positions for nodes\n",
    "    pos = nx.spring_layout(G)\n",
    "\n",
    "    # Create Plotly graph objects\n",
    "    edge_x = []\n",
    "    edge_y = []\n",
    "    for edge in G.edges():\n",
    "        x0, y0 = pos[edge[0]]\n",
    "        x1, y1 = pos[edge[1]]\n",
    "        edge_x.append(x0)\n",
    "        edge_x.append(x1)\n",
    "        edge_x.append(None)\n",
    "        edge_y.append(y0)\n",
    "        edge_y.append(y1)\n",
    "        edge_y.append(None)\n",
    "\n",
    "    edge_trace = go.Scatter(\n",
    "        x=edge_x, y=edge_y,\n",
    "        line=dict(width=0.5, color='#888'),\n",
    "        hoverinfo='none',\n",
    "        mode='lines')\n",
    "\n",
    "    node_x = []\n",
    "    node_y = []\n",
    "    for node in G.nodes():\n",
    "        x, y = pos[node]\n",
    "        node_x.append(x)\n",
    "        node_y.append(y)\n",
    "\n",
    "    node_trace = go.Scatter(\n",
    "        x=node_x, y=node_y,\n",
    "        mode='markers+text',\n",
    "        text=list(G.nodes()),\n",
    "        textposition=\"top center\",\n",
    "        hoverinfo='text',\n",
    "        marker=dict(\n",
    "            showscale=False,\n",
    "            color=\"lightblue\",\n",
    "            size=20,\n",
    "            line_width=2))\n",
    "\n",
    "    fig = go.Figure(data=[edge_trace, node_trace],\n",
    "                    layout=go.Layout(\n",
    "                        title=f'Synonyms for DrugBank ID: {drugbank_id}',\n",
    "                        titlefont_size=16,\n",
    "                        showlegend=False,\n",
    "                        hovermode='closest',\n",
    "                        margin=dict(b=20,l=5,r=5,t=40),\n",
    "                        xaxis=dict(showgrid=False, zeroline=False),\n",
    "                        yaxis=dict(showgrid=False, zeroline=False))\n",
    "                    )\n",
    "    fig.show()\n",
    "\n",
    "# Usage\n",
    "df2 = parse_drugbank_xml(xml_file_path)\n",
    "print(df2.head())\n",
    "\n",
    "# Plot synonyms graph for a given DrugBank ID\n",
    "plot_synonyms_graph(df2, \"DB00002\")"
   ]
  },
  {
   "cell_type": "code",
   "execution_count": 14,
   "id": "a59128f9-cde2-4afc-bb80-af97fd5720de",
   "metadata": {},
   "outputs": [
    {
     "data": {
      "text/html": [
       "<div>\n",
       "<style scoped>\n",
       "    .dataframe tbody tr th:only-of-type {\n",
       "        vertical-align: middle;\n",
       "    }\n",
       "\n",
       "    .dataframe tbody tr th {\n",
       "        vertical-align: top;\n",
       "    }\n",
       "\n",
       "    .dataframe thead th {\n",
       "        text-align: right;\n",
       "    }\n",
       "</style>\n",
       "<table border=\"1\" class=\"dataframe\">\n",
       "  <thead>\n",
       "    <tr style=\"text-align: right;\">\n",
       "      <th></th>\n",
       "      <th>drug_id</th>\n",
       "      <th>name</th>\n",
       "      <th>manufacturer</th>\n",
       "      <th>national_drug_code</th>\n",
       "      <th>form</th>\n",
       "      <th>route_of_administration</th>\n",
       "      <th>dose_information</th>\n",
       "      <th>country</th>\n",
       "      <th>regulatory_agency</th>\n",
       "    </tr>\n",
       "  </thead>\n",
       "  <tbody>\n",
       "    <tr>\n",
       "      <th>0</th>\n",
       "      <td>DB00001</td>\n",
       "      <td>Lepirudin</td>\n",
       "      <td>[Bayer, Celgene Europe Limited]</td>\n",
       "      <td>[50419-150, None]</td>\n",
       "      <td>[Injection, powder, for suspension, Injection,...</td>\n",
       "      <td>[Intravenous]</td>\n",
       "      <td>[50 mg, 20 mg, None, 50 mg/1mL, 50 mg / vial]</td>\n",
       "      <td>[US, Canada, EU]</td>\n",
       "      <td>[FDA NDC, DPD, EMA]</td>\n",
       "    </tr>\n",
       "    <tr>\n",
       "      <th>1</th>\n",
       "      <td>DB00002</td>\n",
       "      <td>Cetuximab</td>\n",
       "      <td>[ImClone LLC, Imclone, Llc, Merck Europe B.V.]</td>\n",
       "      <td>[66733-948, 66733-958, None]</td>\n",
       "      <td>[Injection, Injection, solution, Solution]</td>\n",
       "      <td>[Intravenous, Intravenous; Parenteral]</td>\n",
       "      <td>[None, 5 mg/ml, 5 MG/ML, 2 mg/1mL, 2 mg / mL, ...</td>\n",
       "      <td>[US, Canada, EU]</td>\n",
       "      <td>[FDA NDC, DPD, EMA]</td>\n",
       "    </tr>\n",
       "    <tr>\n",
       "      <th>2</th>\n",
       "      <td>DB00003</td>\n",
       "      <td>Dornase alfa</td>\n",
       "      <td>[Genentech, Inc., Hoffmann La Roche]</td>\n",
       "      <td>[50242-100, None]</td>\n",
       "      <td>[Aerosol, spray, Solution]</td>\n",
       "      <td>[Respiratory (inhalation)]</td>\n",
       "      <td>[2.5 mg, 1 mg/1mL, 1 mg / mL, 2.5 mg/2.5ml, No...</td>\n",
       "      <td>[US, Canada]</td>\n",
       "      <td>[FDA NDC, DPD]</td>\n",
       "    </tr>\n",
       "    <tr>\n",
       "      <th>3</th>\n",
       "      <td>DB00004</td>\n",
       "      <td>Denileukin diftitox</td>\n",
       "      <td>[Eisai Limited]</td>\n",
       "      <td>[62856-603]</td>\n",
       "      <td>[Injection, solution]</td>\n",
       "      <td>[Intravenous]</td>\n",
       "      <td>[150 ug/1mL]</td>\n",
       "      <td>[US]</td>\n",
       "      <td>[FDA NDC]</td>\n",
       "    </tr>\n",
       "    <tr>\n",
       "      <th>4</th>\n",
       "      <td>DB00005</td>\n",
       "      <td>Etanercept</td>\n",
       "      <td>[Samsung Bioepis Nl B.V., Samsung Bioepis Co.,...</td>\n",
       "      <td>[None, 54868-5444, 54868-4782, 50090-3531, 500...</td>\n",
       "      <td>[Injection, solution, Injection, Injection, po...</td>\n",
       "      <td>[Parenteral, Subcutaneous, Parenteral; Subcuta...</td>\n",
       "      <td>[25 MG, 50 MG, None, 10 MG, 25 MG/ML, 25 mg/1m...</td>\n",
       "      <td>[EU, Canada, US]</td>\n",
       "      <td>[EMA, DPD, FDA NDC]</td>\n",
       "    </tr>\n",
       "    <tr>\n",
       "      <th>...</th>\n",
       "      <td>...</td>\n",
       "      <td>...</td>\n",
       "      <td>...</td>\n",
       "      <td>...</td>\n",
       "      <td>...</td>\n",
       "      <td>...</td>\n",
       "      <td>...</td>\n",
       "      <td>...</td>\n",
       "      <td>...</td>\n",
       "    </tr>\n",
       "    <tr>\n",
       "      <th>95</th>\n",
       "      <td>DB00104</td>\n",
       "      <td>Octreotide</td>\n",
       "      <td>[Sun Pharmaceutical Industries, Inc., Amryt Ph...</td>\n",
       "      <td>[62756-452, 69880-120, 10122-550, None, 63323-...</td>\n",
       "      <td>[Injection, Solution, Injection, powder, for s...</td>\n",
       "      <td>[Subcutaneous, Parenteral, None, Oral, Intrave...</td>\n",
       "      <td>[2.5 mg/1mL, 1 mg, 1.000 mg, 10 MG/2ML, 10 MG,...</td>\n",
       "      <td>[US, EU, Canada]</td>\n",
       "      <td>[FDA NDC, EMA, DPD]</td>\n",
       "    </tr>\n",
       "    <tr>\n",
       "      <th>96</th>\n",
       "      <td>DB00105</td>\n",
       "      <td>Interferon alfa-2b</td>\n",
       "      <td>[Merck Sharp &amp; Dohme Limited, Schering-Plough ...</td>\n",
       "      <td>[0085-0571, 0085-1110, 0085-0539, 0085-1242, 0...</td>\n",
       "      <td>[Injection, powder, lyophilized, for solution,...</td>\n",
       "      <td>[None, Intralesional; Intramuscular; Intraveno...</td>\n",
       "      <td>[0.3 mg, 10 MIU/1vial, 3 miu/1vial, 5 miu/1via...</td>\n",
       "      <td>[US, Canada, EU]</td>\n",
       "      <td>[FDA NDC, DPD, EMA]</td>\n",
       "    </tr>\n",
       "    <tr>\n",
       "      <th>97</th>\n",
       "      <td>DB00106</td>\n",
       "      <td>Abarelix</td>\n",
       "      <td>None</td>\n",
       "      <td>None</td>\n",
       "      <td>None</td>\n",
       "      <td>None</td>\n",
       "      <td>None</td>\n",
       "      <td>None</td>\n",
       "      <td>None</td>\n",
       "    </tr>\n",
       "    <tr>\n",
       "      <th>98</th>\n",
       "      <td>DB00107</td>\n",
       "      <td>Oxytocin</td>\n",
       "      <td>[DS LABORATORIES, INC., Teva Parenteral Medici...</td>\n",
       "      <td>[58798-001, 58798-002, 0703-6271, 0703-6275, 5...</td>\n",
       "      <td>[Liquid, Solution, Injection, solution, Inject...</td>\n",
       "      <td>[Topical, Intravenous, Intramuscular; Intraven...</td>\n",
       "      <td>[None, 10.00 UI, 5 iu/ml, 16.7 MICROGRAMMI/ML,...</td>\n",
       "      <td>[US, Canada]</td>\n",
       "      <td>[FDA NDC, DPD]</td>\n",
       "    </tr>\n",
       "    <tr>\n",
       "      <th>99</th>\n",
       "      <td>DB00108</td>\n",
       "      <td>Natalizumab</td>\n",
       "      <td>[Elan Pharmaceuticals, Biogen Inc., Biogen, Bi...</td>\n",
       "      <td>[59075-730, 64406-008, None]</td>\n",
       "      <td>[Injection, solution, concentrate, Injection, ...</td>\n",
       "      <td>[Intravenous, Subcutaneous, Intravenous; Paren...</td>\n",
       "      <td>[300 mg, 300 mg/15mL, 150 MG, 150 mg, 300 MG, ...</td>\n",
       "      <td>[US, Canada, EU]</td>\n",
       "      <td>[FDA NDC, DPD, EMA]</td>\n",
       "    </tr>\n",
       "  </tbody>\n",
       "</table>\n",
       "<p>100 rows × 9 columns</p>\n",
       "</div>"
      ],
      "text/plain": [
       "    drug_id                 name  \\\n",
       "0   DB00001            Lepirudin   \n",
       "1   DB00002            Cetuximab   \n",
       "2   DB00003         Dornase alfa   \n",
       "3   DB00004  Denileukin diftitox   \n",
       "4   DB00005           Etanercept   \n",
       "..      ...                  ...   \n",
       "95  DB00104           Octreotide   \n",
       "96  DB00105   Interferon alfa-2b   \n",
       "97  DB00106             Abarelix   \n",
       "98  DB00107             Oxytocin   \n",
       "99  DB00108          Natalizumab   \n",
       "\n",
       "                                         manufacturer  \\\n",
       "0                     [Bayer, Celgene Europe Limited]   \n",
       "1      [ImClone LLC, Imclone, Llc, Merck Europe B.V.]   \n",
       "2                [Genentech, Inc., Hoffmann La Roche]   \n",
       "3                                     [Eisai Limited]   \n",
       "4   [Samsung Bioepis Nl B.V., Samsung Bioepis Co.,...   \n",
       "..                                                ...   \n",
       "95  [Sun Pharmaceutical Industries, Inc., Amryt Ph...   \n",
       "96  [Merck Sharp & Dohme Limited, Schering-Plough ...   \n",
       "97                                               None   \n",
       "98  [DS LABORATORIES, INC., Teva Parenteral Medici...   \n",
       "99  [Elan Pharmaceuticals, Biogen Inc., Biogen, Bi...   \n",
       "\n",
       "                                   national_drug_code  \\\n",
       "0                                   [50419-150, None]   \n",
       "1                        [66733-948, 66733-958, None]   \n",
       "2                                   [50242-100, None]   \n",
       "3                                         [62856-603]   \n",
       "4   [None, 54868-5444, 54868-4782, 50090-3531, 500...   \n",
       "..                                                ...   \n",
       "95  [62756-452, 69880-120, 10122-550, None, 63323-...   \n",
       "96  [0085-0571, 0085-1110, 0085-0539, 0085-1242, 0...   \n",
       "97                                               None   \n",
       "98  [58798-001, 58798-002, 0703-6271, 0703-6275, 5...   \n",
       "99                       [59075-730, 64406-008, None]   \n",
       "\n",
       "                                                 form  \\\n",
       "0   [Injection, powder, for suspension, Injection,...   \n",
       "1          [Injection, Injection, solution, Solution]   \n",
       "2                          [Aerosol, spray, Solution]   \n",
       "3                               [Injection, solution]   \n",
       "4   [Injection, solution, Injection, Injection, po...   \n",
       "..                                                ...   \n",
       "95  [Injection, Solution, Injection, powder, for s...   \n",
       "96  [Injection, powder, lyophilized, for solution,...   \n",
       "97                                               None   \n",
       "98  [Liquid, Solution, Injection, solution, Inject...   \n",
       "99  [Injection, solution, concentrate, Injection, ...   \n",
       "\n",
       "                              route_of_administration  \\\n",
       "0                                       [Intravenous]   \n",
       "1              [Intravenous, Intravenous; Parenteral]   \n",
       "2                          [Respiratory (inhalation)]   \n",
       "3                                       [Intravenous]   \n",
       "4   [Parenteral, Subcutaneous, Parenteral; Subcuta...   \n",
       "..                                                ...   \n",
       "95  [Subcutaneous, Parenteral, None, Oral, Intrave...   \n",
       "96  [None, Intralesional; Intramuscular; Intraveno...   \n",
       "97                                               None   \n",
       "98  [Topical, Intravenous, Intramuscular; Intraven...   \n",
       "99  [Intravenous, Subcutaneous, Intravenous; Paren...   \n",
       "\n",
       "                                     dose_information           country  \\\n",
       "0       [50 mg, 20 mg, None, 50 mg/1mL, 50 mg / vial]  [US, Canada, EU]   \n",
       "1   [None, 5 mg/ml, 5 MG/ML, 2 mg/1mL, 2 mg / mL, ...  [US, Canada, EU]   \n",
       "2   [2.5 mg, 1 mg/1mL, 1 mg / mL, 2.5 mg/2.5ml, No...      [US, Canada]   \n",
       "3                                        [150 ug/1mL]              [US]   \n",
       "4   [25 MG, 50 MG, None, 10 MG, 25 MG/ML, 25 mg/1m...  [EU, Canada, US]   \n",
       "..                                                ...               ...   \n",
       "95  [2.5 mg/1mL, 1 mg, 1.000 mg, 10 MG/2ML, 10 MG,...  [US, EU, Canada]   \n",
       "96  [0.3 mg, 10 MIU/1vial, 3 miu/1vial, 5 miu/1via...  [US, Canada, EU]   \n",
       "97                                               None              None   \n",
       "98  [None, 10.00 UI, 5 iu/ml, 16.7 MICROGRAMMI/ML,...      [US, Canada]   \n",
       "99  [300 mg, 300 mg/15mL, 150 MG, 150 mg, 300 MG, ...  [US, Canada, EU]   \n",
       "\n",
       "      regulatory_agency  \n",
       "0   [FDA NDC, DPD, EMA]  \n",
       "1   [FDA NDC, DPD, EMA]  \n",
       "2        [FDA NDC, DPD]  \n",
       "3             [FDA NDC]  \n",
       "4   [EMA, DPD, FDA NDC]  \n",
       "..                  ...  \n",
       "95  [FDA NDC, EMA, DPD]  \n",
       "96  [FDA NDC, DPD, EMA]  \n",
       "97                 None  \n",
       "98       [FDA NDC, DPD]  \n",
       "99  [FDA NDC, DPD, EMA]  \n",
       "\n",
       "[100 rows x 9 columns]"
      ]
     },
     "execution_count": 14,
     "metadata": {},
     "output_type": "execute_result"
    }
   ],
   "source": [
    "# 3)\n",
    "def extract_product_info(df):\n",
    "    columns = [\n",
    "        'drug_id', 'name', 'manufacturer', 'national_drug_code',\n",
    "        'form', 'route_of_administration', 'dose_information', \n",
    "        'country', 'regulatory_agency'\n",
    "    ]\n",
    "    product_info_df = df[columns].copy()\n",
    "    return product_info_df\n",
    "    \n",
    "new_df = extract_product_info(df_main)\n",
    "new_df"
   ]
  },
  {
   "cell_type": "code",
   "execution_count": 15,
   "id": "4e5372d7-47bb-431a-a927-db4671190f66",
   "metadata": {},
   "outputs": [
    {
     "name": "stdout",
     "output_type": "stream",
     "text": [
      "Total number of distinct pathways: 12\n"
     ]
    },
    {
     "data": {
      "text/html": [
       "<div>\n",
       "<style scoped>\n",
       "    .dataframe tbody tr th:only-of-type {\n",
       "        vertical-align: middle;\n",
       "    }\n",
       "\n",
       "    .dataframe tbody tr th {\n",
       "        vertical-align: top;\n",
       "    }\n",
       "\n",
       "    .dataframe thead th {\n",
       "        text-align: right;\n",
       "    }\n",
       "</style>\n",
       "<table border=\"1\" class=\"dataframe\">\n",
       "  <thead>\n",
       "    <tr style=\"text-align: right;\">\n",
       "      <th></th>\n",
       "      <th>drugbank_id</th>\n",
       "      <th>name</th>\n",
       "      <th>pathway_name</th>\n",
       "    </tr>\n",
       "  </thead>\n",
       "  <tbody>\n",
       "    <tr>\n",
       "      <th>0</th>\n",
       "      <td>DB00001</td>\n",
       "      <td>Lepirudin</td>\n",
       "      <td>Lepirudin Action Pathway</td>\n",
       "    </tr>\n",
       "    <tr>\n",
       "      <th>1</th>\n",
       "      <td>DB00002</td>\n",
       "      <td>Cetuximab</td>\n",
       "      <td>Cetuximab Action Pathway</td>\n",
       "    </tr>\n",
       "    <tr>\n",
       "      <th>5</th>\n",
       "      <td>DB00006</td>\n",
       "      <td>Bivalirudin</td>\n",
       "      <td>Bivalirudin Action Pathway</td>\n",
       "    </tr>\n",
       "    <tr>\n",
       "      <th>8</th>\n",
       "      <td>DB00009</td>\n",
       "      <td>Alteplase</td>\n",
       "      <td>Alteplase Action Pathway</td>\n",
       "    </tr>\n",
       "    <tr>\n",
       "      <th>12</th>\n",
       "      <td>DB00013</td>\n",
       "      <td>Urokinase</td>\n",
       "      <td>Urokinase Action Pathway</td>\n",
       "    </tr>\n",
       "    <tr>\n",
       "      <th>14</th>\n",
       "      <td>DB00015</td>\n",
       "      <td>Reteplase</td>\n",
       "      <td>Reteplase Action Pathway</td>\n",
       "    </tr>\n",
       "    <tr>\n",
       "      <th>27</th>\n",
       "      <td>DB00029</td>\n",
       "      <td>Anistreplase</td>\n",
       "      <td>Anistreplase Action Pathway</td>\n",
       "    </tr>\n",
       "    <tr>\n",
       "      <th>29</th>\n",
       "      <td>DB00031</td>\n",
       "      <td>Tenecteplase</td>\n",
       "      <td>Tenecteplase Action Pathway</td>\n",
       "    </tr>\n",
       "    <tr>\n",
       "      <th>51</th>\n",
       "      <td>DB00054</td>\n",
       "      <td>Abciximab</td>\n",
       "      <td>Abciximab Action Pathway</td>\n",
       "    </tr>\n",
       "    <tr>\n",
       "      <th>60</th>\n",
       "      <td>DB00063</td>\n",
       "      <td>Eptifibatide</td>\n",
       "      <td>Eptifibatide Action Pathway</td>\n",
       "    </tr>\n",
       "    <tr>\n",
       "      <th>68</th>\n",
       "      <td>DB00072</td>\n",
       "      <td>Trastuzumab</td>\n",
       "      <td>Trastuzumab Action Pathway</td>\n",
       "    </tr>\n",
       "    <tr>\n",
       "      <th>79</th>\n",
       "      <td>DB00086</td>\n",
       "      <td>Streptokinase</td>\n",
       "      <td>Streptokinase Action Pathway</td>\n",
       "    </tr>\n",
       "  </tbody>\n",
       "</table>\n",
       "</div>"
      ],
      "text/plain": [
       "   drugbank_id           name                  pathway_name\n",
       "0      DB00001      Lepirudin      Lepirudin Action Pathway\n",
       "1      DB00002      Cetuximab      Cetuximab Action Pathway\n",
       "5      DB00006    Bivalirudin    Bivalirudin Action Pathway\n",
       "8      DB00009      Alteplase      Alteplase Action Pathway\n",
       "12     DB00013      Urokinase      Urokinase Action Pathway\n",
       "14     DB00015      Reteplase      Reteplase Action Pathway\n",
       "27     DB00029   Anistreplase   Anistreplase Action Pathway\n",
       "29     DB00031   Tenecteplase   Tenecteplase Action Pathway\n",
       "51     DB00054      Abciximab      Abciximab Action Pathway\n",
       "60     DB00063   Eptifibatide   Eptifibatide Action Pathway\n",
       "68     DB00072    Trastuzumab    Trastuzumab Action Pathway\n",
       "79     DB00086  Streptokinase  Streptokinase Action Pathway"
      ]
     },
     "execution_count": 15,
     "metadata": {},
     "output_type": "execute_result"
    }
   ],
   "source": [
    "# 4) if 'szlaki' to pathways\n",
    "import pandas as pd\n",
    "def extract_pathway(df):\n",
    "    columns = [\n",
    "        'drugbank_id', 'name', 'pathway_name'\n",
    "    ]\n",
    "    pathway_info_df = df[columns].copy()\n",
    "    \n",
    "    pathway_info_df = pathway_info_df.explode('pathway_name')\n",
    "    \n",
    "    pathway_info_df = pathway_info_df[pathway_info_df['pathway_name'].notna()]\n",
    "    \n",
    "    total_pathways = len(pathway_info_df['pathway_name'].unique())\n",
    "    \n",
    "    return pathway_info_df, total_pathways\n",
    "\n",
    "new_df, total_pathways = extract_pathway(df_main)\n",
    "print(f'Total number of distinct pathways: {total_pathways}')\n",
    "new_df"
   ]
  },
  {
   "cell_type": "code",
   "execution_count": 16,
   "id": "41a73e26-9e24-46cd-968f-354e5dd5b506",
   "metadata": {},
   "outputs": [
    {
     "data": {
      "application/vnd.plotly.v1+json": {
       "config": {
        "plotlyServerURL": "https://plot.ly"
       },
       "data": [
        {
         "marker": {
          "color": "lightblue",
          "size": 10
         },
         "mode": "markers+text",
         "name": "Drugs",
         "text": [
          "Lepirudin",
          "Cetuximab",
          "Bivalirudin",
          "Alteplase",
          "Urokinase",
          "Reteplase",
          "Anistreplase",
          "Tenecteplase",
          "Abciximab",
          "Eptifibatide",
          "Trastuzumab",
          "Streptokinase"
         ],
         "textposition": "top center",
         "type": "scatter",
         "x": [
          -1,
          -1,
          -1,
          -1,
          -1,
          -1,
          -1,
          -1,
          -1,
          -1,
          -1,
          -1
         ],
         "y": [
          -0.75,
          -0.6136363636363635,
          -0.4772727272727273,
          -0.34090909090909094,
          -0.20454545454545453,
          -0.06818181818181814,
          0.06818181818181811,
          0.20454545454545453,
          0.34090909090909094,
          0.47727272727272735,
          0.6136363636363638,
          0.75
         ]
        },
        {
         "marker": {
          "color": "lightgreen",
          "size": 10
         },
         "mode": "markers+text",
         "name": "Pathways",
         "text": [
          "Lepirudin Action Pathway",
          "Cetuximab Action Pathway",
          "Bivalirudin Action Pathway",
          "Alteplase Action Pathway",
          "Urokinase Action Pathway",
          "Reteplase Action Pathway",
          "Anistreplase Action Pathway",
          "Tenecteplase Action Pathway",
          "Abciximab Action Pathway",
          "Eptifibatide Action Pathway",
          "Trastuzumab Action Pathway",
          "Streptokinase Action Pathway"
         ],
         "textposition": "top center",
         "type": "scatter",
         "x": [
          1,
          1,
          1,
          1,
          1,
          1,
          1,
          1,
          1,
          1,
          1,
          1
         ],
         "y": [
          -0.75,
          -0.6136363636363635,
          -0.4772727272727273,
          -0.34090909090909094,
          -0.20454545454545453,
          -0.06818181818181814,
          0.06818181818181811,
          0.20454545454545453,
          0.34090909090909094,
          0.47727272727272735,
          0.6136363636363638,
          0.75
         ]
        },
        {
         "line": {
          "color": "gray",
          "width": 1
         },
         "mode": "lines",
         "type": "scatter",
         "x": [
          -1,
          1,
          null
         ],
         "y": [
          -0.75,
          -0.75,
          null
         ]
        },
        {
         "line": {
          "color": "gray",
          "width": 1
         },
         "mode": "lines",
         "type": "scatter",
         "x": [
          -1,
          1,
          null
         ],
         "y": [
          -0.6136363636363635,
          -0.6136363636363635,
          null
         ]
        },
        {
         "line": {
          "color": "gray",
          "width": 1
         },
         "mode": "lines",
         "type": "scatter",
         "x": [
          -1,
          1,
          null
         ],
         "y": [
          -0.4772727272727273,
          -0.4772727272727273,
          null
         ]
        },
        {
         "line": {
          "color": "gray",
          "width": 1
         },
         "mode": "lines",
         "type": "scatter",
         "x": [
          -1,
          1,
          null
         ],
         "y": [
          -0.34090909090909094,
          -0.34090909090909094,
          null
         ]
        },
        {
         "line": {
          "color": "gray",
          "width": 1
         },
         "mode": "lines",
         "type": "scatter",
         "x": [
          -1,
          1,
          null
         ],
         "y": [
          -0.20454545454545453,
          -0.20454545454545453,
          null
         ]
        },
        {
         "line": {
          "color": "gray",
          "width": 1
         },
         "mode": "lines",
         "type": "scatter",
         "x": [
          -1,
          1,
          null
         ],
         "y": [
          -0.06818181818181814,
          -0.06818181818181814,
          null
         ]
        },
        {
         "line": {
          "color": "gray",
          "width": 1
         },
         "mode": "lines",
         "type": "scatter",
         "x": [
          -1,
          1,
          null
         ],
         "y": [
          0.06818181818181811,
          0.06818181818181811,
          null
         ]
        },
        {
         "line": {
          "color": "gray",
          "width": 1
         },
         "mode": "lines",
         "type": "scatter",
         "x": [
          -1,
          1,
          null
         ],
         "y": [
          0.20454545454545453,
          0.20454545454545453,
          null
         ]
        },
        {
         "line": {
          "color": "gray",
          "width": 1
         },
         "mode": "lines",
         "type": "scatter",
         "x": [
          -1,
          1,
          null
         ],
         "y": [
          0.34090909090909094,
          0.34090909090909094,
          null
         ]
        },
        {
         "line": {
          "color": "gray",
          "width": 1
         },
         "mode": "lines",
         "type": "scatter",
         "x": [
          -1,
          1,
          null
         ],
         "y": [
          0.47727272727272735,
          0.47727272727272735,
          null
         ]
        },
        {
         "line": {
          "color": "gray",
          "width": 1
         },
         "mode": "lines",
         "type": "scatter",
         "x": [
          -1,
          1,
          null
         ],
         "y": [
          0.6136363636363638,
          0.6136363636363638,
          null
         ]
        },
        {
         "line": {
          "color": "gray",
          "width": 1
         },
         "mode": "lines",
         "type": "scatter",
         "x": [
          -1,
          1,
          null
         ],
         "y": [
          0.75,
          0.75,
          null
         ]
        }
       ],
       "layout": {
        "height": 1000,
        "showlegend": false,
        "template": {
         "data": {
          "bar": [
           {
            "error_x": {
             "color": "#2a3f5f"
            },
            "error_y": {
             "color": "#2a3f5f"
            },
            "marker": {
             "line": {
              "color": "#E5ECF6",
              "width": 0.5
             },
             "pattern": {
              "fillmode": "overlay",
              "size": 10,
              "solidity": 0.2
             }
            },
            "type": "bar"
           }
          ],
          "barpolar": [
           {
            "marker": {
             "line": {
              "color": "#E5ECF6",
              "width": 0.5
             },
             "pattern": {
              "fillmode": "overlay",
              "size": 10,
              "solidity": 0.2
             }
            },
            "type": "barpolar"
           }
          ],
          "carpet": [
           {
            "aaxis": {
             "endlinecolor": "#2a3f5f",
             "gridcolor": "white",
             "linecolor": "white",
             "minorgridcolor": "white",
             "startlinecolor": "#2a3f5f"
            },
            "baxis": {
             "endlinecolor": "#2a3f5f",
             "gridcolor": "white",
             "linecolor": "white",
             "minorgridcolor": "white",
             "startlinecolor": "#2a3f5f"
            },
            "type": "carpet"
           }
          ],
          "choropleth": [
           {
            "colorbar": {
             "outlinewidth": 0,
             "ticks": ""
            },
            "type": "choropleth"
           }
          ],
          "contour": [
           {
            "colorbar": {
             "outlinewidth": 0,
             "ticks": ""
            },
            "colorscale": [
             [
              0,
              "#0d0887"
             ],
             [
              0.1111111111111111,
              "#46039f"
             ],
             [
              0.2222222222222222,
              "#7201a8"
             ],
             [
              0.3333333333333333,
              "#9c179e"
             ],
             [
              0.4444444444444444,
              "#bd3786"
             ],
             [
              0.5555555555555556,
              "#d8576b"
             ],
             [
              0.6666666666666666,
              "#ed7953"
             ],
             [
              0.7777777777777778,
              "#fb9f3a"
             ],
             [
              0.8888888888888888,
              "#fdca26"
             ],
             [
              1,
              "#f0f921"
             ]
            ],
            "type": "contour"
           }
          ],
          "contourcarpet": [
           {
            "colorbar": {
             "outlinewidth": 0,
             "ticks": ""
            },
            "type": "contourcarpet"
           }
          ],
          "heatmap": [
           {
            "colorbar": {
             "outlinewidth": 0,
             "ticks": ""
            },
            "colorscale": [
             [
              0,
              "#0d0887"
             ],
             [
              0.1111111111111111,
              "#46039f"
             ],
             [
              0.2222222222222222,
              "#7201a8"
             ],
             [
              0.3333333333333333,
              "#9c179e"
             ],
             [
              0.4444444444444444,
              "#bd3786"
             ],
             [
              0.5555555555555556,
              "#d8576b"
             ],
             [
              0.6666666666666666,
              "#ed7953"
             ],
             [
              0.7777777777777778,
              "#fb9f3a"
             ],
             [
              0.8888888888888888,
              "#fdca26"
             ],
             [
              1,
              "#f0f921"
             ]
            ],
            "type": "heatmap"
           }
          ],
          "heatmapgl": [
           {
            "colorbar": {
             "outlinewidth": 0,
             "ticks": ""
            },
            "colorscale": [
             [
              0,
              "#0d0887"
             ],
             [
              0.1111111111111111,
              "#46039f"
             ],
             [
              0.2222222222222222,
              "#7201a8"
             ],
             [
              0.3333333333333333,
              "#9c179e"
             ],
             [
              0.4444444444444444,
              "#bd3786"
             ],
             [
              0.5555555555555556,
              "#d8576b"
             ],
             [
              0.6666666666666666,
              "#ed7953"
             ],
             [
              0.7777777777777778,
              "#fb9f3a"
             ],
             [
              0.8888888888888888,
              "#fdca26"
             ],
             [
              1,
              "#f0f921"
             ]
            ],
            "type": "heatmapgl"
           }
          ],
          "histogram": [
           {
            "marker": {
             "pattern": {
              "fillmode": "overlay",
              "size": 10,
              "solidity": 0.2
             }
            },
            "type": "histogram"
           }
          ],
          "histogram2d": [
           {
            "colorbar": {
             "outlinewidth": 0,
             "ticks": ""
            },
            "colorscale": [
             [
              0,
              "#0d0887"
             ],
             [
              0.1111111111111111,
              "#46039f"
             ],
             [
              0.2222222222222222,
              "#7201a8"
             ],
             [
              0.3333333333333333,
              "#9c179e"
             ],
             [
              0.4444444444444444,
              "#bd3786"
             ],
             [
              0.5555555555555556,
              "#d8576b"
             ],
             [
              0.6666666666666666,
              "#ed7953"
             ],
             [
              0.7777777777777778,
              "#fb9f3a"
             ],
             [
              0.8888888888888888,
              "#fdca26"
             ],
             [
              1,
              "#f0f921"
             ]
            ],
            "type": "histogram2d"
           }
          ],
          "histogram2dcontour": [
           {
            "colorbar": {
             "outlinewidth": 0,
             "ticks": ""
            },
            "colorscale": [
             [
              0,
              "#0d0887"
             ],
             [
              0.1111111111111111,
              "#46039f"
             ],
             [
              0.2222222222222222,
              "#7201a8"
             ],
             [
              0.3333333333333333,
              "#9c179e"
             ],
             [
              0.4444444444444444,
              "#bd3786"
             ],
             [
              0.5555555555555556,
              "#d8576b"
             ],
             [
              0.6666666666666666,
              "#ed7953"
             ],
             [
              0.7777777777777778,
              "#fb9f3a"
             ],
             [
              0.8888888888888888,
              "#fdca26"
             ],
             [
              1,
              "#f0f921"
             ]
            ],
            "type": "histogram2dcontour"
           }
          ],
          "mesh3d": [
           {
            "colorbar": {
             "outlinewidth": 0,
             "ticks": ""
            },
            "type": "mesh3d"
           }
          ],
          "parcoords": [
           {
            "line": {
             "colorbar": {
              "outlinewidth": 0,
              "ticks": ""
             }
            },
            "type": "parcoords"
           }
          ],
          "pie": [
           {
            "automargin": true,
            "type": "pie"
           }
          ],
          "scatter": [
           {
            "fillpattern": {
             "fillmode": "overlay",
             "size": 10,
             "solidity": 0.2
            },
            "type": "scatter"
           }
          ],
          "scatter3d": [
           {
            "line": {
             "colorbar": {
              "outlinewidth": 0,
              "ticks": ""
             }
            },
            "marker": {
             "colorbar": {
              "outlinewidth": 0,
              "ticks": ""
             }
            },
            "type": "scatter3d"
           }
          ],
          "scattercarpet": [
           {
            "marker": {
             "colorbar": {
              "outlinewidth": 0,
              "ticks": ""
             }
            },
            "type": "scattercarpet"
           }
          ],
          "scattergeo": [
           {
            "marker": {
             "colorbar": {
              "outlinewidth": 0,
              "ticks": ""
             }
            },
            "type": "scattergeo"
           }
          ],
          "scattergl": [
           {
            "marker": {
             "colorbar": {
              "outlinewidth": 0,
              "ticks": ""
             }
            },
            "type": "scattergl"
           }
          ],
          "scattermapbox": [
           {
            "marker": {
             "colorbar": {
              "outlinewidth": 0,
              "ticks": ""
             }
            },
            "type": "scattermapbox"
           }
          ],
          "scatterpolar": [
           {
            "marker": {
             "colorbar": {
              "outlinewidth": 0,
              "ticks": ""
             }
            },
            "type": "scatterpolar"
           }
          ],
          "scatterpolargl": [
           {
            "marker": {
             "colorbar": {
              "outlinewidth": 0,
              "ticks": ""
             }
            },
            "type": "scatterpolargl"
           }
          ],
          "scatterternary": [
           {
            "marker": {
             "colorbar": {
              "outlinewidth": 0,
              "ticks": ""
             }
            },
            "type": "scatterternary"
           }
          ],
          "surface": [
           {
            "colorbar": {
             "outlinewidth": 0,
             "ticks": ""
            },
            "colorscale": [
             [
              0,
              "#0d0887"
             ],
             [
              0.1111111111111111,
              "#46039f"
             ],
             [
              0.2222222222222222,
              "#7201a8"
             ],
             [
              0.3333333333333333,
              "#9c179e"
             ],
             [
              0.4444444444444444,
              "#bd3786"
             ],
             [
              0.5555555555555556,
              "#d8576b"
             ],
             [
              0.6666666666666666,
              "#ed7953"
             ],
             [
              0.7777777777777778,
              "#fb9f3a"
             ],
             [
              0.8888888888888888,
              "#fdca26"
             ],
             [
              1,
              "#f0f921"
             ]
            ],
            "type": "surface"
           }
          ],
          "table": [
           {
            "cells": {
             "fill": {
              "color": "#EBF0F8"
             },
             "line": {
              "color": "white"
             }
            },
            "header": {
             "fill": {
              "color": "#C8D4E3"
             },
             "line": {
              "color": "white"
             }
            },
            "type": "table"
           }
          ]
         },
         "layout": {
          "annotationdefaults": {
           "arrowcolor": "#2a3f5f",
           "arrowhead": 0,
           "arrowwidth": 1
          },
          "autotypenumbers": "strict",
          "coloraxis": {
           "colorbar": {
            "outlinewidth": 0,
            "ticks": ""
           }
          },
          "colorscale": {
           "diverging": [
            [
             0,
             "#8e0152"
            ],
            [
             0.1,
             "#c51b7d"
            ],
            [
             0.2,
             "#de77ae"
            ],
            [
             0.3,
             "#f1b6da"
            ],
            [
             0.4,
             "#fde0ef"
            ],
            [
             0.5,
             "#f7f7f7"
            ],
            [
             0.6,
             "#e6f5d0"
            ],
            [
             0.7,
             "#b8e186"
            ],
            [
             0.8,
             "#7fbc41"
            ],
            [
             0.9,
             "#4d9221"
            ],
            [
             1,
             "#276419"
            ]
           ],
           "sequential": [
            [
             0,
             "#0d0887"
            ],
            [
             0.1111111111111111,
             "#46039f"
            ],
            [
             0.2222222222222222,
             "#7201a8"
            ],
            [
             0.3333333333333333,
             "#9c179e"
            ],
            [
             0.4444444444444444,
             "#bd3786"
            ],
            [
             0.5555555555555556,
             "#d8576b"
            ],
            [
             0.6666666666666666,
             "#ed7953"
            ],
            [
             0.7777777777777778,
             "#fb9f3a"
            ],
            [
             0.8888888888888888,
             "#fdca26"
            ],
            [
             1,
             "#f0f921"
            ]
           ],
           "sequentialminus": [
            [
             0,
             "#0d0887"
            ],
            [
             0.1111111111111111,
             "#46039f"
            ],
            [
             0.2222222222222222,
             "#7201a8"
            ],
            [
             0.3333333333333333,
             "#9c179e"
            ],
            [
             0.4444444444444444,
             "#bd3786"
            ],
            [
             0.5555555555555556,
             "#d8576b"
            ],
            [
             0.6666666666666666,
             "#ed7953"
            ],
            [
             0.7777777777777778,
             "#fb9f3a"
            ],
            [
             0.8888888888888888,
             "#fdca26"
            ],
            [
             1,
             "#f0f921"
            ]
           ]
          },
          "colorway": [
           "#636efa",
           "#EF553B",
           "#00cc96",
           "#ab63fa",
           "#FFA15A",
           "#19d3f3",
           "#FF6692",
           "#B6E880",
           "#FF97FF",
           "#FECB52"
          ],
          "font": {
           "color": "#2a3f5f"
          },
          "geo": {
           "bgcolor": "white",
           "lakecolor": "white",
           "landcolor": "#E5ECF6",
           "showlakes": true,
           "showland": true,
           "subunitcolor": "white"
          },
          "hoverlabel": {
           "align": "left"
          },
          "hovermode": "closest",
          "mapbox": {
           "style": "light"
          },
          "paper_bgcolor": "white",
          "plot_bgcolor": "#E5ECF6",
          "polar": {
           "angularaxis": {
            "gridcolor": "white",
            "linecolor": "white",
            "ticks": ""
           },
           "bgcolor": "#E5ECF6",
           "radialaxis": {
            "gridcolor": "white",
            "linecolor": "white",
            "ticks": ""
           }
          },
          "scene": {
           "xaxis": {
            "backgroundcolor": "#E5ECF6",
            "gridcolor": "white",
            "gridwidth": 2,
            "linecolor": "white",
            "showbackground": true,
            "ticks": "",
            "zerolinecolor": "white"
           },
           "yaxis": {
            "backgroundcolor": "#E5ECF6",
            "gridcolor": "white",
            "gridwidth": 2,
            "linecolor": "white",
            "showbackground": true,
            "ticks": "",
            "zerolinecolor": "white"
           },
           "zaxis": {
            "backgroundcolor": "#E5ECF6",
            "gridcolor": "white",
            "gridwidth": 2,
            "linecolor": "white",
            "showbackground": true,
            "ticks": "",
            "zerolinecolor": "white"
           }
          },
          "shapedefaults": {
           "line": {
            "color": "#2a3f5f"
           }
          },
          "ternary": {
           "aaxis": {
            "gridcolor": "white",
            "linecolor": "white",
            "ticks": ""
           },
           "baxis": {
            "gridcolor": "white",
            "linecolor": "white",
            "ticks": ""
           },
           "bgcolor": "#E5ECF6",
           "caxis": {
            "gridcolor": "white",
            "linecolor": "white",
            "ticks": ""
           }
          },
          "title": {
           "x": 0.05
          },
          "xaxis": {
           "automargin": true,
           "gridcolor": "white",
           "linecolor": "white",
           "ticks": "",
           "title": {
            "standoff": 15
           },
           "zerolinecolor": "white",
           "zerolinewidth": 2
          },
          "yaxis": {
           "automargin": true,
           "gridcolor": "white",
           "linecolor": "white",
           "ticks": "",
           "title": {
            "standoff": 15
           },
           "zerolinecolor": "white",
           "zerolinewidth": 2
          }
         }
        },
        "title": {
         "text": "Bipartite Graph of Drugs and Pathways"
        },
        "width": 1000,
        "xaxis": {
         "autorange": true,
         "range": [
          -1.1297915265635508,
          1.1297915265635508
         ],
         "type": "linear"
        },
        "yaxis": {
         "autorange": true,
         "range": [
          -0.8476912474155754,
          0.8476912474155754
         ],
         "type": "linear"
        }
       }
      },
      "text/html": [
       "<div>                            <div id=\"0206d620-57a9-4c59-9d7c-3e8ecc4077d1\" class=\"plotly-graph-div\" style=\"height:1000px; width:1000px;\"></div>            <script type=\"text/javascript\">                require([\"plotly\"], function(Plotly) {                    window.PLOTLYENV=window.PLOTLYENV || {};                                    if (document.getElementById(\"0206d620-57a9-4c59-9d7c-3e8ecc4077d1\")) {                    Plotly.newPlot(                        \"0206d620-57a9-4c59-9d7c-3e8ecc4077d1\",                        [{\"marker\":{\"color\":\"lightblue\",\"size\":10},\"mode\":\"markers+text\",\"name\":\"Drugs\",\"text\":[\"Lepirudin\",\"Cetuximab\",\"Bivalirudin\",\"Alteplase\",\"Urokinase\",\"Reteplase\",\"Anistreplase\",\"Tenecteplase\",\"Abciximab\",\"Eptifibatide\",\"Trastuzumab\",\"Streptokinase\"],\"textposition\":\"top center\",\"x\":[-1.0,-1.0,-1.0,-1.0,-1.0,-1.0,-1.0,-1.0,-1.0,-1.0,-1.0,-1.0],\"y\":[-0.75,-0.6136363636363635,-0.4772727272727273,-0.34090909090909094,-0.20454545454545453,-0.06818181818181814,0.06818181818181811,0.20454545454545453,0.34090909090909094,0.47727272727272735,0.6136363636363638,0.75],\"type\":\"scatter\"},{\"marker\":{\"color\":\"lightgreen\",\"size\":10},\"mode\":\"markers+text\",\"name\":\"Pathways\",\"text\":[\"Lepirudin Action Pathway\",\"Cetuximab Action Pathway\",\"Bivalirudin Action Pathway\",\"Alteplase Action Pathway\",\"Urokinase Action Pathway\",\"Reteplase Action Pathway\",\"Anistreplase Action Pathway\",\"Tenecteplase Action Pathway\",\"Abciximab Action Pathway\",\"Eptifibatide Action Pathway\",\"Trastuzumab Action Pathway\",\"Streptokinase Action Pathway\"],\"textposition\":\"top center\",\"x\":[1.0,1.0,1.0,1.0,1.0,1.0,1.0,1.0,1.0,1.0,1.0,1.0],\"y\":[-0.75,-0.6136363636363635,-0.4772727272727273,-0.34090909090909094,-0.20454545454545453,-0.06818181818181814,0.06818181818181811,0.20454545454545453,0.34090909090909094,0.47727272727272735,0.6136363636363638,0.75],\"type\":\"scatter\"},{\"line\":{\"color\":\"gray\",\"width\":1},\"mode\":\"lines\",\"x\":[-1.0,1.0,null],\"y\":[-0.75,-0.75,null],\"type\":\"scatter\"},{\"line\":{\"color\":\"gray\",\"width\":1},\"mode\":\"lines\",\"x\":[-1.0,1.0,null],\"y\":[-0.6136363636363635,-0.6136363636363635,null],\"type\":\"scatter\"},{\"line\":{\"color\":\"gray\",\"width\":1},\"mode\":\"lines\",\"x\":[-1.0,1.0,null],\"y\":[-0.4772727272727273,-0.4772727272727273,null],\"type\":\"scatter\"},{\"line\":{\"color\":\"gray\",\"width\":1},\"mode\":\"lines\",\"x\":[-1.0,1.0,null],\"y\":[-0.34090909090909094,-0.34090909090909094,null],\"type\":\"scatter\"},{\"line\":{\"color\":\"gray\",\"width\":1},\"mode\":\"lines\",\"x\":[-1.0,1.0,null],\"y\":[-0.20454545454545453,-0.20454545454545453,null],\"type\":\"scatter\"},{\"line\":{\"color\":\"gray\",\"width\":1},\"mode\":\"lines\",\"x\":[-1.0,1.0,null],\"y\":[-0.06818181818181814,-0.06818181818181814,null],\"type\":\"scatter\"},{\"line\":{\"color\":\"gray\",\"width\":1},\"mode\":\"lines\",\"x\":[-1.0,1.0,null],\"y\":[0.06818181818181811,0.06818181818181811,null],\"type\":\"scatter\"},{\"line\":{\"color\":\"gray\",\"width\":1},\"mode\":\"lines\",\"x\":[-1.0,1.0,null],\"y\":[0.20454545454545453,0.20454545454545453,null],\"type\":\"scatter\"},{\"line\":{\"color\":\"gray\",\"width\":1},\"mode\":\"lines\",\"x\":[-1.0,1.0,null],\"y\":[0.34090909090909094,0.34090909090909094,null],\"type\":\"scatter\"},{\"line\":{\"color\":\"gray\",\"width\":1},\"mode\":\"lines\",\"x\":[-1.0,1.0,null],\"y\":[0.47727272727272735,0.47727272727272735,null],\"type\":\"scatter\"},{\"line\":{\"color\":\"gray\",\"width\":1},\"mode\":\"lines\",\"x\":[-1.0,1.0,null],\"y\":[0.6136363636363638,0.6136363636363638,null],\"type\":\"scatter\"},{\"line\":{\"color\":\"gray\",\"width\":1},\"mode\":\"lines\",\"x\":[-1.0,1.0,null],\"y\":[0.75,0.75,null],\"type\":\"scatter\"}],                        {\"template\":{\"data\":{\"histogram2dcontour\":[{\"type\":\"histogram2dcontour\",\"colorbar\":{\"outlinewidth\":0,\"ticks\":\"\"},\"colorscale\":[[0.0,\"#0d0887\"],[0.1111111111111111,\"#46039f\"],[0.2222222222222222,\"#7201a8\"],[0.3333333333333333,\"#9c179e\"],[0.4444444444444444,\"#bd3786\"],[0.5555555555555556,\"#d8576b\"],[0.6666666666666666,\"#ed7953\"],[0.7777777777777778,\"#fb9f3a\"],[0.8888888888888888,\"#fdca26\"],[1.0,\"#f0f921\"]]}],\"choropleth\":[{\"type\":\"choropleth\",\"colorbar\":{\"outlinewidth\":0,\"ticks\":\"\"}}],\"histogram2d\":[{\"type\":\"histogram2d\",\"colorbar\":{\"outlinewidth\":0,\"ticks\":\"\"},\"colorscale\":[[0.0,\"#0d0887\"],[0.1111111111111111,\"#46039f\"],[0.2222222222222222,\"#7201a8\"],[0.3333333333333333,\"#9c179e\"],[0.4444444444444444,\"#bd3786\"],[0.5555555555555556,\"#d8576b\"],[0.6666666666666666,\"#ed7953\"],[0.7777777777777778,\"#fb9f3a\"],[0.8888888888888888,\"#fdca26\"],[1.0,\"#f0f921\"]]}],\"heatmap\":[{\"type\":\"heatmap\",\"colorbar\":{\"outlinewidth\":0,\"ticks\":\"\"},\"colorscale\":[[0.0,\"#0d0887\"],[0.1111111111111111,\"#46039f\"],[0.2222222222222222,\"#7201a8\"],[0.3333333333333333,\"#9c179e\"],[0.4444444444444444,\"#bd3786\"],[0.5555555555555556,\"#d8576b\"],[0.6666666666666666,\"#ed7953\"],[0.7777777777777778,\"#fb9f3a\"],[0.8888888888888888,\"#fdca26\"],[1.0,\"#f0f921\"]]}],\"heatmapgl\":[{\"type\":\"heatmapgl\",\"colorbar\":{\"outlinewidth\":0,\"ticks\":\"\"},\"colorscale\":[[0.0,\"#0d0887\"],[0.1111111111111111,\"#46039f\"],[0.2222222222222222,\"#7201a8\"],[0.3333333333333333,\"#9c179e\"],[0.4444444444444444,\"#bd3786\"],[0.5555555555555556,\"#d8576b\"],[0.6666666666666666,\"#ed7953\"],[0.7777777777777778,\"#fb9f3a\"],[0.8888888888888888,\"#fdca26\"],[1.0,\"#f0f921\"]]}],\"contourcarpet\":[{\"type\":\"contourcarpet\",\"colorbar\":{\"outlinewidth\":0,\"ticks\":\"\"}}],\"contour\":[{\"type\":\"contour\",\"colorbar\":{\"outlinewidth\":0,\"ticks\":\"\"},\"colorscale\":[[0.0,\"#0d0887\"],[0.1111111111111111,\"#46039f\"],[0.2222222222222222,\"#7201a8\"],[0.3333333333333333,\"#9c179e\"],[0.4444444444444444,\"#bd3786\"],[0.5555555555555556,\"#d8576b\"],[0.6666666666666666,\"#ed7953\"],[0.7777777777777778,\"#fb9f3a\"],[0.8888888888888888,\"#fdca26\"],[1.0,\"#f0f921\"]]}],\"surface\":[{\"type\":\"surface\",\"colorbar\":{\"outlinewidth\":0,\"ticks\":\"\"},\"colorscale\":[[0.0,\"#0d0887\"],[0.1111111111111111,\"#46039f\"],[0.2222222222222222,\"#7201a8\"],[0.3333333333333333,\"#9c179e\"],[0.4444444444444444,\"#bd3786\"],[0.5555555555555556,\"#d8576b\"],[0.6666666666666666,\"#ed7953\"],[0.7777777777777778,\"#fb9f3a\"],[0.8888888888888888,\"#fdca26\"],[1.0,\"#f0f921\"]]}],\"mesh3d\":[{\"type\":\"mesh3d\",\"colorbar\":{\"outlinewidth\":0,\"ticks\":\"\"}}],\"scatter\":[{\"fillpattern\":{\"fillmode\":\"overlay\",\"size\":10,\"solidity\":0.2},\"type\":\"scatter\"}],\"parcoords\":[{\"type\":\"parcoords\",\"line\":{\"colorbar\":{\"outlinewidth\":0,\"ticks\":\"\"}}}],\"scatterpolargl\":[{\"type\":\"scatterpolargl\",\"marker\":{\"colorbar\":{\"outlinewidth\":0,\"ticks\":\"\"}}}],\"bar\":[{\"error_x\":{\"color\":\"#2a3f5f\"},\"error_y\":{\"color\":\"#2a3f5f\"},\"marker\":{\"line\":{\"color\":\"#E5ECF6\",\"width\":0.5},\"pattern\":{\"fillmode\":\"overlay\",\"size\":10,\"solidity\":0.2}},\"type\":\"bar\"}],\"scattergeo\":[{\"type\":\"scattergeo\",\"marker\":{\"colorbar\":{\"outlinewidth\":0,\"ticks\":\"\"}}}],\"scatterpolar\":[{\"type\":\"scatterpolar\",\"marker\":{\"colorbar\":{\"outlinewidth\":0,\"ticks\":\"\"}}}],\"histogram\":[{\"marker\":{\"pattern\":{\"fillmode\":\"overlay\",\"size\":10,\"solidity\":0.2}},\"type\":\"histogram\"}],\"scattergl\":[{\"type\":\"scattergl\",\"marker\":{\"colorbar\":{\"outlinewidth\":0,\"ticks\":\"\"}}}],\"scatter3d\":[{\"type\":\"scatter3d\",\"line\":{\"colorbar\":{\"outlinewidth\":0,\"ticks\":\"\"}},\"marker\":{\"colorbar\":{\"outlinewidth\":0,\"ticks\":\"\"}}}],\"scattermapbox\":[{\"type\":\"scattermapbox\",\"marker\":{\"colorbar\":{\"outlinewidth\":0,\"ticks\":\"\"}}}],\"scatterternary\":[{\"type\":\"scatterternary\",\"marker\":{\"colorbar\":{\"outlinewidth\":0,\"ticks\":\"\"}}}],\"scattercarpet\":[{\"type\":\"scattercarpet\",\"marker\":{\"colorbar\":{\"outlinewidth\":0,\"ticks\":\"\"}}}],\"carpet\":[{\"aaxis\":{\"endlinecolor\":\"#2a3f5f\",\"gridcolor\":\"white\",\"linecolor\":\"white\",\"minorgridcolor\":\"white\",\"startlinecolor\":\"#2a3f5f\"},\"baxis\":{\"endlinecolor\":\"#2a3f5f\",\"gridcolor\":\"white\",\"linecolor\":\"white\",\"minorgridcolor\":\"white\",\"startlinecolor\":\"#2a3f5f\"},\"type\":\"carpet\"}],\"table\":[{\"cells\":{\"fill\":{\"color\":\"#EBF0F8\"},\"line\":{\"color\":\"white\"}},\"header\":{\"fill\":{\"color\":\"#C8D4E3\"},\"line\":{\"color\":\"white\"}},\"type\":\"table\"}],\"barpolar\":[{\"marker\":{\"line\":{\"color\":\"#E5ECF6\",\"width\":0.5},\"pattern\":{\"fillmode\":\"overlay\",\"size\":10,\"solidity\":0.2}},\"type\":\"barpolar\"}],\"pie\":[{\"automargin\":true,\"type\":\"pie\"}]},\"layout\":{\"autotypenumbers\":\"strict\",\"colorway\":[\"#636efa\",\"#EF553B\",\"#00cc96\",\"#ab63fa\",\"#FFA15A\",\"#19d3f3\",\"#FF6692\",\"#B6E880\",\"#FF97FF\",\"#FECB52\"],\"font\":{\"color\":\"#2a3f5f\"},\"hovermode\":\"closest\",\"hoverlabel\":{\"align\":\"left\"},\"paper_bgcolor\":\"white\",\"plot_bgcolor\":\"#E5ECF6\",\"polar\":{\"bgcolor\":\"#E5ECF6\",\"angularaxis\":{\"gridcolor\":\"white\",\"linecolor\":\"white\",\"ticks\":\"\"},\"radialaxis\":{\"gridcolor\":\"white\",\"linecolor\":\"white\",\"ticks\":\"\"}},\"ternary\":{\"bgcolor\":\"#E5ECF6\",\"aaxis\":{\"gridcolor\":\"white\",\"linecolor\":\"white\",\"ticks\":\"\"},\"baxis\":{\"gridcolor\":\"white\",\"linecolor\":\"white\",\"ticks\":\"\"},\"caxis\":{\"gridcolor\":\"white\",\"linecolor\":\"white\",\"ticks\":\"\"}},\"coloraxis\":{\"colorbar\":{\"outlinewidth\":0,\"ticks\":\"\"}},\"colorscale\":{\"sequential\":[[0.0,\"#0d0887\"],[0.1111111111111111,\"#46039f\"],[0.2222222222222222,\"#7201a8\"],[0.3333333333333333,\"#9c179e\"],[0.4444444444444444,\"#bd3786\"],[0.5555555555555556,\"#d8576b\"],[0.6666666666666666,\"#ed7953\"],[0.7777777777777778,\"#fb9f3a\"],[0.8888888888888888,\"#fdca26\"],[1.0,\"#f0f921\"]],\"sequentialminus\":[[0.0,\"#0d0887\"],[0.1111111111111111,\"#46039f\"],[0.2222222222222222,\"#7201a8\"],[0.3333333333333333,\"#9c179e\"],[0.4444444444444444,\"#bd3786\"],[0.5555555555555556,\"#d8576b\"],[0.6666666666666666,\"#ed7953\"],[0.7777777777777778,\"#fb9f3a\"],[0.8888888888888888,\"#fdca26\"],[1.0,\"#f0f921\"]],\"diverging\":[[0,\"#8e0152\"],[0.1,\"#c51b7d\"],[0.2,\"#de77ae\"],[0.3,\"#f1b6da\"],[0.4,\"#fde0ef\"],[0.5,\"#f7f7f7\"],[0.6,\"#e6f5d0\"],[0.7,\"#b8e186\"],[0.8,\"#7fbc41\"],[0.9,\"#4d9221\"],[1,\"#276419\"]]},\"xaxis\":{\"gridcolor\":\"white\",\"linecolor\":\"white\",\"ticks\":\"\",\"title\":{\"standoff\":15},\"zerolinecolor\":\"white\",\"automargin\":true,\"zerolinewidth\":2},\"yaxis\":{\"gridcolor\":\"white\",\"linecolor\":\"white\",\"ticks\":\"\",\"title\":{\"standoff\":15},\"zerolinecolor\":\"white\",\"automargin\":true,\"zerolinewidth\":2},\"scene\":{\"xaxis\":{\"backgroundcolor\":\"#E5ECF6\",\"gridcolor\":\"white\",\"linecolor\":\"white\",\"showbackground\":true,\"ticks\":\"\",\"zerolinecolor\":\"white\",\"gridwidth\":2},\"yaxis\":{\"backgroundcolor\":\"#E5ECF6\",\"gridcolor\":\"white\",\"linecolor\":\"white\",\"showbackground\":true,\"ticks\":\"\",\"zerolinecolor\":\"white\",\"gridwidth\":2},\"zaxis\":{\"backgroundcolor\":\"#E5ECF6\",\"gridcolor\":\"white\",\"linecolor\":\"white\",\"showbackground\":true,\"ticks\":\"\",\"zerolinecolor\":\"white\",\"gridwidth\":2}},\"shapedefaults\":{\"line\":{\"color\":\"#2a3f5f\"}},\"annotationdefaults\":{\"arrowcolor\":\"#2a3f5f\",\"arrowhead\":0,\"arrowwidth\":1},\"geo\":{\"bgcolor\":\"white\",\"landcolor\":\"#E5ECF6\",\"subunitcolor\":\"white\",\"showland\":true,\"showlakes\":true,\"lakecolor\":\"white\"},\"title\":{\"x\":0.05},\"mapbox\":{\"style\":\"light\"}}},\"title\":{\"text\":\"Bipartite Graph of Drugs and Pathways\"},\"showlegend\":false,\"width\":1000,\"height\":1000},                        {\"responsive\": true}                    ).then(function(){\n",
       "                            \n",
       "var gd = document.getElementById('0206d620-57a9-4c59-9d7c-3e8ecc4077d1');\n",
       "var x = new MutationObserver(function (mutations, observer) {{\n",
       "        var display = window.getComputedStyle(gd).display;\n",
       "        if (!display || display === 'none') {{\n",
       "            console.log([gd, 'removed!']);\n",
       "            Plotly.purge(gd);\n",
       "            observer.disconnect();\n",
       "        }}\n",
       "}});\n",
       "\n",
       "// Listen for the removal of the full notebook cells\n",
       "var notebookContainer = gd.closest('#notebook-container');\n",
       "if (notebookContainer) {{\n",
       "    x.observe(notebookContainer, {childList: true});\n",
       "}}\n",
       "\n",
       "// Listen for the clearing of the current output cell\n",
       "var outputEl = gd.closest('.output');\n",
       "if (outputEl) {{\n",
       "    x.observe(outputEl, {childList: true});\n",
       "}}\n",
       "\n",
       "                        })                };                });            </script>        </div>"
      ]
     },
     "metadata": {},
     "output_type": "display_data"
    }
   ],
   "source": [
    "# 5) if 'szlaki' to pathways\n",
    "import pandas as pd\n",
    "import networkx as nx\n",
    "import plotly.graph_objects as go\n",
    "\n",
    "def display_bipartite_graph(df):\n",
    "    tup = extract_pathway(df)\n",
    "    pathway_info_df = tup[0]\n",
    "    \n",
    "    # Create a bipartite graph\n",
    "    B = nx.Graph()\n",
    "\n",
    "    # Add nodes with the bipartite attribute\n",
    "    drugs = pathway_info_df['name'].unique()\n",
    "    pathways = pathway_info_df['pathway_name'].unique()\n",
    "    B.add_nodes_from(drugs, bipartite=0)\n",
    "    B.add_nodes_from(pathways, bipartite=1)\n",
    "\n",
    "    # Add edges\n",
    "    for _, row in pathway_info_df.iterrows():\n",
    "        B.add_edge(row['name'], row['pathway_name'])\n",
    "\n",
    "    # Extract node positions\n",
    "    pos = nx.drawing.layout.bipartite_layout(B, drugs)\n",
    "\n",
    "    # Create node traces\n",
    "    drug_trace = go.Scatter(\n",
    "        x=[pos[node][0] for node in drugs],\n",
    "        y=[pos[node][1] for node in drugs],\n",
    "        text=list(drugs),\n",
    "        mode='markers+text',\n",
    "        marker=dict(color='lightblue', size=10),\n",
    "        textposition='top center',\n",
    "        name='Drugs'\n",
    "    )\n",
    "\n",
    "    pathway_trace = go.Scatter(\n",
    "        x=[pos[node][0] for node in pathways],\n",
    "        y=[pos[node][1] for node in pathways],\n",
    "        text=list(pathways),\n",
    "        mode='markers+text',\n",
    "        marker=dict(color='lightgreen', size=10),\n",
    "        textposition='top center',\n",
    "        name='Pathways'\n",
    "    )\n",
    "\n",
    "    # Create edge traces\n",
    "    edge_trace = []\n",
    "    for edge in B.edges():\n",
    "        x0, y0 = pos[edge[0]]\n",
    "        x1, y1 = pos[edge[1]]\n",
    "        edge_trace.append(go.Scatter(\n",
    "            x=[x0, x1, None],\n",
    "            y=[y0, y1, None],\n",
    "            mode='lines',\n",
    "            line=dict(color='gray', width=1)\n",
    "        ))\n",
    "\n",
    "    # Combine all traces\n",
    "    fig = go.Figure(data=[drug_trace, pathway_trace] + edge_trace)\n",
    "    fig.update_layout(\n",
    "        title=\"Bipartite Graph of Drugs and Pathways\",\n",
    "        showlegend=False,\n",
    "        width=1000,\n",
    "        height=1000  # Adjust the height to make the graph taller\n",
    "    )\n",
    "\n",
    "    fig.show()\n",
    "\n",
    "    \n",
    "display_bipartite_graph(df_main)"
   ]
  },
  {
   "cell_type": "code",
   "execution_count": 17,
   "id": "ee4705c7-0952-435d-80a0-80727308712c",
   "metadata": {},
   "outputs": [
    {
     "data": {
      "application/vnd.plotly.v1+json": {
       "config": {
        "plotlyServerURL": "https://plot.ly"
       },
       "data": [
        {
         "marker": {
          "color": "lightblue",
          "size": 10
         },
         "mode": "markers+text",
         "name": "Drugs",
         "text": [
          "Lepirudin",
          "Cetuximab",
          "Etanercept",
          "Leuprolide",
          "Peginterferon alfa-2a",
          "Alteplase"
         ],
         "textposition": "top center",
         "type": "scatter",
         "x": [
          -1,
          -1,
          -1,
          -1,
          -1,
          -1
         ],
         "y": [
          -0.465,
          -0.279,
          -0.09299999999999997,
          0.0930000000000001,
          0.2790000000000001,
          0.465
         ]
        },
        {
         "marker": {
          "color": "lightgreen",
          "size": 10
         },
         "mode": "markers+text",
         "name": "Links",
         "text": [
          "Google books",
          "Health Canada Approved Drug Products: Refludan (lepirudin) lyophilized powder for intravenous injection",
          "FDA Clinical Pharmacology and Biopharmaceutics Review: Refludan (lepirudin) lyophilized powder for intravenous injection",
          "EMA Summary of Product Characteristics: Refludan (lepirudin) powder for intravenous injection or infusion",
          "Bayer HealthCare: Discontinuation of Refludan [lepirudin (rDNA) for injection]",
          "Bristol-Myers Squibb Company: Cetuximab Safety Data Sheet",
          "FDA Approved Drug Products: ERBITUX (cetuximab) injection, for intravenous use",
          "StatPearls: Cetuximab",
          "FDA Approved Drug Products: Enbrel (etanercept) injection solution",
          "Health Canada Approved Drug Products: RYMTI (etanercept) solution for injection (August 2022)",
          "FDA Approved Drug Products: ENBREL® (etanercept) injection, for subcutaneous use (October 2023)",
          "FDA Approved Drug Products: Erelzi (etanercept) injection",
          "FDA Approved Drug Products: Lupaneta Pack for intramuscular and oral use",
          "FDA Approved Drug Products: Lupron Depot (leuprolide acetate) depot suspension, for intramuscular injection",
          "FDA Approved Drug Products: Lupron Depot-Ped (leuprolide acetate) depot suspension",
          "FDA Approved Drug Products: Fensolvi (leuprolide acetate) suspension",
          "FDA Approved Drug Products: ELIGARD (leuprolide acetate) for injectable suspension, for subcutaneous use",
          "FDA Approved Drug Products: Lupron Depot 3.75mg (leuprolide acetate) depot suspension",
          "FDA Approved Drug Products: Lupron (leuprolide) injection; discontinued",
          "FDA Approved Drug Products: CAMCEVI (leuprolide) injectable emulsion, for subcutaneous use",
          "FDA Approved Drug Products: LUPRON DEPOT (leuprolide acetate for depot suspension) (Dec 2023)",
          "American Association for the Study of Liver Diseases; Infectious Diseases Society of America. HCV guidance. http://hcvguidelines.org. Accessed June 12, 2017.",
          "FDA Approved Drug Products: ACTIVASE (alteplase) injection for intravenous use",
          "Genentech: ACTIVASE (alteplase) SDS",
          "FDA Approved Drug Products: Cathflo Activase (alteplase) powder for reconstitution for use in central venous access devices"
         ],
         "textposition": "top center",
         "type": "scatter",
         "x": [
          0.2400000000000001,
          0.2400000000000001,
          0.2400000000000001,
          0.2400000000000001,
          0.2400000000000001,
          0.2400000000000001,
          0.2400000000000001,
          0.2400000000000001,
          0.2400000000000001,
          0.2400000000000001,
          0.2400000000000001,
          0.2400000000000001,
          0.2400000000000001,
          0.2400000000000001,
          0.2400000000000001,
          0.2400000000000001,
          0.2400000000000001,
          0.2400000000000001,
          0.2400000000000001,
          0.2400000000000001,
          0.2400000000000001,
          0.2400000000000001,
          0.2400000000000001,
          0.2400000000000001,
          0.2400000000000001
         ],
         "y": [
          -0.465,
          -0.42625,
          -0.3875,
          -0.34875,
          -0.31000000000000005,
          -0.27125000000000005,
          -0.2325,
          -0.19375000000000003,
          -0.15500000000000003,
          -0.11624999999999999,
          -0.07750000000000003,
          -0.03875000000000001,
          9.992007221626408e-18,
          0.03874999999999998,
          0.07749999999999994,
          0.11625,
          0.15499999999999997,
          0.19374999999999995,
          0.2325,
          0.27125,
          0.30999999999999994,
          0.34875,
          0.3875,
          0.42624999999999996,
          0.465
         ]
        },
        {
         "line": {
          "color": "gray",
          "width": 1
         },
         "mode": "lines",
         "type": "scatter",
         "x": [
          -1,
          0.2400000000000001,
          null
         ],
         "y": [
          -0.465,
          -0.465,
          null
         ]
        },
        {
         "line": {
          "color": "gray",
          "width": 1
         },
         "mode": "lines",
         "type": "scatter",
         "x": [
          -1,
          0.2400000000000001,
          null
         ],
         "y": [
          -0.465,
          -0.42625,
          null
         ]
        },
        {
         "line": {
          "color": "gray",
          "width": 1
         },
         "mode": "lines",
         "type": "scatter",
         "x": [
          -1,
          0.2400000000000001,
          null
         ],
         "y": [
          -0.465,
          -0.3875,
          null
         ]
        },
        {
         "line": {
          "color": "gray",
          "width": 1
         },
         "mode": "lines",
         "type": "scatter",
         "x": [
          -1,
          0.2400000000000001,
          null
         ],
         "y": [
          -0.465,
          -0.34875,
          null
         ]
        },
        {
         "line": {
          "color": "gray",
          "width": 1
         },
         "mode": "lines",
         "type": "scatter",
         "x": [
          -1,
          0.2400000000000001,
          null
         ],
         "y": [
          -0.465,
          -0.31000000000000005,
          null
         ]
        },
        {
         "line": {
          "color": "gray",
          "width": 1
         },
         "mode": "lines",
         "type": "scatter",
         "x": [
          -1,
          0.2400000000000001,
          null
         ],
         "y": [
          -0.279,
          -0.27125000000000005,
          null
         ]
        },
        {
         "line": {
          "color": "gray",
          "width": 1
         },
         "mode": "lines",
         "type": "scatter",
         "x": [
          -1,
          0.2400000000000001,
          null
         ],
         "y": [
          -0.279,
          -0.2325,
          null
         ]
        },
        {
         "line": {
          "color": "gray",
          "width": 1
         },
         "mode": "lines",
         "type": "scatter",
         "x": [
          -1,
          0.2400000000000001,
          null
         ],
         "y": [
          -0.279,
          -0.19375000000000003,
          null
         ]
        },
        {
         "line": {
          "color": "gray",
          "width": 1
         },
         "mode": "lines",
         "type": "scatter",
         "x": [
          -1,
          0.2400000000000001,
          null
         ],
         "y": [
          -0.09299999999999997,
          -0.15500000000000003,
          null
         ]
        },
        {
         "line": {
          "color": "gray",
          "width": 1
         },
         "mode": "lines",
         "type": "scatter",
         "x": [
          -1,
          0.2400000000000001,
          null
         ],
         "y": [
          -0.09299999999999997,
          -0.11624999999999999,
          null
         ]
        },
        {
         "line": {
          "color": "gray",
          "width": 1
         },
         "mode": "lines",
         "type": "scatter",
         "x": [
          -1,
          0.2400000000000001,
          null
         ],
         "y": [
          -0.09299999999999997,
          -0.07750000000000003,
          null
         ]
        },
        {
         "line": {
          "color": "gray",
          "width": 1
         },
         "mode": "lines",
         "type": "scatter",
         "x": [
          -1,
          0.2400000000000001,
          null
         ],
         "y": [
          -0.09299999999999997,
          -0.03875000000000001,
          null
         ]
        },
        {
         "line": {
          "color": "gray",
          "width": 1
         },
         "mode": "lines",
         "type": "scatter",
         "x": [
          -1,
          0.2400000000000001,
          null
         ],
         "y": [
          0.0930000000000001,
          9.992007221626408e-18,
          null
         ]
        },
        {
         "line": {
          "color": "gray",
          "width": 1
         },
         "mode": "lines",
         "type": "scatter",
         "x": [
          -1,
          0.2400000000000001,
          null
         ],
         "y": [
          0.0930000000000001,
          0.03874999999999998,
          null
         ]
        },
        {
         "line": {
          "color": "gray",
          "width": 1
         },
         "mode": "lines",
         "type": "scatter",
         "x": [
          -1,
          0.2400000000000001,
          null
         ],
         "y": [
          0.0930000000000001,
          0.07749999999999994,
          null
         ]
        },
        {
         "line": {
          "color": "gray",
          "width": 1
         },
         "mode": "lines",
         "type": "scatter",
         "x": [
          -1,
          0.2400000000000001,
          null
         ],
         "y": [
          0.0930000000000001,
          0.11625,
          null
         ]
        },
        {
         "line": {
          "color": "gray",
          "width": 1
         },
         "mode": "lines",
         "type": "scatter",
         "x": [
          -1,
          0.2400000000000001,
          null
         ],
         "y": [
          0.0930000000000001,
          0.15499999999999997,
          null
         ]
        },
        {
         "line": {
          "color": "gray",
          "width": 1
         },
         "mode": "lines",
         "type": "scatter",
         "x": [
          -1,
          0.2400000000000001,
          null
         ],
         "y": [
          0.0930000000000001,
          0.19374999999999995,
          null
         ]
        },
        {
         "line": {
          "color": "gray",
          "width": 1
         },
         "mode": "lines",
         "type": "scatter",
         "x": [
          -1,
          0.2400000000000001,
          null
         ],
         "y": [
          0.0930000000000001,
          0.2325,
          null
         ]
        },
        {
         "line": {
          "color": "gray",
          "width": 1
         },
         "mode": "lines",
         "type": "scatter",
         "x": [
          -1,
          0.2400000000000001,
          null
         ],
         "y": [
          0.0930000000000001,
          0.27125,
          null
         ]
        },
        {
         "line": {
          "color": "gray",
          "width": 1
         },
         "mode": "lines",
         "type": "scatter",
         "x": [
          -1,
          0.2400000000000001,
          null
         ],
         "y": [
          0.0930000000000001,
          0.30999999999999994,
          null
         ]
        },
        {
         "line": {
          "color": "gray",
          "width": 1
         },
         "mode": "lines",
         "type": "scatter",
         "x": [
          -1,
          0.2400000000000001,
          null
         ],
         "y": [
          0.2790000000000001,
          0.34875,
          null
         ]
        },
        {
         "line": {
          "color": "gray",
          "width": 1
         },
         "mode": "lines",
         "type": "scatter",
         "x": [
          -1,
          0.2400000000000001,
          null
         ],
         "y": [
          0.465,
          0.3875,
          null
         ]
        },
        {
         "line": {
          "color": "gray",
          "width": 1
         },
         "mode": "lines",
         "type": "scatter",
         "x": [
          -1,
          0.2400000000000001,
          null
         ],
         "y": [
          0.465,
          0.42624999999999996,
          null
         ]
        },
        {
         "line": {
          "color": "gray",
          "width": 1
         },
         "mode": "lines",
         "type": "scatter",
         "x": [
          -1,
          0.2400000000000001,
          null
         ],
         "y": [
          0.465,
          0.465,
          null
         ]
        }
       ],
       "layout": {
        "height": 1000,
        "showlegend": false,
        "template": {
         "data": {
          "bar": [
           {
            "error_x": {
             "color": "#2a3f5f"
            },
            "error_y": {
             "color": "#2a3f5f"
            },
            "marker": {
             "line": {
              "color": "#E5ECF6",
              "width": 0.5
             },
             "pattern": {
              "fillmode": "overlay",
              "size": 10,
              "solidity": 0.2
             }
            },
            "type": "bar"
           }
          ],
          "barpolar": [
           {
            "marker": {
             "line": {
              "color": "#E5ECF6",
              "width": 0.5
             },
             "pattern": {
              "fillmode": "overlay",
              "size": 10,
              "solidity": 0.2
             }
            },
            "type": "barpolar"
           }
          ],
          "carpet": [
           {
            "aaxis": {
             "endlinecolor": "#2a3f5f",
             "gridcolor": "white",
             "linecolor": "white",
             "minorgridcolor": "white",
             "startlinecolor": "#2a3f5f"
            },
            "baxis": {
             "endlinecolor": "#2a3f5f",
             "gridcolor": "white",
             "linecolor": "white",
             "minorgridcolor": "white",
             "startlinecolor": "#2a3f5f"
            },
            "type": "carpet"
           }
          ],
          "choropleth": [
           {
            "colorbar": {
             "outlinewidth": 0,
             "ticks": ""
            },
            "type": "choropleth"
           }
          ],
          "contour": [
           {
            "colorbar": {
             "outlinewidth": 0,
             "ticks": ""
            },
            "colorscale": [
             [
              0,
              "#0d0887"
             ],
             [
              0.1111111111111111,
              "#46039f"
             ],
             [
              0.2222222222222222,
              "#7201a8"
             ],
             [
              0.3333333333333333,
              "#9c179e"
             ],
             [
              0.4444444444444444,
              "#bd3786"
             ],
             [
              0.5555555555555556,
              "#d8576b"
             ],
             [
              0.6666666666666666,
              "#ed7953"
             ],
             [
              0.7777777777777778,
              "#fb9f3a"
             ],
             [
              0.8888888888888888,
              "#fdca26"
             ],
             [
              1,
              "#f0f921"
             ]
            ],
            "type": "contour"
           }
          ],
          "contourcarpet": [
           {
            "colorbar": {
             "outlinewidth": 0,
             "ticks": ""
            },
            "type": "contourcarpet"
           }
          ],
          "heatmap": [
           {
            "colorbar": {
             "outlinewidth": 0,
             "ticks": ""
            },
            "colorscale": [
             [
              0,
              "#0d0887"
             ],
             [
              0.1111111111111111,
              "#46039f"
             ],
             [
              0.2222222222222222,
              "#7201a8"
             ],
             [
              0.3333333333333333,
              "#9c179e"
             ],
             [
              0.4444444444444444,
              "#bd3786"
             ],
             [
              0.5555555555555556,
              "#d8576b"
             ],
             [
              0.6666666666666666,
              "#ed7953"
             ],
             [
              0.7777777777777778,
              "#fb9f3a"
             ],
             [
              0.8888888888888888,
              "#fdca26"
             ],
             [
              1,
              "#f0f921"
             ]
            ],
            "type": "heatmap"
           }
          ],
          "heatmapgl": [
           {
            "colorbar": {
             "outlinewidth": 0,
             "ticks": ""
            },
            "colorscale": [
             [
              0,
              "#0d0887"
             ],
             [
              0.1111111111111111,
              "#46039f"
             ],
             [
              0.2222222222222222,
              "#7201a8"
             ],
             [
              0.3333333333333333,
              "#9c179e"
             ],
             [
              0.4444444444444444,
              "#bd3786"
             ],
             [
              0.5555555555555556,
              "#d8576b"
             ],
             [
              0.6666666666666666,
              "#ed7953"
             ],
             [
              0.7777777777777778,
              "#fb9f3a"
             ],
             [
              0.8888888888888888,
              "#fdca26"
             ],
             [
              1,
              "#f0f921"
             ]
            ],
            "type": "heatmapgl"
           }
          ],
          "histogram": [
           {
            "marker": {
             "pattern": {
              "fillmode": "overlay",
              "size": 10,
              "solidity": 0.2
             }
            },
            "type": "histogram"
           }
          ],
          "histogram2d": [
           {
            "colorbar": {
             "outlinewidth": 0,
             "ticks": ""
            },
            "colorscale": [
             [
              0,
              "#0d0887"
             ],
             [
              0.1111111111111111,
              "#46039f"
             ],
             [
              0.2222222222222222,
              "#7201a8"
             ],
             [
              0.3333333333333333,
              "#9c179e"
             ],
             [
              0.4444444444444444,
              "#bd3786"
             ],
             [
              0.5555555555555556,
              "#d8576b"
             ],
             [
              0.6666666666666666,
              "#ed7953"
             ],
             [
              0.7777777777777778,
              "#fb9f3a"
             ],
             [
              0.8888888888888888,
              "#fdca26"
             ],
             [
              1,
              "#f0f921"
             ]
            ],
            "type": "histogram2d"
           }
          ],
          "histogram2dcontour": [
           {
            "colorbar": {
             "outlinewidth": 0,
             "ticks": ""
            },
            "colorscale": [
             [
              0,
              "#0d0887"
             ],
             [
              0.1111111111111111,
              "#46039f"
             ],
             [
              0.2222222222222222,
              "#7201a8"
             ],
             [
              0.3333333333333333,
              "#9c179e"
             ],
             [
              0.4444444444444444,
              "#bd3786"
             ],
             [
              0.5555555555555556,
              "#d8576b"
             ],
             [
              0.6666666666666666,
              "#ed7953"
             ],
             [
              0.7777777777777778,
              "#fb9f3a"
             ],
             [
              0.8888888888888888,
              "#fdca26"
             ],
             [
              1,
              "#f0f921"
             ]
            ],
            "type": "histogram2dcontour"
           }
          ],
          "mesh3d": [
           {
            "colorbar": {
             "outlinewidth": 0,
             "ticks": ""
            },
            "type": "mesh3d"
           }
          ],
          "parcoords": [
           {
            "line": {
             "colorbar": {
              "outlinewidth": 0,
              "ticks": ""
             }
            },
            "type": "parcoords"
           }
          ],
          "pie": [
           {
            "automargin": true,
            "type": "pie"
           }
          ],
          "scatter": [
           {
            "fillpattern": {
             "fillmode": "overlay",
             "size": 10,
             "solidity": 0.2
            },
            "type": "scatter"
           }
          ],
          "scatter3d": [
           {
            "line": {
             "colorbar": {
              "outlinewidth": 0,
              "ticks": ""
             }
            },
            "marker": {
             "colorbar": {
              "outlinewidth": 0,
              "ticks": ""
             }
            },
            "type": "scatter3d"
           }
          ],
          "scattercarpet": [
           {
            "marker": {
             "colorbar": {
              "outlinewidth": 0,
              "ticks": ""
             }
            },
            "type": "scattercarpet"
           }
          ],
          "scattergeo": [
           {
            "marker": {
             "colorbar": {
              "outlinewidth": 0,
              "ticks": ""
             }
            },
            "type": "scattergeo"
           }
          ],
          "scattergl": [
           {
            "marker": {
             "colorbar": {
              "outlinewidth": 0,
              "ticks": ""
             }
            },
            "type": "scattergl"
           }
          ],
          "scattermapbox": [
           {
            "marker": {
             "colorbar": {
              "outlinewidth": 0,
              "ticks": ""
             }
            },
            "type": "scattermapbox"
           }
          ],
          "scatterpolar": [
           {
            "marker": {
             "colorbar": {
              "outlinewidth": 0,
              "ticks": ""
             }
            },
            "type": "scatterpolar"
           }
          ],
          "scatterpolargl": [
           {
            "marker": {
             "colorbar": {
              "outlinewidth": 0,
              "ticks": ""
             }
            },
            "type": "scatterpolargl"
           }
          ],
          "scatterternary": [
           {
            "marker": {
             "colorbar": {
              "outlinewidth": 0,
              "ticks": ""
             }
            },
            "type": "scatterternary"
           }
          ],
          "surface": [
           {
            "colorbar": {
             "outlinewidth": 0,
             "ticks": ""
            },
            "colorscale": [
             [
              0,
              "#0d0887"
             ],
             [
              0.1111111111111111,
              "#46039f"
             ],
             [
              0.2222222222222222,
              "#7201a8"
             ],
             [
              0.3333333333333333,
              "#9c179e"
             ],
             [
              0.4444444444444444,
              "#bd3786"
             ],
             [
              0.5555555555555556,
              "#d8576b"
             ],
             [
              0.6666666666666666,
              "#ed7953"
             ],
             [
              0.7777777777777778,
              "#fb9f3a"
             ],
             [
              0.8888888888888888,
              "#fdca26"
             ],
             [
              1,
              "#f0f921"
             ]
            ],
            "type": "surface"
           }
          ],
          "table": [
           {
            "cells": {
             "fill": {
              "color": "#EBF0F8"
             },
             "line": {
              "color": "white"
             }
            },
            "header": {
             "fill": {
              "color": "#C8D4E3"
             },
             "line": {
              "color": "white"
             }
            },
            "type": "table"
           }
          ]
         },
         "layout": {
          "annotationdefaults": {
           "arrowcolor": "#2a3f5f",
           "arrowhead": 0,
           "arrowwidth": 1
          },
          "autotypenumbers": "strict",
          "coloraxis": {
           "colorbar": {
            "outlinewidth": 0,
            "ticks": ""
           }
          },
          "colorscale": {
           "diverging": [
            [
             0,
             "#8e0152"
            ],
            [
             0.1,
             "#c51b7d"
            ],
            [
             0.2,
             "#de77ae"
            ],
            [
             0.3,
             "#f1b6da"
            ],
            [
             0.4,
             "#fde0ef"
            ],
            [
             0.5,
             "#f7f7f7"
            ],
            [
             0.6,
             "#e6f5d0"
            ],
            [
             0.7,
             "#b8e186"
            ],
            [
             0.8,
             "#7fbc41"
            ],
            [
             0.9,
             "#4d9221"
            ],
            [
             1,
             "#276419"
            ]
           ],
           "sequential": [
            [
             0,
             "#0d0887"
            ],
            [
             0.1111111111111111,
             "#46039f"
            ],
            [
             0.2222222222222222,
             "#7201a8"
            ],
            [
             0.3333333333333333,
             "#9c179e"
            ],
            [
             0.4444444444444444,
             "#bd3786"
            ],
            [
             0.5555555555555556,
             "#d8576b"
            ],
            [
             0.6666666666666666,
             "#ed7953"
            ],
            [
             0.7777777777777778,
             "#fb9f3a"
            ],
            [
             0.8888888888888888,
             "#fdca26"
            ],
            [
             1,
             "#f0f921"
            ]
           ],
           "sequentialminus": [
            [
             0,
             "#0d0887"
            ],
            [
             0.1111111111111111,
             "#46039f"
            ],
            [
             0.2222222222222222,
             "#7201a8"
            ],
            [
             0.3333333333333333,
             "#9c179e"
            ],
            [
             0.4444444444444444,
             "#bd3786"
            ],
            [
             0.5555555555555556,
             "#d8576b"
            ],
            [
             0.6666666666666666,
             "#ed7953"
            ],
            [
             0.7777777777777778,
             "#fb9f3a"
            ],
            [
             0.8888888888888888,
             "#fdca26"
            ],
            [
             1,
             "#f0f921"
            ]
           ]
          },
          "colorway": [
           "#636efa",
           "#EF553B",
           "#00cc96",
           "#ab63fa",
           "#FFA15A",
           "#19d3f3",
           "#FF6692",
           "#B6E880",
           "#FF97FF",
           "#FECB52"
          ],
          "font": {
           "color": "#2a3f5f"
          },
          "geo": {
           "bgcolor": "white",
           "lakecolor": "white",
           "landcolor": "#E5ECF6",
           "showlakes": true,
           "showland": true,
           "subunitcolor": "white"
          },
          "hoverlabel": {
           "align": "left"
          },
          "hovermode": "closest",
          "mapbox": {
           "style": "light"
          },
          "paper_bgcolor": "white",
          "plot_bgcolor": "#E5ECF6",
          "polar": {
           "angularaxis": {
            "gridcolor": "white",
            "linecolor": "white",
            "ticks": ""
           },
           "bgcolor": "#E5ECF6",
           "radialaxis": {
            "gridcolor": "white",
            "linecolor": "white",
            "ticks": ""
           }
          },
          "scene": {
           "xaxis": {
            "backgroundcolor": "#E5ECF6",
            "gridcolor": "white",
            "gridwidth": 2,
            "linecolor": "white",
            "showbackground": true,
            "ticks": "",
            "zerolinecolor": "white"
           },
           "yaxis": {
            "backgroundcolor": "#E5ECF6",
            "gridcolor": "white",
            "gridwidth": 2,
            "linecolor": "white",
            "showbackground": true,
            "ticks": "",
            "zerolinecolor": "white"
           },
           "zaxis": {
            "backgroundcolor": "#E5ECF6",
            "gridcolor": "white",
            "gridwidth": 2,
            "linecolor": "white",
            "showbackground": true,
            "ticks": "",
            "zerolinecolor": "white"
           }
          },
          "shapedefaults": {
           "line": {
            "color": "#2a3f5f"
           }
          },
          "ternary": {
           "aaxis": {
            "gridcolor": "white",
            "linecolor": "white",
            "ticks": ""
           },
           "baxis": {
            "gridcolor": "white",
            "linecolor": "white",
            "ticks": ""
           },
           "bgcolor": "#E5ECF6",
           "caxis": {
            "gridcolor": "white",
            "linecolor": "white",
            "ticks": ""
           }
          },
          "title": {
           "x": 0.05
          },
          "xaxis": {
           "automargin": true,
           "gridcolor": "white",
           "linecolor": "white",
           "ticks": "",
           "title": {
            "standoff": 15
           },
           "zerolinecolor": "white",
           "zerolinewidth": 2
          },
          "yaxis": {
           "automargin": true,
           "gridcolor": "white",
           "linecolor": "white",
           "ticks": "",
           "title": {
            "standoff": 15
           },
           "zerolinecolor": "white",
           "zerolinewidth": 2
          }
         }
        },
        "title": {
         "text": "Bipartite Graph of Drugs and Links"
        },
        "width": 1100,
        "xaxis": {
         "autorange": true,
         "range": [
          -1.0792201559688062,
          0.3192201559688064
         ],
         "type": "linear"
        },
        "yaxis": {
         "autorange": true,
         "range": [
          -0.5255685733976568,
          0.5255685733976568
         ],
         "type": "linear"
        }
       }
      },
      "text/html": [
       "<div>                            <div id=\"72f318dd-dc97-41d6-821c-bf8eb7e95048\" class=\"plotly-graph-div\" style=\"height:1000px; width:1100px;\"></div>            <script type=\"text/javascript\">                require([\"plotly\"], function(Plotly) {                    window.PLOTLYENV=window.PLOTLYENV || {};                                    if (document.getElementById(\"72f318dd-dc97-41d6-821c-bf8eb7e95048\")) {                    Plotly.newPlot(                        \"72f318dd-dc97-41d6-821c-bf8eb7e95048\",                        [{\"marker\":{\"color\":\"lightblue\",\"size\":10},\"mode\":\"markers+text\",\"name\":\"Drugs\",\"text\":[\"Lepirudin\",\"Cetuximab\",\"Etanercept\",\"Leuprolide\",\"Peginterferon alfa-2a\",\"Alteplase\"],\"textposition\":\"top center\",\"x\":[-1.0,-1.0,-1.0,-1.0,-1.0,-1.0],\"y\":[-0.465,-0.279,-0.09299999999999997,0.0930000000000001,0.2790000000000001,0.465],\"type\":\"scatter\"},{\"marker\":{\"color\":\"lightgreen\",\"size\":10},\"mode\":\"markers+text\",\"name\":\"Links\",\"text\":[\"Google books\",\"Health Canada Approved Drug Products: Refludan (lepirudin) lyophilized powder for intravenous injection\",\"FDA Clinical Pharmacology and Biopharmaceutics Review: Refludan (lepirudin) lyophilized powder for intravenous injection\",\"EMA Summary of Product Characteristics: Refludan (lepirudin) powder for intravenous injection or infusion\",\"Bayer HealthCare: Discontinuation of Refludan [lepirudin (rDNA) for injection]\",\"Bristol-Myers Squibb Company: Cetuximab Safety Data Sheet\",\"FDA Approved Drug Products: ERBITUX (cetuximab) injection, for intravenous use\",\"StatPearls: Cetuximab\",\"FDA Approved Drug Products: Enbrel (etanercept) injection solution\",\"Health Canada Approved Drug Products: RYMTI (etanercept) solution for injection (August 2022)\",\"FDA Approved Drug Products: ENBREL\\u00ae (etanercept) injection, for subcutaneous use (October 2023)\",\"FDA Approved Drug Products: Erelzi (etanercept) injection\",\"FDA Approved Drug Products: Lupaneta Pack for intramuscular and oral use\",\"FDA Approved Drug Products: Lupron Depot (leuprolide acetate) depot suspension, for intramuscular injection\",\"FDA Approved Drug Products: Lupron Depot-Ped (leuprolide acetate) depot suspension\",\"FDA Approved Drug Products: Fensolvi (leuprolide acetate) suspension\",\"FDA Approved Drug Products: ELIGARD (leuprolide acetate) for injectable suspension, for subcutaneous use\",\"FDA Approved Drug Products: Lupron Depot 3.75mg (leuprolide acetate) depot suspension\",\"FDA Approved Drug Products: Lupron (leuprolide) injection; discontinued\",\"FDA Approved Drug Products: CAMCEVI (leuprolide) injectable emulsion, for subcutaneous use\",\"FDA Approved Drug Products: LUPRON DEPOT (leuprolide acetate for depot suspension) (Dec 2023)\",\"American Association for the Study of Liver Diseases; Infectious Diseases Society of America. HCV guidance. http:\\u002f\\u002fhcvguidelines.org. Accessed June 12, 2017.\",\"FDA Approved Drug Products: ACTIVASE (alteplase) injection for intravenous use\",\"Genentech: ACTIVASE (alteplase) SDS\",\"FDA Approved Drug Products: Cathflo Activase (alteplase) powder for reconstitution for use in central venous access devices\"],\"textposition\":\"top center\",\"x\":[0.2400000000000001,0.2400000000000001,0.2400000000000001,0.2400000000000001,0.2400000000000001,0.2400000000000001,0.2400000000000001,0.2400000000000001,0.2400000000000001,0.2400000000000001,0.2400000000000001,0.2400000000000001,0.2400000000000001,0.2400000000000001,0.2400000000000001,0.2400000000000001,0.2400000000000001,0.2400000000000001,0.2400000000000001,0.2400000000000001,0.2400000000000001,0.2400000000000001,0.2400000000000001,0.2400000000000001,0.2400000000000001],\"y\":[-0.465,-0.42625,-0.3875,-0.34875,-0.31000000000000005,-0.27125000000000005,-0.2325,-0.19375000000000003,-0.15500000000000003,-0.11624999999999999,-0.07750000000000003,-0.03875000000000001,9.992007221626408e-18,0.03874999999999998,0.07749999999999994,0.11625,0.15499999999999997,0.19374999999999995,0.2325,0.27125,0.30999999999999994,0.34875,0.3875,0.42624999999999996,0.465],\"type\":\"scatter\"},{\"line\":{\"color\":\"gray\",\"width\":1},\"mode\":\"lines\",\"x\":[-1.0,0.2400000000000001,null],\"y\":[-0.465,-0.465,null],\"type\":\"scatter\"},{\"line\":{\"color\":\"gray\",\"width\":1},\"mode\":\"lines\",\"x\":[-1.0,0.2400000000000001,null],\"y\":[-0.465,-0.42625,null],\"type\":\"scatter\"},{\"line\":{\"color\":\"gray\",\"width\":1},\"mode\":\"lines\",\"x\":[-1.0,0.2400000000000001,null],\"y\":[-0.465,-0.3875,null],\"type\":\"scatter\"},{\"line\":{\"color\":\"gray\",\"width\":1},\"mode\":\"lines\",\"x\":[-1.0,0.2400000000000001,null],\"y\":[-0.465,-0.34875,null],\"type\":\"scatter\"},{\"line\":{\"color\":\"gray\",\"width\":1},\"mode\":\"lines\",\"x\":[-1.0,0.2400000000000001,null],\"y\":[-0.465,-0.31000000000000005,null],\"type\":\"scatter\"},{\"line\":{\"color\":\"gray\",\"width\":1},\"mode\":\"lines\",\"x\":[-1.0,0.2400000000000001,null],\"y\":[-0.279,-0.27125000000000005,null],\"type\":\"scatter\"},{\"line\":{\"color\":\"gray\",\"width\":1},\"mode\":\"lines\",\"x\":[-1.0,0.2400000000000001,null],\"y\":[-0.279,-0.2325,null],\"type\":\"scatter\"},{\"line\":{\"color\":\"gray\",\"width\":1},\"mode\":\"lines\",\"x\":[-1.0,0.2400000000000001,null],\"y\":[-0.279,-0.19375000000000003,null],\"type\":\"scatter\"},{\"line\":{\"color\":\"gray\",\"width\":1},\"mode\":\"lines\",\"x\":[-1.0,0.2400000000000001,null],\"y\":[-0.09299999999999997,-0.15500000000000003,null],\"type\":\"scatter\"},{\"line\":{\"color\":\"gray\",\"width\":1},\"mode\":\"lines\",\"x\":[-1.0,0.2400000000000001,null],\"y\":[-0.09299999999999997,-0.11624999999999999,null],\"type\":\"scatter\"},{\"line\":{\"color\":\"gray\",\"width\":1},\"mode\":\"lines\",\"x\":[-1.0,0.2400000000000001,null],\"y\":[-0.09299999999999997,-0.07750000000000003,null],\"type\":\"scatter\"},{\"line\":{\"color\":\"gray\",\"width\":1},\"mode\":\"lines\",\"x\":[-1.0,0.2400000000000001,null],\"y\":[-0.09299999999999997,-0.03875000000000001,null],\"type\":\"scatter\"},{\"line\":{\"color\":\"gray\",\"width\":1},\"mode\":\"lines\",\"x\":[-1.0,0.2400000000000001,null],\"y\":[0.0930000000000001,9.992007221626408e-18,null],\"type\":\"scatter\"},{\"line\":{\"color\":\"gray\",\"width\":1},\"mode\":\"lines\",\"x\":[-1.0,0.2400000000000001,null],\"y\":[0.0930000000000001,0.03874999999999998,null],\"type\":\"scatter\"},{\"line\":{\"color\":\"gray\",\"width\":1},\"mode\":\"lines\",\"x\":[-1.0,0.2400000000000001,null],\"y\":[0.0930000000000001,0.07749999999999994,null],\"type\":\"scatter\"},{\"line\":{\"color\":\"gray\",\"width\":1},\"mode\":\"lines\",\"x\":[-1.0,0.2400000000000001,null],\"y\":[0.0930000000000001,0.11625,null],\"type\":\"scatter\"},{\"line\":{\"color\":\"gray\",\"width\":1},\"mode\":\"lines\",\"x\":[-1.0,0.2400000000000001,null],\"y\":[0.0930000000000001,0.15499999999999997,null],\"type\":\"scatter\"},{\"line\":{\"color\":\"gray\",\"width\":1},\"mode\":\"lines\",\"x\":[-1.0,0.2400000000000001,null],\"y\":[0.0930000000000001,0.19374999999999995,null],\"type\":\"scatter\"},{\"line\":{\"color\":\"gray\",\"width\":1},\"mode\":\"lines\",\"x\":[-1.0,0.2400000000000001,null],\"y\":[0.0930000000000001,0.2325,null],\"type\":\"scatter\"},{\"line\":{\"color\":\"gray\",\"width\":1},\"mode\":\"lines\",\"x\":[-1.0,0.2400000000000001,null],\"y\":[0.0930000000000001,0.27125,null],\"type\":\"scatter\"},{\"line\":{\"color\":\"gray\",\"width\":1},\"mode\":\"lines\",\"x\":[-1.0,0.2400000000000001,null],\"y\":[0.0930000000000001,0.30999999999999994,null],\"type\":\"scatter\"},{\"line\":{\"color\":\"gray\",\"width\":1},\"mode\":\"lines\",\"x\":[-1.0,0.2400000000000001,null],\"y\":[0.2790000000000001,0.34875,null],\"type\":\"scatter\"},{\"line\":{\"color\":\"gray\",\"width\":1},\"mode\":\"lines\",\"x\":[-1.0,0.2400000000000001,null],\"y\":[0.465,0.3875,null],\"type\":\"scatter\"},{\"line\":{\"color\":\"gray\",\"width\":1},\"mode\":\"lines\",\"x\":[-1.0,0.2400000000000001,null],\"y\":[0.465,0.42624999999999996,null],\"type\":\"scatter\"},{\"line\":{\"color\":\"gray\",\"width\":1},\"mode\":\"lines\",\"x\":[-1.0,0.2400000000000001,null],\"y\":[0.465,0.465,null],\"type\":\"scatter\"}],                        {\"template\":{\"data\":{\"histogram2dcontour\":[{\"type\":\"histogram2dcontour\",\"colorbar\":{\"outlinewidth\":0,\"ticks\":\"\"},\"colorscale\":[[0.0,\"#0d0887\"],[0.1111111111111111,\"#46039f\"],[0.2222222222222222,\"#7201a8\"],[0.3333333333333333,\"#9c179e\"],[0.4444444444444444,\"#bd3786\"],[0.5555555555555556,\"#d8576b\"],[0.6666666666666666,\"#ed7953\"],[0.7777777777777778,\"#fb9f3a\"],[0.8888888888888888,\"#fdca26\"],[1.0,\"#f0f921\"]]}],\"choropleth\":[{\"type\":\"choropleth\",\"colorbar\":{\"outlinewidth\":0,\"ticks\":\"\"}}],\"histogram2d\":[{\"type\":\"histogram2d\",\"colorbar\":{\"outlinewidth\":0,\"ticks\":\"\"},\"colorscale\":[[0.0,\"#0d0887\"],[0.1111111111111111,\"#46039f\"],[0.2222222222222222,\"#7201a8\"],[0.3333333333333333,\"#9c179e\"],[0.4444444444444444,\"#bd3786\"],[0.5555555555555556,\"#d8576b\"],[0.6666666666666666,\"#ed7953\"],[0.7777777777777778,\"#fb9f3a\"],[0.8888888888888888,\"#fdca26\"],[1.0,\"#f0f921\"]]}],\"heatmap\":[{\"type\":\"heatmap\",\"colorbar\":{\"outlinewidth\":0,\"ticks\":\"\"},\"colorscale\":[[0.0,\"#0d0887\"],[0.1111111111111111,\"#46039f\"],[0.2222222222222222,\"#7201a8\"],[0.3333333333333333,\"#9c179e\"],[0.4444444444444444,\"#bd3786\"],[0.5555555555555556,\"#d8576b\"],[0.6666666666666666,\"#ed7953\"],[0.7777777777777778,\"#fb9f3a\"],[0.8888888888888888,\"#fdca26\"],[1.0,\"#f0f921\"]]}],\"heatmapgl\":[{\"type\":\"heatmapgl\",\"colorbar\":{\"outlinewidth\":0,\"ticks\":\"\"},\"colorscale\":[[0.0,\"#0d0887\"],[0.1111111111111111,\"#46039f\"],[0.2222222222222222,\"#7201a8\"],[0.3333333333333333,\"#9c179e\"],[0.4444444444444444,\"#bd3786\"],[0.5555555555555556,\"#d8576b\"],[0.6666666666666666,\"#ed7953\"],[0.7777777777777778,\"#fb9f3a\"],[0.8888888888888888,\"#fdca26\"],[1.0,\"#f0f921\"]]}],\"contourcarpet\":[{\"type\":\"contourcarpet\",\"colorbar\":{\"outlinewidth\":0,\"ticks\":\"\"}}],\"contour\":[{\"type\":\"contour\",\"colorbar\":{\"outlinewidth\":0,\"ticks\":\"\"},\"colorscale\":[[0.0,\"#0d0887\"],[0.1111111111111111,\"#46039f\"],[0.2222222222222222,\"#7201a8\"],[0.3333333333333333,\"#9c179e\"],[0.4444444444444444,\"#bd3786\"],[0.5555555555555556,\"#d8576b\"],[0.6666666666666666,\"#ed7953\"],[0.7777777777777778,\"#fb9f3a\"],[0.8888888888888888,\"#fdca26\"],[1.0,\"#f0f921\"]]}],\"surface\":[{\"type\":\"surface\",\"colorbar\":{\"outlinewidth\":0,\"ticks\":\"\"},\"colorscale\":[[0.0,\"#0d0887\"],[0.1111111111111111,\"#46039f\"],[0.2222222222222222,\"#7201a8\"],[0.3333333333333333,\"#9c179e\"],[0.4444444444444444,\"#bd3786\"],[0.5555555555555556,\"#d8576b\"],[0.6666666666666666,\"#ed7953\"],[0.7777777777777778,\"#fb9f3a\"],[0.8888888888888888,\"#fdca26\"],[1.0,\"#f0f921\"]]}],\"mesh3d\":[{\"type\":\"mesh3d\",\"colorbar\":{\"outlinewidth\":0,\"ticks\":\"\"}}],\"scatter\":[{\"fillpattern\":{\"fillmode\":\"overlay\",\"size\":10,\"solidity\":0.2},\"type\":\"scatter\"}],\"parcoords\":[{\"type\":\"parcoords\",\"line\":{\"colorbar\":{\"outlinewidth\":0,\"ticks\":\"\"}}}],\"scatterpolargl\":[{\"type\":\"scatterpolargl\",\"marker\":{\"colorbar\":{\"outlinewidth\":0,\"ticks\":\"\"}}}],\"bar\":[{\"error_x\":{\"color\":\"#2a3f5f\"},\"error_y\":{\"color\":\"#2a3f5f\"},\"marker\":{\"line\":{\"color\":\"#E5ECF6\",\"width\":0.5},\"pattern\":{\"fillmode\":\"overlay\",\"size\":10,\"solidity\":0.2}},\"type\":\"bar\"}],\"scattergeo\":[{\"type\":\"scattergeo\",\"marker\":{\"colorbar\":{\"outlinewidth\":0,\"ticks\":\"\"}}}],\"scatterpolar\":[{\"type\":\"scatterpolar\",\"marker\":{\"colorbar\":{\"outlinewidth\":0,\"ticks\":\"\"}}}],\"histogram\":[{\"marker\":{\"pattern\":{\"fillmode\":\"overlay\",\"size\":10,\"solidity\":0.2}},\"type\":\"histogram\"}],\"scattergl\":[{\"type\":\"scattergl\",\"marker\":{\"colorbar\":{\"outlinewidth\":0,\"ticks\":\"\"}}}],\"scatter3d\":[{\"type\":\"scatter3d\",\"line\":{\"colorbar\":{\"outlinewidth\":0,\"ticks\":\"\"}},\"marker\":{\"colorbar\":{\"outlinewidth\":0,\"ticks\":\"\"}}}],\"scattermapbox\":[{\"type\":\"scattermapbox\",\"marker\":{\"colorbar\":{\"outlinewidth\":0,\"ticks\":\"\"}}}],\"scatterternary\":[{\"type\":\"scatterternary\",\"marker\":{\"colorbar\":{\"outlinewidth\":0,\"ticks\":\"\"}}}],\"scattercarpet\":[{\"type\":\"scattercarpet\",\"marker\":{\"colorbar\":{\"outlinewidth\":0,\"ticks\":\"\"}}}],\"carpet\":[{\"aaxis\":{\"endlinecolor\":\"#2a3f5f\",\"gridcolor\":\"white\",\"linecolor\":\"white\",\"minorgridcolor\":\"white\",\"startlinecolor\":\"#2a3f5f\"},\"baxis\":{\"endlinecolor\":\"#2a3f5f\",\"gridcolor\":\"white\",\"linecolor\":\"white\",\"minorgridcolor\":\"white\",\"startlinecolor\":\"#2a3f5f\"},\"type\":\"carpet\"}],\"table\":[{\"cells\":{\"fill\":{\"color\":\"#EBF0F8\"},\"line\":{\"color\":\"white\"}},\"header\":{\"fill\":{\"color\":\"#C8D4E3\"},\"line\":{\"color\":\"white\"}},\"type\":\"table\"}],\"barpolar\":[{\"marker\":{\"line\":{\"color\":\"#E5ECF6\",\"width\":0.5},\"pattern\":{\"fillmode\":\"overlay\",\"size\":10,\"solidity\":0.2}},\"type\":\"barpolar\"}],\"pie\":[{\"automargin\":true,\"type\":\"pie\"}]},\"layout\":{\"autotypenumbers\":\"strict\",\"colorway\":[\"#636efa\",\"#EF553B\",\"#00cc96\",\"#ab63fa\",\"#FFA15A\",\"#19d3f3\",\"#FF6692\",\"#B6E880\",\"#FF97FF\",\"#FECB52\"],\"font\":{\"color\":\"#2a3f5f\"},\"hovermode\":\"closest\",\"hoverlabel\":{\"align\":\"left\"},\"paper_bgcolor\":\"white\",\"plot_bgcolor\":\"#E5ECF6\",\"polar\":{\"bgcolor\":\"#E5ECF6\",\"angularaxis\":{\"gridcolor\":\"white\",\"linecolor\":\"white\",\"ticks\":\"\"},\"radialaxis\":{\"gridcolor\":\"white\",\"linecolor\":\"white\",\"ticks\":\"\"}},\"ternary\":{\"bgcolor\":\"#E5ECF6\",\"aaxis\":{\"gridcolor\":\"white\",\"linecolor\":\"white\",\"ticks\":\"\"},\"baxis\":{\"gridcolor\":\"white\",\"linecolor\":\"white\",\"ticks\":\"\"},\"caxis\":{\"gridcolor\":\"white\",\"linecolor\":\"white\",\"ticks\":\"\"}},\"coloraxis\":{\"colorbar\":{\"outlinewidth\":0,\"ticks\":\"\"}},\"colorscale\":{\"sequential\":[[0.0,\"#0d0887\"],[0.1111111111111111,\"#46039f\"],[0.2222222222222222,\"#7201a8\"],[0.3333333333333333,\"#9c179e\"],[0.4444444444444444,\"#bd3786\"],[0.5555555555555556,\"#d8576b\"],[0.6666666666666666,\"#ed7953\"],[0.7777777777777778,\"#fb9f3a\"],[0.8888888888888888,\"#fdca26\"],[1.0,\"#f0f921\"]],\"sequentialminus\":[[0.0,\"#0d0887\"],[0.1111111111111111,\"#46039f\"],[0.2222222222222222,\"#7201a8\"],[0.3333333333333333,\"#9c179e\"],[0.4444444444444444,\"#bd3786\"],[0.5555555555555556,\"#d8576b\"],[0.6666666666666666,\"#ed7953\"],[0.7777777777777778,\"#fb9f3a\"],[0.8888888888888888,\"#fdca26\"],[1.0,\"#f0f921\"]],\"diverging\":[[0,\"#8e0152\"],[0.1,\"#c51b7d\"],[0.2,\"#de77ae\"],[0.3,\"#f1b6da\"],[0.4,\"#fde0ef\"],[0.5,\"#f7f7f7\"],[0.6,\"#e6f5d0\"],[0.7,\"#b8e186\"],[0.8,\"#7fbc41\"],[0.9,\"#4d9221\"],[1,\"#276419\"]]},\"xaxis\":{\"gridcolor\":\"white\",\"linecolor\":\"white\",\"ticks\":\"\",\"title\":{\"standoff\":15},\"zerolinecolor\":\"white\",\"automargin\":true,\"zerolinewidth\":2},\"yaxis\":{\"gridcolor\":\"white\",\"linecolor\":\"white\",\"ticks\":\"\",\"title\":{\"standoff\":15},\"zerolinecolor\":\"white\",\"automargin\":true,\"zerolinewidth\":2},\"scene\":{\"xaxis\":{\"backgroundcolor\":\"#E5ECF6\",\"gridcolor\":\"white\",\"linecolor\":\"white\",\"showbackground\":true,\"ticks\":\"\",\"zerolinecolor\":\"white\",\"gridwidth\":2},\"yaxis\":{\"backgroundcolor\":\"#E5ECF6\",\"gridcolor\":\"white\",\"linecolor\":\"white\",\"showbackground\":true,\"ticks\":\"\",\"zerolinecolor\":\"white\",\"gridwidth\":2},\"zaxis\":{\"backgroundcolor\":\"#E5ECF6\",\"gridcolor\":\"white\",\"linecolor\":\"white\",\"showbackground\":true,\"ticks\":\"\",\"zerolinecolor\":\"white\",\"gridwidth\":2}},\"shapedefaults\":{\"line\":{\"color\":\"#2a3f5f\"}},\"annotationdefaults\":{\"arrowcolor\":\"#2a3f5f\",\"arrowhead\":0,\"arrowwidth\":1},\"geo\":{\"bgcolor\":\"white\",\"landcolor\":\"#E5ECF6\",\"subunitcolor\":\"white\",\"showland\":true,\"showlakes\":true,\"lakecolor\":\"white\"},\"title\":{\"x\":0.05},\"mapbox\":{\"style\":\"light\"}}},\"title\":{\"text\":\"Bipartite Graph of Drugs and Links\"},\"showlegend\":false,\"width\":1100,\"height\":1000},                        {\"responsive\": true}                    ).then(function(){\n",
       "                            \n",
       "var gd = document.getElementById('72f318dd-dc97-41d6-821c-bf8eb7e95048');\n",
       "var x = new MutationObserver(function (mutations, observer) {{\n",
       "        var display = window.getComputedStyle(gd).display;\n",
       "        if (!display || display === 'none') {{\n",
       "            console.log([gd, 'removed!']);\n",
       "            Plotly.purge(gd);\n",
       "            observer.disconnect();\n",
       "        }}\n",
       "}});\n",
       "\n",
       "// Listen for the removal of the full notebook cells\n",
       "var notebookContainer = gd.closest('#notebook-container');\n",
       "if (notebookContainer) {{\n",
       "    x.observe(notebookContainer, {childList: true});\n",
       "}}\n",
       "\n",
       "// Listen for the clearing of the current output cell\n",
       "var outputEl = gd.closest('.output');\n",
       "if (outputEl) {{\n",
       "    x.observe(outputEl, {childList: true});\n",
       "}}\n",
       "\n",
       "                        })                };                });            </script>        </div>"
      ]
     },
     "metadata": {},
     "output_type": "display_data"
    }
   ],
   "source": [
    "# 4, 5 if 'szlaki to links'\n",
    "import pandas as pd\n",
    "import networkx as nx\n",
    "import plotly.graph_objects as go\n",
    "\n",
    "def extract_links(df):\n",
    "    # Verify DataFrame structure\n",
    "    expected_columns = {'drugbank_id', 'name', 'links'}\n",
    "    if not expected_columns.issubset(df.columns):\n",
    "        raise ValueError(f\"DataFrame must contain the following columns: {expected_columns}\")\n",
    "    \n",
    "    columns = [\n",
    "        'drugbank_id', 'name', 'links'\n",
    "    ]\n",
    "    links_info_df = df[columns].copy()\n",
    "    \n",
    "    # Explode lists in 'links' column\n",
    "    links_info_df = links_info_df.explode('links')\n",
    "    \n",
    "    # Remove rows where 'links' is None\n",
    "    links_info_df = links_info_df[links_info_df['links'].notna()]\n",
    "    \n",
    "    # Extract 'title' from 'links' dictionary\n",
    "    links_info_df['link_title'] = links_info_df['links'].apply(lambda x: x['title'] if isinstance(x, dict) else None)\n",
    "    \n",
    "    # Remove rows where 'link_title' is None\n",
    "    links_info_df = links_info_df[links_info_df['link_title'].notna()]\n",
    "    \n",
    "    return links_info_df\n",
    "\n",
    "def display_bipartite_graph(df):\n",
    "    links_info_df = extract_links(df)\n",
    "    \n",
    "    # Create a bipartite graph\n",
    "    B = nx.Graph()\n",
    "\n",
    "    # Add nodes with the bipartite attribute\n",
    "    drugs = links_info_df['name'].unique()\n",
    "    links = links_info_df['link_title'].unique()\n",
    "    B.add_nodes_from(drugs, bipartite=0)\n",
    "    B.add_nodes_from(links, bipartite=1)\n",
    "\n",
    "    # Add edges\n",
    "    for _, row in links_info_df.iterrows():\n",
    "        B.add_edge(row['name'], row['link_title'])\n",
    "\n",
    "    # Extract node positions\n",
    "    pos = nx.drawing.layout.bipartite_layout(B, drugs)\n",
    "\n",
    "    # Create node traces\n",
    "    drug_trace = go.Scatter(\n",
    "        x=[pos[node][0] for node in drugs],\n",
    "        y=[pos[node][1] for node in drugs],\n",
    "        text=list(drugs),\n",
    "        mode='markers+text',\n",
    "        marker=dict(color='lightblue', size=10),\n",
    "        textposition='top center',\n",
    "        name='Drugs'\n",
    "    )\n",
    "\n",
    "    link_trace = go.Scatter(\n",
    "        x=[pos[node][0] for node in links],\n",
    "        y=[pos[node][1] for node in links],\n",
    "        text=list(links),\n",
    "        mode='markers+text',\n",
    "        marker=dict(color='lightgreen', size=10),\n",
    "        textposition='top center',\n",
    "        name='Links'\n",
    "    )\n",
    "\n",
    "    # Create edge traces\n",
    "    edge_trace = []\n",
    "    for edge in B.edges():\n",
    "        x0, y0 = pos[edge[0]]\n",
    "        x1, y1 = pos[edge[1]]\n",
    "        edge_trace.append(go.Scatter(\n",
    "            x=[x0, x1, None],\n",
    "            y=[y0, y1, None],\n",
    "            mode='lines',\n",
    "            line=dict(color='gray', width=1)\n",
    "        ))\n",
    "\n",
    "    # Combine all traces\n",
    "    fig = go.Figure(data=[drug_trace, link_trace] + edge_trace)\n",
    "    fig.update_layout(\n",
    "        title=\"Bipartite Graph of Drugs and Links\",\n",
    "        showlegend=False,\n",
    "        width=1100,\n",
    "        height=1000  # Adjust the height to make the graph taller\n",
    "    )\n",
    "\n",
    "    fig.show()\n",
    "\n",
    "display_bipartite_graph(df_main[0:10])"
   ]
  },
  {
   "cell_type": "code",
   "execution_count": 25,
   "id": "84a5c1fd-ee81-417b-a4ac-02462bf950e6",
   "metadata": {},
   "outputs": [
    {
     "data": {
      "application/vnd.plotly.v1+json": {
       "config": {
        "plotlyServerURL": "https://plot.ly"
       },
       "data": [
        {
         "marker": {
          "color": "blue"
         },
         "nbinsx": 21,
         "type": "histogram",
         "x": [
          21,
          2,
          6,
          1,
          4,
          1,
          1,
          3,
          5,
          2,
          1,
          2,
          1,
          8,
          1,
          3,
          2,
          2,
          6,
          14,
          2,
          3,
          2,
          1,
          2,
          4,
          8,
          1,
          7,
          16,
          1,
          4,
          5,
          3,
          4,
          1,
          1,
          1,
          1,
          1,
          5,
          9,
          4,
          10,
          3,
          2,
          1,
          5,
          2,
          8,
          1,
          2,
          1,
          10,
          8,
          16,
          2,
          1
         ]
        }
       ],
       "layout": {
        "autosize": true,
        "bargap": 0.2,
        "bargroupgap": 0.1,
        "template": {
         "data": {
          "bar": [
           {
            "error_x": {
             "color": "#2a3f5f"
            },
            "error_y": {
             "color": "#2a3f5f"
            },
            "marker": {
             "line": {
              "color": "#E5ECF6",
              "width": 0.5
             },
             "pattern": {
              "fillmode": "overlay",
              "size": 10,
              "solidity": 0.2
             }
            },
            "type": "bar"
           }
          ],
          "barpolar": [
           {
            "marker": {
             "line": {
              "color": "#E5ECF6",
              "width": 0.5
             },
             "pattern": {
              "fillmode": "overlay",
              "size": 10,
              "solidity": 0.2
             }
            },
            "type": "barpolar"
           }
          ],
          "carpet": [
           {
            "aaxis": {
             "endlinecolor": "#2a3f5f",
             "gridcolor": "white",
             "linecolor": "white",
             "minorgridcolor": "white",
             "startlinecolor": "#2a3f5f"
            },
            "baxis": {
             "endlinecolor": "#2a3f5f",
             "gridcolor": "white",
             "linecolor": "white",
             "minorgridcolor": "white",
             "startlinecolor": "#2a3f5f"
            },
            "type": "carpet"
           }
          ],
          "choropleth": [
           {
            "colorbar": {
             "outlinewidth": 0,
             "ticks": ""
            },
            "type": "choropleth"
           }
          ],
          "contour": [
           {
            "colorbar": {
             "outlinewidth": 0,
             "ticks": ""
            },
            "colorscale": [
             [
              0,
              "#0d0887"
             ],
             [
              0.1111111111111111,
              "#46039f"
             ],
             [
              0.2222222222222222,
              "#7201a8"
             ],
             [
              0.3333333333333333,
              "#9c179e"
             ],
             [
              0.4444444444444444,
              "#bd3786"
             ],
             [
              0.5555555555555556,
              "#d8576b"
             ],
             [
              0.6666666666666666,
              "#ed7953"
             ],
             [
              0.7777777777777778,
              "#fb9f3a"
             ],
             [
              0.8888888888888888,
              "#fdca26"
             ],
             [
              1,
              "#f0f921"
             ]
            ],
            "type": "contour"
           }
          ],
          "contourcarpet": [
           {
            "colorbar": {
             "outlinewidth": 0,
             "ticks": ""
            },
            "type": "contourcarpet"
           }
          ],
          "heatmap": [
           {
            "colorbar": {
             "outlinewidth": 0,
             "ticks": ""
            },
            "colorscale": [
             [
              0,
              "#0d0887"
             ],
             [
              0.1111111111111111,
              "#46039f"
             ],
             [
              0.2222222222222222,
              "#7201a8"
             ],
             [
              0.3333333333333333,
              "#9c179e"
             ],
             [
              0.4444444444444444,
              "#bd3786"
             ],
             [
              0.5555555555555556,
              "#d8576b"
             ],
             [
              0.6666666666666666,
              "#ed7953"
             ],
             [
              0.7777777777777778,
              "#fb9f3a"
             ],
             [
              0.8888888888888888,
              "#fdca26"
             ],
             [
              1,
              "#f0f921"
             ]
            ],
            "type": "heatmap"
           }
          ],
          "heatmapgl": [
           {
            "colorbar": {
             "outlinewidth": 0,
             "ticks": ""
            },
            "colorscale": [
             [
              0,
              "#0d0887"
             ],
             [
              0.1111111111111111,
              "#46039f"
             ],
             [
              0.2222222222222222,
              "#7201a8"
             ],
             [
              0.3333333333333333,
              "#9c179e"
             ],
             [
              0.4444444444444444,
              "#bd3786"
             ],
             [
              0.5555555555555556,
              "#d8576b"
             ],
             [
              0.6666666666666666,
              "#ed7953"
             ],
             [
              0.7777777777777778,
              "#fb9f3a"
             ],
             [
              0.8888888888888888,
              "#fdca26"
             ],
             [
              1,
              "#f0f921"
             ]
            ],
            "type": "heatmapgl"
           }
          ],
          "histogram": [
           {
            "marker": {
             "pattern": {
              "fillmode": "overlay",
              "size": 10,
              "solidity": 0.2
             }
            },
            "type": "histogram"
           }
          ],
          "histogram2d": [
           {
            "colorbar": {
             "outlinewidth": 0,
             "ticks": ""
            },
            "colorscale": [
             [
              0,
              "#0d0887"
             ],
             [
              0.1111111111111111,
              "#46039f"
             ],
             [
              0.2222222222222222,
              "#7201a8"
             ],
             [
              0.3333333333333333,
              "#9c179e"
             ],
             [
              0.4444444444444444,
              "#bd3786"
             ],
             [
              0.5555555555555556,
              "#d8576b"
             ],
             [
              0.6666666666666666,
              "#ed7953"
             ],
             [
              0.7777777777777778,
              "#fb9f3a"
             ],
             [
              0.8888888888888888,
              "#fdca26"
             ],
             [
              1,
              "#f0f921"
             ]
            ],
            "type": "histogram2d"
           }
          ],
          "histogram2dcontour": [
           {
            "colorbar": {
             "outlinewidth": 0,
             "ticks": ""
            },
            "colorscale": [
             [
              0,
              "#0d0887"
             ],
             [
              0.1111111111111111,
              "#46039f"
             ],
             [
              0.2222222222222222,
              "#7201a8"
             ],
             [
              0.3333333333333333,
              "#9c179e"
             ],
             [
              0.4444444444444444,
              "#bd3786"
             ],
             [
              0.5555555555555556,
              "#d8576b"
             ],
             [
              0.6666666666666666,
              "#ed7953"
             ],
             [
              0.7777777777777778,
              "#fb9f3a"
             ],
             [
              0.8888888888888888,
              "#fdca26"
             ],
             [
              1,
              "#f0f921"
             ]
            ],
            "type": "histogram2dcontour"
           }
          ],
          "mesh3d": [
           {
            "colorbar": {
             "outlinewidth": 0,
             "ticks": ""
            },
            "type": "mesh3d"
           }
          ],
          "parcoords": [
           {
            "line": {
             "colorbar": {
              "outlinewidth": 0,
              "ticks": ""
             }
            },
            "type": "parcoords"
           }
          ],
          "pie": [
           {
            "automargin": true,
            "type": "pie"
           }
          ],
          "scatter": [
           {
            "fillpattern": {
             "fillmode": "overlay",
             "size": 10,
             "solidity": 0.2
            },
            "type": "scatter"
           }
          ],
          "scatter3d": [
           {
            "line": {
             "colorbar": {
              "outlinewidth": 0,
              "ticks": ""
             }
            },
            "marker": {
             "colorbar": {
              "outlinewidth": 0,
              "ticks": ""
             }
            },
            "type": "scatter3d"
           }
          ],
          "scattercarpet": [
           {
            "marker": {
             "colorbar": {
              "outlinewidth": 0,
              "ticks": ""
             }
            },
            "type": "scattercarpet"
           }
          ],
          "scattergeo": [
           {
            "marker": {
             "colorbar": {
              "outlinewidth": 0,
              "ticks": ""
             }
            },
            "type": "scattergeo"
           }
          ],
          "scattergl": [
           {
            "marker": {
             "colorbar": {
              "outlinewidth": 0,
              "ticks": ""
             }
            },
            "type": "scattergl"
           }
          ],
          "scattermapbox": [
           {
            "marker": {
             "colorbar": {
              "outlinewidth": 0,
              "ticks": ""
             }
            },
            "type": "scattermapbox"
           }
          ],
          "scatterpolar": [
           {
            "marker": {
             "colorbar": {
              "outlinewidth": 0,
              "ticks": ""
             }
            },
            "type": "scatterpolar"
           }
          ],
          "scatterpolargl": [
           {
            "marker": {
             "colorbar": {
              "outlinewidth": 0,
              "ticks": ""
             }
            },
            "type": "scatterpolargl"
           }
          ],
          "scatterternary": [
           {
            "marker": {
             "colorbar": {
              "outlinewidth": 0,
              "ticks": ""
             }
            },
            "type": "scatterternary"
           }
          ],
          "surface": [
           {
            "colorbar": {
             "outlinewidth": 0,
             "ticks": ""
            },
            "colorscale": [
             [
              0,
              "#0d0887"
             ],
             [
              0.1111111111111111,
              "#46039f"
             ],
             [
              0.2222222222222222,
              "#7201a8"
             ],
             [
              0.3333333333333333,
              "#9c179e"
             ],
             [
              0.4444444444444444,
              "#bd3786"
             ],
             [
              0.5555555555555556,
              "#d8576b"
             ],
             [
              0.6666666666666666,
              "#ed7953"
             ],
             [
              0.7777777777777778,
              "#fb9f3a"
             ],
             [
              0.8888888888888888,
              "#fdca26"
             ],
             [
              1,
              "#f0f921"
             ]
            ],
            "type": "surface"
           }
          ],
          "table": [
           {
            "cells": {
             "fill": {
              "color": "#EBF0F8"
             },
             "line": {
              "color": "white"
             }
            },
            "header": {
             "fill": {
              "color": "#C8D4E3"
             },
             "line": {
              "color": "white"
             }
            },
            "type": "table"
           }
          ]
         },
         "layout": {
          "annotationdefaults": {
           "arrowcolor": "#2a3f5f",
           "arrowhead": 0,
           "arrowwidth": 1
          },
          "autotypenumbers": "strict",
          "coloraxis": {
           "colorbar": {
            "outlinewidth": 0,
            "ticks": ""
           }
          },
          "colorscale": {
           "diverging": [
            [
             0,
             "#8e0152"
            ],
            [
             0.1,
             "#c51b7d"
            ],
            [
             0.2,
             "#de77ae"
            ],
            [
             0.3,
             "#f1b6da"
            ],
            [
             0.4,
             "#fde0ef"
            ],
            [
             0.5,
             "#f7f7f7"
            ],
            [
             0.6,
             "#e6f5d0"
            ],
            [
             0.7,
             "#b8e186"
            ],
            [
             0.8,
             "#7fbc41"
            ],
            [
             0.9,
             "#4d9221"
            ],
            [
             1,
             "#276419"
            ]
           ],
           "sequential": [
            [
             0,
             "#0d0887"
            ],
            [
             0.1111111111111111,
             "#46039f"
            ],
            [
             0.2222222222222222,
             "#7201a8"
            ],
            [
             0.3333333333333333,
             "#9c179e"
            ],
            [
             0.4444444444444444,
             "#bd3786"
            ],
            [
             0.5555555555555556,
             "#d8576b"
            ],
            [
             0.6666666666666666,
             "#ed7953"
            ],
            [
             0.7777777777777778,
             "#fb9f3a"
            ],
            [
             0.8888888888888888,
             "#fdca26"
            ],
            [
             1,
             "#f0f921"
            ]
           ],
           "sequentialminus": [
            [
             0,
             "#0d0887"
            ],
            [
             0.1111111111111111,
             "#46039f"
            ],
            [
             0.2222222222222222,
             "#7201a8"
            ],
            [
             0.3333333333333333,
             "#9c179e"
            ],
            [
             0.4444444444444444,
             "#bd3786"
            ],
            [
             0.5555555555555556,
             "#d8576b"
            ],
            [
             0.6666666666666666,
             "#ed7953"
            ],
            [
             0.7777777777777778,
             "#fb9f3a"
            ],
            [
             0.8888888888888888,
             "#fdca26"
            ],
            [
             1,
             "#f0f921"
            ]
           ]
          },
          "colorway": [
           "#636efa",
           "#EF553B",
           "#00cc96",
           "#ab63fa",
           "#FFA15A",
           "#19d3f3",
           "#FF6692",
           "#B6E880",
           "#FF97FF",
           "#FECB52"
          ],
          "font": {
           "color": "#2a3f5f"
          },
          "geo": {
           "bgcolor": "white",
           "lakecolor": "white",
           "landcolor": "#E5ECF6",
           "showlakes": true,
           "showland": true,
           "subunitcolor": "white"
          },
          "hoverlabel": {
           "align": "left"
          },
          "hovermode": "closest",
          "mapbox": {
           "style": "light"
          },
          "paper_bgcolor": "white",
          "plot_bgcolor": "#E5ECF6",
          "polar": {
           "angularaxis": {
            "gridcolor": "white",
            "linecolor": "white",
            "ticks": ""
           },
           "bgcolor": "#E5ECF6",
           "radialaxis": {
            "gridcolor": "white",
            "linecolor": "white",
            "ticks": ""
           }
          },
          "scene": {
           "xaxis": {
            "backgroundcolor": "#E5ECF6",
            "gridcolor": "white",
            "gridwidth": 2,
            "linecolor": "white",
            "showbackground": true,
            "ticks": "",
            "zerolinecolor": "white"
           },
           "yaxis": {
            "backgroundcolor": "#E5ECF6",
            "gridcolor": "white",
            "gridwidth": 2,
            "linecolor": "white",
            "showbackground": true,
            "ticks": "",
            "zerolinecolor": "white"
           },
           "zaxis": {
            "backgroundcolor": "#E5ECF6",
            "gridcolor": "white",
            "gridwidth": 2,
            "linecolor": "white",
            "showbackground": true,
            "ticks": "",
            "zerolinecolor": "white"
           }
          },
          "shapedefaults": {
           "line": {
            "color": "#2a3f5f"
           }
          },
          "ternary": {
           "aaxis": {
            "gridcolor": "white",
            "linecolor": "white",
            "ticks": ""
           },
           "baxis": {
            "gridcolor": "white",
            "linecolor": "white",
            "ticks": ""
           },
           "bgcolor": "#E5ECF6",
           "caxis": {
            "gridcolor": "white",
            "linecolor": "white",
            "ticks": ""
           }
          },
          "title": {
           "x": 0.05
          },
          "xaxis": {
           "automargin": true,
           "gridcolor": "white",
           "linecolor": "white",
           "ticks": "",
           "title": {
            "standoff": 15
           },
           "zerolinecolor": "white",
           "zerolinewidth": 2
          },
          "yaxis": {
           "automargin": true,
           "gridcolor": "white",
           "linecolor": "white",
           "ticks": "",
           "title": {
            "standoff": 15
           },
           "zerolinecolor": "white",
           "zerolinewidth": 2
          }
         }
        },
        "title": {
         "text": "Histogram of Number of Links for Each Drug"
        },
        "xaxis": {
         "autorange": true,
         "range": [
          0.5,
          21.5
         ],
         "title": {
          "text": "Number of Links"
         },
         "type": "linear"
        },
        "yaxis": {
         "autorange": true,
         "range": [
          0,
          18.94736842105263
         ],
         "title": {
          "text": "Number of Drugs"
         }
        }
       }
      },
      "image/png": "[encoded data removed]",
      "text/html": [
       "<div>                            <div id=\"9a8526d3-a635-48ec-8d1f-a2398577cc47\" class=\"plotly-graph-div\" style=\"height:525px; width:100%;\"></div>            <script type=\"text/javascript\">                require([\"plotly\"], function(Plotly) {                    window.PLOTLYENV=window.PLOTLYENV || {};                                    if (document.getElementById(\"9a8526d3-a635-48ec-8d1f-a2398577cc47\")) {                    Plotly.newPlot(                        \"9a8526d3-a635-48ec-8d1f-a2398577cc47\",                        [{\"marker\":{\"color\":\"blue\"},\"nbinsx\":21,\"x\":[21,2,6,1,4,1,1,3,5,2,1,2,1,8,1,3,2,2,6,14,2,3,2,1,2,4,8,1,7,16,1,4,5,3,4,1,1,1,1,1,5,9,4,10,3,2,1,5,2,8,1,2,1,10,8,16,2,1],\"type\":\"histogram\"}],                        {\"template\":{\"data\":{\"histogram2dcontour\":[{\"type\":\"histogram2dcontour\",\"colorbar\":{\"outlinewidth\":0,\"ticks\":\"\"},\"colorscale\":[[0.0,\"#0d0887\"],[0.1111111111111111,\"#46039f\"],[0.2222222222222222,\"#7201a8\"],[0.3333333333333333,\"#9c179e\"],[0.4444444444444444,\"#bd3786\"],[0.5555555555555556,\"#d8576b\"],[0.6666666666666666,\"#ed7953\"],[0.7777777777777778,\"#fb9f3a\"],[0.8888888888888888,\"#fdca26\"],[1.0,\"#f0f921\"]]}],\"choropleth\":[{\"type\":\"choropleth\",\"colorbar\":{\"outlinewidth\":0,\"ticks\":\"\"}}],\"histogram2d\":[{\"type\":\"histogram2d\",\"colorbar\":{\"outlinewidth\":0,\"ticks\":\"\"},\"colorscale\":[[0.0,\"#0d0887\"],[0.1111111111111111,\"#46039f\"],[0.2222222222222222,\"#7201a8\"],[0.3333333333333333,\"#9c179e\"],[0.4444444444444444,\"#bd3786\"],[0.5555555555555556,\"#d8576b\"],[0.6666666666666666,\"#ed7953\"],[0.7777777777777778,\"#fb9f3a\"],[0.8888888888888888,\"#fdca26\"],[1.0,\"#f0f921\"]]}],\"heatmap\":[{\"type\":\"heatmap\",\"colorbar\":{\"outlinewidth\":0,\"ticks\":\"\"},\"colorscale\":[[0.0,\"#0d0887\"],[0.1111111111111111,\"#46039f\"],[0.2222222222222222,\"#7201a8\"],[0.3333333333333333,\"#9c179e\"],[0.4444444444444444,\"#bd3786\"],[0.5555555555555556,\"#d8576b\"],[0.6666666666666666,\"#ed7953\"],[0.7777777777777778,\"#fb9f3a\"],[0.8888888888888888,\"#fdca26\"],[1.0,\"#f0f921\"]]}],\"heatmapgl\":[{\"type\":\"heatmapgl\",\"colorbar\":{\"outlinewidth\":0,\"ticks\":\"\"},\"colorscale\":[[0.0,\"#0d0887\"],[0.1111111111111111,\"#46039f\"],[0.2222222222222222,\"#7201a8\"],[0.3333333333333333,\"#9c179e\"],[0.4444444444444444,\"#bd3786\"],[0.5555555555555556,\"#d8576b\"],[0.6666666666666666,\"#ed7953\"],[0.7777777777777778,\"#fb9f3a\"],[0.8888888888888888,\"#fdca26\"],[1.0,\"#f0f921\"]]}],\"contourcarpet\":[{\"type\":\"contourcarpet\",\"colorbar\":{\"outlinewidth\":0,\"ticks\":\"\"}}],\"contour\":[{\"type\":\"contour\",\"colorbar\":{\"outlinewidth\":0,\"ticks\":\"\"},\"colorscale\":[[0.0,\"#0d0887\"],[0.1111111111111111,\"#46039f\"],[0.2222222222222222,\"#7201a8\"],[0.3333333333333333,\"#9c179e\"],[0.4444444444444444,\"#bd3786\"],[0.5555555555555556,\"#d8576b\"],[0.6666666666666666,\"#ed7953\"],[0.7777777777777778,\"#fb9f3a\"],[0.8888888888888888,\"#fdca26\"],[1.0,\"#f0f921\"]]}],\"surface\":[{\"type\":\"surface\",\"colorbar\":{\"outlinewidth\":0,\"ticks\":\"\"},\"colorscale\":[[0.0,\"#0d0887\"],[0.1111111111111111,\"#46039f\"],[0.2222222222222222,\"#7201a8\"],[0.3333333333333333,\"#9c179e\"],[0.4444444444444444,\"#bd3786\"],[0.5555555555555556,\"#d8576b\"],[0.6666666666666666,\"#ed7953\"],[0.7777777777777778,\"#fb9f3a\"],[0.8888888888888888,\"#fdca26\"],[1.0,\"#f0f921\"]]}],\"mesh3d\":[{\"type\":\"mesh3d\",\"colorbar\":{\"outlinewidth\":0,\"ticks\":\"\"}}],\"scatter\":[{\"fillpattern\":{\"fillmode\":\"overlay\",\"size\":10,\"solidity\":0.2},\"type\":\"scatter\"}],\"parcoords\":[{\"type\":\"parcoords\",\"line\":{\"colorbar\":{\"outlinewidth\":0,\"ticks\":\"\"}}}],\"scatterpolargl\":[{\"type\":\"scatterpolargl\",\"marker\":{\"colorbar\":{\"outlinewidth\":0,\"ticks\":\"\"}}}],\"bar\":[{\"error_x\":{\"color\":\"#2a3f5f\"},\"error_y\":{\"color\":\"#2a3f5f\"},\"marker\":{\"line\":{\"color\":\"#E5ECF6\",\"width\":0.5},\"pattern\":{\"fillmode\":\"overlay\",\"size\":10,\"solidity\":0.2}},\"type\":\"bar\"}],\"scattergeo\":[{\"type\":\"scattergeo\",\"marker\":{\"colorbar\":{\"outlinewidth\":0,\"ticks\":\"\"}}}],\"scatterpolar\":[{\"type\":\"scatterpolar\",\"marker\":{\"colorbar\":{\"outlinewidth\":0,\"ticks\":\"\"}}}],\"histogram\":[{\"marker\":{\"pattern\":{\"fillmode\":\"overlay\",\"size\":10,\"solidity\":0.2}},\"type\":\"histogram\"}],\"scattergl\":[{\"type\":\"scattergl\",\"marker\":{\"colorbar\":{\"outlinewidth\":0,\"ticks\":\"\"}}}],\"scatter3d\":[{\"type\":\"scatter3d\",\"line\":{\"colorbar\":{\"outlinewidth\":0,\"ticks\":\"\"}},\"marker\":{\"colorbar\":{\"outlinewidth\":0,\"ticks\":\"\"}}}],\"scattermapbox\":[{\"type\":\"scattermapbox\",\"marker\":{\"colorbar\":{\"outlinewidth\":0,\"ticks\":\"\"}}}],\"scatterternary\":[{\"type\":\"scatterternary\",\"marker\":{\"colorbar\":{\"outlinewidth\":0,\"ticks\":\"\"}}}],\"scattercarpet\":[{\"type\":\"scattercarpet\",\"marker\":{\"colorbar\":{\"outlinewidth\":0,\"ticks\":\"\"}}}],\"carpet\":[{\"aaxis\":{\"endlinecolor\":\"#2a3f5f\",\"gridcolor\":\"white\",\"linecolor\":\"white\",\"minorgridcolor\":\"white\",\"startlinecolor\":\"#2a3f5f\"},\"baxis\":{\"endlinecolor\":\"#2a3f5f\",\"gridcolor\":\"white\",\"linecolor\":\"white\",\"minorgridcolor\":\"white\",\"startlinecolor\":\"#2a3f5f\"},\"type\":\"carpet\"}],\"table\":[{\"cells\":{\"fill\":{\"color\":\"#EBF0F8\"},\"line\":{\"color\":\"white\"}},\"header\":{\"fill\":{\"color\":\"#C8D4E3\"},\"line\":{\"color\":\"white\"}},\"type\":\"table\"}],\"barpolar\":[{\"marker\":{\"line\":{\"color\":\"#E5ECF6\",\"width\":0.5},\"pattern\":{\"fillmode\":\"overlay\",\"size\":10,\"solidity\":0.2}},\"type\":\"barpolar\"}],\"pie\":[{\"automargin\":true,\"type\":\"pie\"}]},\"layout\":{\"autotypenumbers\":\"strict\",\"colorway\":[\"#636efa\",\"#EF553B\",\"#00cc96\",\"#ab63fa\",\"#FFA15A\",\"#19d3f3\",\"#FF6692\",\"#B6E880\",\"#FF97FF\",\"#FECB52\"],\"font\":{\"color\":\"#2a3f5f\"},\"hovermode\":\"closest\",\"hoverlabel\":{\"align\":\"left\"},\"paper_bgcolor\":\"white\",\"plot_bgcolor\":\"#E5ECF6\",\"polar\":{\"bgcolor\":\"#E5ECF6\",\"angularaxis\":{\"gridcolor\":\"white\",\"linecolor\":\"white\",\"ticks\":\"\"},\"radialaxis\":{\"gridcolor\":\"white\",\"linecolor\":\"white\",\"ticks\":\"\"}},\"ternary\":{\"bgcolor\":\"#E5ECF6\",\"aaxis\":{\"gridcolor\":\"white\",\"linecolor\":\"white\",\"ticks\":\"\"},\"baxis\":{\"gridcolor\":\"white\",\"linecolor\":\"white\",\"ticks\":\"\"},\"caxis\":{\"gridcolor\":\"white\",\"linecolor\":\"white\",\"ticks\":\"\"}},\"coloraxis\":{\"colorbar\":{\"outlinewidth\":0,\"ticks\":\"\"}},\"colorscale\":{\"sequential\":[[0.0,\"#0d0887\"],[0.1111111111111111,\"#46039f\"],[0.2222222222222222,\"#7201a8\"],[0.3333333333333333,\"#9c179e\"],[0.4444444444444444,\"#bd3786\"],[0.5555555555555556,\"#d8576b\"],[0.6666666666666666,\"#ed7953\"],[0.7777777777777778,\"#fb9f3a\"],[0.8888888888888888,\"#fdca26\"],[1.0,\"#f0f921\"]],\"sequentialminus\":[[0.0,\"#0d0887\"],[0.1111111111111111,\"#46039f\"],[0.2222222222222222,\"#7201a8\"],[0.3333333333333333,\"#9c179e\"],[0.4444444444444444,\"#bd3786\"],[0.5555555555555556,\"#d8576b\"],[0.6666666666666666,\"#ed7953\"],[0.7777777777777778,\"#fb9f3a\"],[0.8888888888888888,\"#fdca26\"],[1.0,\"#f0f921\"]],\"diverging\":[[0,\"#8e0152\"],[0.1,\"#c51b7d\"],[0.2,\"#de77ae\"],[0.3,\"#f1b6da\"],[0.4,\"#fde0ef\"],[0.5,\"#f7f7f7\"],[0.6,\"#e6f5d0\"],[0.7,\"#b8e186\"],[0.8,\"#7fbc41\"],[0.9,\"#4d9221\"],[1,\"#276419\"]]},\"xaxis\":{\"gridcolor\":\"white\",\"linecolor\":\"white\",\"ticks\":\"\",\"title\":{\"standoff\":15},\"zerolinecolor\":\"white\",\"automargin\":true,\"zerolinewidth\":2},\"yaxis\":{\"gridcolor\":\"white\",\"linecolor\":\"white\",\"ticks\":\"\",\"title\":{\"standoff\":15},\"zerolinecolor\":\"white\",\"automargin\":true,\"zerolinewidth\":2},\"scene\":{\"xaxis\":{\"backgroundcolor\":\"#E5ECF6\",\"gridcolor\":\"white\",\"linecolor\":\"white\",\"showbackground\":true,\"ticks\":\"\",\"zerolinecolor\":\"white\",\"gridwidth\":2},\"yaxis\":{\"backgroundcolor\":\"#E5ECF6\",\"gridcolor\":\"white\",\"linecolor\":\"white\",\"showbackground\":true,\"ticks\":\"\",\"zerolinecolor\":\"white\",\"gridwidth\":2},\"zaxis\":{\"backgroundcolor\":\"#E5ECF6\",\"gridcolor\":\"white\",\"linecolor\":\"white\",\"showbackground\":true,\"ticks\":\"\",\"zerolinecolor\":\"white\",\"gridwidth\":2}},\"shapedefaults\":{\"line\":{\"color\":\"#2a3f5f\"}},\"annotationdefaults\":{\"arrowcolor\":\"#2a3f5f\",\"arrowhead\":0,\"arrowwidth\":1},\"geo\":{\"bgcolor\":\"white\",\"landcolor\":\"#E5ECF6\",\"subunitcolor\":\"white\",\"showland\":true,\"showlakes\":true,\"lakecolor\":\"white\"},\"title\":{\"x\":0.05},\"mapbox\":{\"style\":\"light\"}}},\"title\":{\"text\":\"Histogram of Number of Links for Each Drug\"},\"xaxis\":{\"title\":{\"text\":\"Number of Links\"}},\"yaxis\":{\"title\":{\"text\":\"Number of Drugs\"}},\"bargap\":0.2,\"bargroupgap\":0.1},                        {\"responsive\": true}                    ).then(function(){\n",
       "                            \n",
       "var gd = document.getElementById('9a8526d3-a635-48ec-8d1f-a2398577cc47');\n",
       "var x = new MutationObserver(function (mutations, observer) {{\n",
       "        var display = window.getComputedStyle(gd).display;\n",
       "        if (!display || display === 'none') {{\n",
       "            console.log([gd, 'removed!']);\n",
       "            Plotly.purge(gd);\n",
       "            observer.disconnect();\n",
       "        }}\n",
       "}});\n",
       "\n",
       "// Listen for the removal of the full notebook cells\n",
       "var notebookContainer = gd.closest('#notebook-container');\n",
       "if (notebookContainer) {{\n",
       "    x.observe(notebookContainer, {childList: true});\n",
       "}}\n",
       "\n",
       "// Listen for the clearing of the current output cell\n",
       "var outputEl = gd.closest('.output');\n",
       "if (outputEl) {{\n",
       "    x.observe(outputEl, {childList: true});\n",
       "}}\n",
       "\n",
       "                        })                };                });            </script>        </div>"
      ]
     },
     "metadata": {},
     "output_type": "display_data"
    }
   ],
   "source": [
    "# 6) for links\n",
    "import pandas as pd\n",
    "import plotly.graph_objects as go\n",
    "def plot_drug_link_histogram(df):\n",
    "    links_info_df = extract_links(df)\n",
    "    \n",
    "    # Count the number of links each drug has\n",
    "    drug_link_counts = links_info_df.groupby('name')['link_title'].nunique()\n",
    "    \n",
    "    # Create histogram\n",
    "    fig = go.Figure(data=[go.Histogram(\n",
    "        x=drug_link_counts,\n",
    "        nbinsx=int(drug_link_counts.max()),  # Explicitly convert to int\n",
    "        marker_color='blue'\n",
    "    )])\n",
    "    \n",
    "    # Update layout\n",
    "    fig.update_layout(\n",
    "        title=\"Histogram of Number of Links for Each Drug\",\n",
    "        xaxis_title=\"Number of Links\",\n",
    "        yaxis_title=\"Number of Drugs\",\n",
    "        bargap=0.2,\n",
    "        bargroupgap=0.1\n",
    "    )\n",
    "    \n",
    "    fig.show()\n",
    "\n",
    "# Example usage\n",
    "# df_main should be your DataFrame containing the data\n",
    "# Make sure 'df_main' has the columns: 'drugbank_id', 'name', 'links'\n",
    "plot_drug_link_histogram(df_main)"
   ]
  },
  {
   "cell_type": "code",
   "execution_count": 38,
   "id": "d3909807-3f56-446f-96cb-047a8564313b",
   "metadata": {},
   "outputs": [
    {
     "data": {
      "text/plain": [
       "0     [{'drugbank-id': 'DB06605', 'name': 'Apixaban'...\n",
       "1     [{'drugbank-id': 'DB00255', 'name': 'Diethylst...\n",
       "2                                                  None\n",
       "3     [{'drugbank-id': 'DB00012', 'name': 'Darbepoet...\n",
       "4     [{'drugbank-id': 'DB08879', 'name': 'Belimumab...\n",
       "                            ...                        \n",
       "95    [{'drugbank-id': 'DB09063', 'name': 'Ceritinib...\n",
       "96    [{'drugbank-id': 'DB06643', 'name': 'Denosumab...\n",
       "97                                                 None\n",
       "98    [{'drugbank-id': 'DB00429', 'name': 'Carbopros...\n",
       "99    [{'drugbank-id': 'DB06643', 'name': 'Denosumab...\n",
       "Name: drug_interactions, Length: 100, dtype: object"
      ]
     },
     "execution_count": 38,
     "metadata": {},
     "output_type": "execute_result"
    }
   ],
   "source": [
    "df_main['drug_interactions']"
   ]
  },
  {
   "cell_type": "code",
   "execution_count": 55,
   "id": "816088aa-d4ae-47ed-ab93-6f2fa7f8b71a",
   "metadata": {},
   "outputs": [
    {
     "data": {
      "application/vnd.plotly.v1+json": {
       "config": {
        "plotlyServerURL": "https://plot.ly"
       },
       "data": [
        {
         "labels": [
          "approved, investigational",
          "approved",
          "approved, investigational, withdrawn",
          "approved, withdrawn",
          "approved, vet_approved",
          "approved, experimental",
          "experimental, withdrawn",
          "approved, investigational, vet_approved",
          "experimental"
         ],
         "title": {
          "text": "Drug Classification Distribution"
         },
         "type": "pie",
         "values": [
          47,
          37,
          6,
          3,
          3,
          1,
          1,
          1,
          1
         ]
        }
       ],
       "layout": {
        "autosize": true,
        "template": {
         "data": {
          "bar": [
           {
            "error_x": {
             "color": "#2a3f5f"
            },
            "error_y": {
             "color": "#2a3f5f"
            },
            "marker": {
             "line": {
              "color": "#E5ECF6",
              "width": 0.5
             },
             "pattern": {
              "fillmode": "overlay",
              "size": 10,
              "solidity": 0.2
             }
            },
            "type": "bar"
           }
          ],
          "barpolar": [
           {
            "marker": {
             "line": {
              "color": "#E5ECF6",
              "width": 0.5
             },
             "pattern": {
              "fillmode": "overlay",
              "size": 10,
              "solidity": 0.2
             }
            },
            "type": "barpolar"
           }
          ],
          "carpet": [
           {
            "aaxis": {
             "endlinecolor": "#2a3f5f",
             "gridcolor": "white",
             "linecolor": "white",
             "minorgridcolor": "white",
             "startlinecolor": "#2a3f5f"
            },
            "baxis": {
             "endlinecolor": "#2a3f5f",
             "gridcolor": "white",
             "linecolor": "white",
             "minorgridcolor": "white",
             "startlinecolor": "#2a3f5f"
            },
            "type": "carpet"
           }
          ],
          "choropleth": [
           {
            "colorbar": {
             "outlinewidth": 0,
             "ticks": ""
            },
            "type": "choropleth"
           }
          ],
          "contour": [
           {
            "colorbar": {
             "outlinewidth": 0,
             "ticks": ""
            },
            "colorscale": [
             [
              0,
              "#0d0887"
             ],
             [
              0.1111111111111111,
              "#46039f"
             ],
             [
              0.2222222222222222,
              "#7201a8"
             ],
             [
              0.3333333333333333,
              "#9c179e"
             ],
             [
              0.4444444444444444,
              "#bd3786"
             ],
             [
              0.5555555555555556,
              "#d8576b"
             ],
             [
              0.6666666666666666,
              "#ed7953"
             ],
             [
              0.7777777777777778,
              "#fb9f3a"
             ],
             [
              0.8888888888888888,
              "#fdca26"
             ],
             [
              1,
              "#f0f921"
             ]
            ],
            "type": "contour"
           }
          ],
          "contourcarpet": [
           {
            "colorbar": {
             "outlinewidth": 0,
             "ticks": ""
            },
            "type": "contourcarpet"
           }
          ],
          "heatmap": [
           {
            "colorbar": {
             "outlinewidth": 0,
             "ticks": ""
            },
            "colorscale": [
             [
              0,
              "#0d0887"
             ],
             [
              0.1111111111111111,
              "#46039f"
             ],
             [
              0.2222222222222222,
              "#7201a8"
             ],
             [
              0.3333333333333333,
              "#9c179e"
             ],
             [
              0.4444444444444444,
              "#bd3786"
             ],
             [
              0.5555555555555556,
              "#d8576b"
             ],
             [
              0.6666666666666666,
              "#ed7953"
             ],
             [
              0.7777777777777778,
              "#fb9f3a"
             ],
             [
              0.8888888888888888,
              "#fdca26"
             ],
             [
              1,
              "#f0f921"
             ]
            ],
            "type": "heatmap"
           }
          ],
          "heatmapgl": [
           {
            "colorbar": {
             "outlinewidth": 0,
             "ticks": ""
            },
            "colorscale": [
             [
              0,
              "#0d0887"
             ],
             [
              0.1111111111111111,
              "#46039f"
             ],
             [
              0.2222222222222222,
              "#7201a8"
             ],
             [
              0.3333333333333333,
              "#9c179e"
             ],
             [
              0.4444444444444444,
              "#bd3786"
             ],
             [
              0.5555555555555556,
              "#d8576b"
             ],
             [
              0.6666666666666666,
              "#ed7953"
             ],
             [
              0.7777777777777778,
              "#fb9f3a"
             ],
             [
              0.8888888888888888,
              "#fdca26"
             ],
             [
              1,
              "#f0f921"
             ]
            ],
            "type": "heatmapgl"
           }
          ],
          "histogram": [
           {
            "marker": {
             "pattern": {
              "fillmode": "overlay",
              "size": 10,
              "solidity": 0.2
             }
            },
            "type": "histogram"
           }
          ],
          "histogram2d": [
           {
            "colorbar": {
             "outlinewidth": 0,
             "ticks": ""
            },
            "colorscale": [
             [
              0,
              "#0d0887"
             ],
             [
              0.1111111111111111,
              "#46039f"
             ],
             [
              0.2222222222222222,
              "#7201a8"
             ],
             [
              0.3333333333333333,
              "#9c179e"
             ],
             [
              0.4444444444444444,
              "#bd3786"
             ],
             [
              0.5555555555555556,
              "#d8576b"
             ],
             [
              0.6666666666666666,
              "#ed7953"
             ],
             [
              0.7777777777777778,
              "#fb9f3a"
             ],
             [
              0.8888888888888888,
              "#fdca26"
             ],
             [
              1,
              "#f0f921"
             ]
            ],
            "type": "histogram2d"
           }
          ],
          "histogram2dcontour": [
           {
            "colorbar": {
             "outlinewidth": 0,
             "ticks": ""
            },
            "colorscale": [
             [
              0,
              "#0d0887"
             ],
             [
              0.1111111111111111,
              "#46039f"
             ],
             [
              0.2222222222222222,
              "#7201a8"
             ],
             [
              0.3333333333333333,
              "#9c179e"
             ],
             [
              0.4444444444444444,
              "#bd3786"
             ],
             [
              0.5555555555555556,
              "#d8576b"
             ],
             [
              0.6666666666666666,
              "#ed7953"
             ],
             [
              0.7777777777777778,
              "#fb9f3a"
             ],
             [
              0.8888888888888888,
              "#fdca26"
             ],
             [
              1,
              "#f0f921"
             ]
            ],
            "type": "histogram2dcontour"
           }
          ],
          "mesh3d": [
           {
            "colorbar": {
             "outlinewidth": 0,
             "ticks": ""
            },
            "type": "mesh3d"
           }
          ],
          "parcoords": [
           {
            "line": {
             "colorbar": {
              "outlinewidth": 0,
              "ticks": ""
             }
            },
            "type": "parcoords"
           }
          ],
          "pie": [
           {
            "automargin": true,
            "type": "pie"
           }
          ],
          "scatter": [
           {
            "fillpattern": {
             "fillmode": "overlay",
             "size": 10,
             "solidity": 0.2
            },
            "type": "scatter"
           }
          ],
          "scatter3d": [
           {
            "line": {
             "colorbar": {
              "outlinewidth": 0,
              "ticks": ""
             }
            },
            "marker": {
             "colorbar": {
              "outlinewidth": 0,
              "ticks": ""
             }
            },
            "type": "scatter3d"
           }
          ],
          "scattercarpet": [
           {
            "marker": {
             "colorbar": {
              "outlinewidth": 0,
              "ticks": ""
             }
            },
            "type": "scattercarpet"
           }
          ],
          "scattergeo": [
           {
            "marker": {
             "colorbar": {
              "outlinewidth": 0,
              "ticks": ""
             }
            },
            "type": "scattergeo"
           }
          ],
          "scattergl": [
           {
            "marker": {
             "colorbar": {
              "outlinewidth": 0,
              "ticks": ""
             }
            },
            "type": "scattergl"
           }
          ],
          "scattermapbox": [
           {
            "marker": {
             "colorbar": {
              "outlinewidth": 0,
              "ticks": ""
             }
            },
            "type": "scattermapbox"
           }
          ],
          "scatterpolar": [
           {
            "marker": {
             "colorbar": {
              "outlinewidth": 0,
              "ticks": ""
             }
            },
            "type": "scatterpolar"
           }
          ],
          "scatterpolargl": [
           {
            "marker": {
             "colorbar": {
              "outlinewidth": 0,
              "ticks": ""
             }
            },
            "type": "scatterpolargl"
           }
          ],
          "scatterternary": [
           {
            "marker": {
             "colorbar": {
              "outlinewidth": 0,
              "ticks": ""
             }
            },
            "type": "scatterternary"
           }
          ],
          "surface": [
           {
            "colorbar": {
             "outlinewidth": 0,
             "ticks": ""
            },
            "colorscale": [
             [
              0,
              "#0d0887"
             ],
             [
              0.1111111111111111,
              "#46039f"
             ],
             [
              0.2222222222222222,
              "#7201a8"
             ],
             [
              0.3333333333333333,
              "#9c179e"
             ],
             [
              0.4444444444444444,
              "#bd3786"
             ],
             [
              0.5555555555555556,
              "#d8576b"
             ],
             [
              0.6666666666666666,
              "#ed7953"
             ],
             [
              0.7777777777777778,
              "#fb9f3a"
             ],
             [
              0.8888888888888888,
              "#fdca26"
             ],
             [
              1,
              "#f0f921"
             ]
            ],
            "type": "surface"
           }
          ],
          "table": [
           {
            "cells": {
             "fill": {
              "color": "#EBF0F8"
             },
             "line": {
              "color": "white"
             }
            },
            "header": {
             "fill": {
              "color": "#C8D4E3"
             },
             "line": {
              "color": "white"
             }
            },
            "type": "table"
           }
          ]
         },
         "layout": {
          "annotationdefaults": {
           "arrowcolor": "#2a3f5f",
           "arrowhead": 0,
           "arrowwidth": 1
          },
          "autotypenumbers": "strict",
          "coloraxis": {
           "colorbar": {
            "outlinewidth": 0,
            "ticks": ""
           }
          },
          "colorscale": {
           "diverging": [
            [
             0,
             "#8e0152"
            ],
            [
             0.1,
             "#c51b7d"
            ],
            [
             0.2,
             "#de77ae"
            ],
            [
             0.3,
             "#f1b6da"
            ],
            [
             0.4,
             "#fde0ef"
            ],
            [
             0.5,
             "#f7f7f7"
            ],
            [
             0.6,
             "#e6f5d0"
            ],
            [
             0.7,
             "#b8e186"
            ],
            [
             0.8,
             "#7fbc41"
            ],
            [
             0.9,
             "#4d9221"
            ],
            [
             1,
             "#276419"
            ]
           ],
           "sequential": [
            [
             0,
             "#0d0887"
            ],
            [
             0.1111111111111111,
             "#46039f"
            ],
            [
             0.2222222222222222,
             "#7201a8"
            ],
            [
             0.3333333333333333,
             "#9c179e"
            ],
            [
             0.4444444444444444,
             "#bd3786"
            ],
            [
             0.5555555555555556,
             "#d8576b"
            ],
            [
             0.6666666666666666,
             "#ed7953"
            ],
            [
             0.7777777777777778,
             "#fb9f3a"
            ],
            [
             0.8888888888888888,
             "#fdca26"
            ],
            [
             1,
             "#f0f921"
            ]
           ],
           "sequentialminus": [
            [
             0,
             "#0d0887"
            ],
            [
             0.1111111111111111,
             "#46039f"
            ],
            [
             0.2222222222222222,
             "#7201a8"
            ],
            [
             0.3333333333333333,
             "#9c179e"
            ],
            [
             0.4444444444444444,
             "#bd3786"
            ],
            [
             0.5555555555555556,
             "#d8576b"
            ],
            [
             0.6666666666666666,
             "#ed7953"
            ],
            [
             0.7777777777777778,
             "#fb9f3a"
            ],
            [
             0.8888888888888888,
             "#fdca26"
            ],
            [
             1,
             "#f0f921"
            ]
           ]
          },
          "colorway": [
           "#636efa",
           "#EF553B",
           "#00cc96",
           "#ab63fa",
           "#FFA15A",
           "#19d3f3",
           "#FF6692",
           "#B6E880",
           "#FF97FF",
           "#FECB52"
          ],
          "font": {
           "color": "#2a3f5f"
          },
          "geo": {
           "bgcolor": "white",
           "lakecolor": "white",
           "landcolor": "#E5ECF6",
           "showlakes": true,
           "showland": true,
           "subunitcolor": "white"
          },
          "hoverlabel": {
           "align": "left"
          },
          "hovermode": "closest",
          "mapbox": {
           "style": "light"
          },
          "paper_bgcolor": "white",
          "plot_bgcolor": "#E5ECF6",
          "polar": {
           "angularaxis": {
            "gridcolor": "white",
            "linecolor": "white",
            "ticks": ""
           },
           "bgcolor": "#E5ECF6",
           "radialaxis": {
            "gridcolor": "white",
            "linecolor": "white",
            "ticks": ""
           }
          },
          "scene": {
           "xaxis": {
            "backgroundcolor": "#E5ECF6",
            "gridcolor": "white",
            "gridwidth": 2,
            "linecolor": "white",
            "showbackground": true,
            "ticks": "",
            "zerolinecolor": "white"
           },
           "yaxis": {
            "backgroundcolor": "#E5ECF6",
            "gridcolor": "white",
            "gridwidth": 2,
            "linecolor": "white",
            "showbackground": true,
            "ticks": "",
            "zerolinecolor": "white"
           },
           "zaxis": {
            "backgroundcolor": "#E5ECF6",
            "gridcolor": "white",
            "gridwidth": 2,
            "linecolor": "white",
            "showbackground": true,
            "ticks": "",
            "zerolinecolor": "white"
           }
          },
          "shapedefaults": {
           "line": {
            "color": "#2a3f5f"
           }
          },
          "ternary": {
           "aaxis": {
            "gridcolor": "white",
            "linecolor": "white",
            "ticks": ""
           },
           "baxis": {
            "gridcolor": "white",
            "linecolor": "white",
            "ticks": ""
           },
           "bgcolor": "#E5ECF6",
           "caxis": {
            "gridcolor": "white",
            "linecolor": "white",
            "ticks": ""
           }
          },
          "title": {
           "x": 0.05
          },
          "xaxis": {
           "automargin": true,
           "gridcolor": "white",
           "linecolor": "white",
           "ticks": "",
           "title": {
            "standoff": 15
           },
           "zerolinecolor": "white",
           "zerolinewidth": 2
          },
          "yaxis": {
           "automargin": true,
           "gridcolor": "white",
           "linecolor": "white",
           "ticks": "",
           "title": {
            "standoff": 15
           },
           "zerolinecolor": "white",
           "zerolinewidth": 2
          }
         }
        }
       }
      },
      "image/png": "[encoded data removed]",
      "text/html": [
       "<div>                            <div id=\"2506d2a7-ae67-4090-8c22-ad1261d27b14\" class=\"plotly-graph-div\" style=\"height:525px; width:100%;\"></div>            <script type=\"text/javascript\">                require([\"plotly\"], function(Plotly) {                    window.PLOTLYENV=window.PLOTLYENV || {};                                    if (document.getElementById(\"2506d2a7-ae67-4090-8c22-ad1261d27b14\")) {                    Plotly.newPlot(                        \"2506d2a7-ae67-4090-8c22-ad1261d27b14\",                        [{\"labels\":[\"approved, investigational\",\"approved\",\"approved, investigational, withdrawn\",\"approved, withdrawn\",\"approved, vet_approved\",\"approved, experimental\",\"experimental, withdrawn\",\"approved, investigational, vet_approved\",\"experimental\"],\"title\":{\"text\":\"Drug Classification Distribution\"},\"values\":[47,37,6,3,3,1,1,1,1],\"type\":\"pie\"}],                        {\"template\":{\"data\":{\"histogram2dcontour\":[{\"type\":\"histogram2dcontour\",\"colorbar\":{\"outlinewidth\":0,\"ticks\":\"\"},\"colorscale\":[[0.0,\"#0d0887\"],[0.1111111111111111,\"#46039f\"],[0.2222222222222222,\"#7201a8\"],[0.3333333333333333,\"#9c179e\"],[0.4444444444444444,\"#bd3786\"],[0.5555555555555556,\"#d8576b\"],[0.6666666666666666,\"#ed7953\"],[0.7777777777777778,\"#fb9f3a\"],[0.8888888888888888,\"#fdca26\"],[1.0,\"#f0f921\"]]}],\"choropleth\":[{\"type\":\"choropleth\",\"colorbar\":{\"outlinewidth\":0,\"ticks\":\"\"}}],\"histogram2d\":[{\"type\":\"histogram2d\",\"colorbar\":{\"outlinewidth\":0,\"ticks\":\"\"},\"colorscale\":[[0.0,\"#0d0887\"],[0.1111111111111111,\"#46039f\"],[0.2222222222222222,\"#7201a8\"],[0.3333333333333333,\"#9c179e\"],[0.4444444444444444,\"#bd3786\"],[0.5555555555555556,\"#d8576b\"],[0.6666666666666666,\"#ed7953\"],[0.7777777777777778,\"#fb9f3a\"],[0.8888888888888888,\"#fdca26\"],[1.0,\"#f0f921\"]]}],\"heatmap\":[{\"type\":\"heatmap\",\"colorbar\":{\"outlinewidth\":0,\"ticks\":\"\"},\"colorscale\":[[0.0,\"#0d0887\"],[0.1111111111111111,\"#46039f\"],[0.2222222222222222,\"#7201a8\"],[0.3333333333333333,\"#9c179e\"],[0.4444444444444444,\"#bd3786\"],[0.5555555555555556,\"#d8576b\"],[0.6666666666666666,\"#ed7953\"],[0.7777777777777778,\"#fb9f3a\"],[0.8888888888888888,\"#fdca26\"],[1.0,\"#f0f921\"]]}],\"heatmapgl\":[{\"type\":\"heatmapgl\",\"colorbar\":{\"outlinewidth\":0,\"ticks\":\"\"},\"colorscale\":[[0.0,\"#0d0887\"],[0.1111111111111111,\"#46039f\"],[0.2222222222222222,\"#7201a8\"],[0.3333333333333333,\"#9c179e\"],[0.4444444444444444,\"#bd3786\"],[0.5555555555555556,\"#d8576b\"],[0.6666666666666666,\"#ed7953\"],[0.7777777777777778,\"#fb9f3a\"],[0.8888888888888888,\"#fdca26\"],[1.0,\"#f0f921\"]]}],\"contourcarpet\":[{\"type\":\"contourcarpet\",\"colorbar\":{\"outlinewidth\":0,\"ticks\":\"\"}}],\"contour\":[{\"type\":\"contour\",\"colorbar\":{\"outlinewidth\":0,\"ticks\":\"\"},\"colorscale\":[[0.0,\"#0d0887\"],[0.1111111111111111,\"#46039f\"],[0.2222222222222222,\"#7201a8\"],[0.3333333333333333,\"#9c179e\"],[0.4444444444444444,\"#bd3786\"],[0.5555555555555556,\"#d8576b\"],[0.6666666666666666,\"#ed7953\"],[0.7777777777777778,\"#fb9f3a\"],[0.8888888888888888,\"#fdca26\"],[1.0,\"#f0f921\"]]}],\"surface\":[{\"type\":\"surface\",\"colorbar\":{\"outlinewidth\":0,\"ticks\":\"\"},\"colorscale\":[[0.0,\"#0d0887\"],[0.1111111111111111,\"#46039f\"],[0.2222222222222222,\"#7201a8\"],[0.3333333333333333,\"#9c179e\"],[0.4444444444444444,\"#bd3786\"],[0.5555555555555556,\"#d8576b\"],[0.6666666666666666,\"#ed7953\"],[0.7777777777777778,\"#fb9f3a\"],[0.8888888888888888,\"#fdca26\"],[1.0,\"#f0f921\"]]}],\"mesh3d\":[{\"type\":\"mesh3d\",\"colorbar\":{\"outlinewidth\":0,\"ticks\":\"\"}}],\"scatter\":[{\"fillpattern\":{\"fillmode\":\"overlay\",\"size\":10,\"solidity\":0.2},\"type\":\"scatter\"}],\"parcoords\":[{\"type\":\"parcoords\",\"line\":{\"colorbar\":{\"outlinewidth\":0,\"ticks\":\"\"}}}],\"scatterpolargl\":[{\"type\":\"scatterpolargl\",\"marker\":{\"colorbar\":{\"outlinewidth\":0,\"ticks\":\"\"}}}],\"bar\":[{\"error_x\":{\"color\":\"#2a3f5f\"},\"error_y\":{\"color\":\"#2a3f5f\"},\"marker\":{\"line\":{\"color\":\"#E5ECF6\",\"width\":0.5},\"pattern\":{\"fillmode\":\"overlay\",\"size\":10,\"solidity\":0.2}},\"type\":\"bar\"}],\"scattergeo\":[{\"type\":\"scattergeo\",\"marker\":{\"colorbar\":{\"outlinewidth\":0,\"ticks\":\"\"}}}],\"scatterpolar\":[{\"type\":\"scatterpolar\",\"marker\":{\"colorbar\":{\"outlinewidth\":0,\"ticks\":\"\"}}}],\"histogram\":[{\"marker\":{\"pattern\":{\"fillmode\":\"overlay\",\"size\":10,\"solidity\":0.2}},\"type\":\"histogram\"}],\"scattergl\":[{\"type\":\"scattergl\",\"marker\":{\"colorbar\":{\"outlinewidth\":0,\"ticks\":\"\"}}}],\"scatter3d\":[{\"type\":\"scatter3d\",\"line\":{\"colorbar\":{\"outlinewidth\":0,\"ticks\":\"\"}},\"marker\":{\"colorbar\":{\"outlinewidth\":0,\"ticks\":\"\"}}}],\"scattermapbox\":[{\"type\":\"scattermapbox\",\"marker\":{\"colorbar\":{\"outlinewidth\":0,\"ticks\":\"\"}}}],\"scatterternary\":[{\"type\":\"scatterternary\",\"marker\":{\"colorbar\":{\"outlinewidth\":0,\"ticks\":\"\"}}}],\"scattercarpet\":[{\"type\":\"scattercarpet\",\"marker\":{\"colorbar\":{\"outlinewidth\":0,\"ticks\":\"\"}}}],\"carpet\":[{\"aaxis\":{\"endlinecolor\":\"#2a3f5f\",\"gridcolor\":\"white\",\"linecolor\":\"white\",\"minorgridcolor\":\"white\",\"startlinecolor\":\"#2a3f5f\"},\"baxis\":{\"endlinecolor\":\"#2a3f5f\",\"gridcolor\":\"white\",\"linecolor\":\"white\",\"minorgridcolor\":\"white\",\"startlinecolor\":\"#2a3f5f\"},\"type\":\"carpet\"}],\"table\":[{\"cells\":{\"fill\":{\"color\":\"#EBF0F8\"},\"line\":{\"color\":\"white\"}},\"header\":{\"fill\":{\"color\":\"#C8D4E3\"},\"line\":{\"color\":\"white\"}},\"type\":\"table\"}],\"barpolar\":[{\"marker\":{\"line\":{\"color\":\"#E5ECF6\",\"width\":0.5},\"pattern\":{\"fillmode\":\"overlay\",\"size\":10,\"solidity\":0.2}},\"type\":\"barpolar\"}],\"pie\":[{\"automargin\":true,\"type\":\"pie\"}]},\"layout\":{\"autotypenumbers\":\"strict\",\"colorway\":[\"#636efa\",\"#EF553B\",\"#00cc96\",\"#ab63fa\",\"#FFA15A\",\"#19d3f3\",\"#FF6692\",\"#B6E880\",\"#FF97FF\",\"#FECB52\"],\"font\":{\"color\":\"#2a3f5f\"},\"hovermode\":\"closest\",\"hoverlabel\":{\"align\":\"left\"},\"paper_bgcolor\":\"white\",\"plot_bgcolor\":\"#E5ECF6\",\"polar\":{\"bgcolor\":\"#E5ECF6\",\"angularaxis\":{\"gridcolor\":\"white\",\"linecolor\":\"white\",\"ticks\":\"\"},\"radialaxis\":{\"gridcolor\":\"white\",\"linecolor\":\"white\",\"ticks\":\"\"}},\"ternary\":{\"bgcolor\":\"#E5ECF6\",\"aaxis\":{\"gridcolor\":\"white\",\"linecolor\":\"white\",\"ticks\":\"\"},\"baxis\":{\"gridcolor\":\"white\",\"linecolor\":\"white\",\"ticks\":\"\"},\"caxis\":{\"gridcolor\":\"white\",\"linecolor\":\"white\",\"ticks\":\"\"}},\"coloraxis\":{\"colorbar\":{\"outlinewidth\":0,\"ticks\":\"\"}},\"colorscale\":{\"sequential\":[[0.0,\"#0d0887\"],[0.1111111111111111,\"#46039f\"],[0.2222222222222222,\"#7201a8\"],[0.3333333333333333,\"#9c179e\"],[0.4444444444444444,\"#bd3786\"],[0.5555555555555556,\"#d8576b\"],[0.6666666666666666,\"#ed7953\"],[0.7777777777777778,\"#fb9f3a\"],[0.8888888888888888,\"#fdca26\"],[1.0,\"#f0f921\"]],\"sequentialminus\":[[0.0,\"#0d0887\"],[0.1111111111111111,\"#46039f\"],[0.2222222222222222,\"#7201a8\"],[0.3333333333333333,\"#9c179e\"],[0.4444444444444444,\"#bd3786\"],[0.5555555555555556,\"#d8576b\"],[0.6666666666666666,\"#ed7953\"],[0.7777777777777778,\"#fb9f3a\"],[0.8888888888888888,\"#fdca26\"],[1.0,\"#f0f921\"]],\"diverging\":[[0,\"#8e0152\"],[0.1,\"#c51b7d\"],[0.2,\"#de77ae\"],[0.3,\"#f1b6da\"],[0.4,\"#fde0ef\"],[0.5,\"#f7f7f7\"],[0.6,\"#e6f5d0\"],[0.7,\"#b8e186\"],[0.8,\"#7fbc41\"],[0.9,\"#4d9221\"],[1,\"#276419\"]]},\"xaxis\":{\"gridcolor\":\"white\",\"linecolor\":\"white\",\"ticks\":\"\",\"title\":{\"standoff\":15},\"zerolinecolor\":\"white\",\"automargin\":true,\"zerolinewidth\":2},\"yaxis\":{\"gridcolor\":\"white\",\"linecolor\":\"white\",\"ticks\":\"\",\"title\":{\"standoff\":15},\"zerolinecolor\":\"white\",\"automargin\":true,\"zerolinewidth\":2},\"scene\":{\"xaxis\":{\"backgroundcolor\":\"#E5ECF6\",\"gridcolor\":\"white\",\"linecolor\":\"white\",\"showbackground\":true,\"ticks\":\"\",\"zerolinecolor\":\"white\",\"gridwidth\":2},\"yaxis\":{\"backgroundcolor\":\"#E5ECF6\",\"gridcolor\":\"white\",\"linecolor\":\"white\",\"showbackground\":true,\"ticks\":\"\",\"zerolinecolor\":\"white\",\"gridwidth\":2},\"zaxis\":{\"backgroundcolor\":\"#E5ECF6\",\"gridcolor\":\"white\",\"linecolor\":\"white\",\"showbackground\":true,\"ticks\":\"\",\"zerolinecolor\":\"white\",\"gridwidth\":2}},\"shapedefaults\":{\"line\":{\"color\":\"#2a3f5f\"}},\"annotationdefaults\":{\"arrowcolor\":\"#2a3f5f\",\"arrowhead\":0,\"arrowwidth\":1},\"geo\":{\"bgcolor\":\"white\",\"landcolor\":\"#E5ECF6\",\"subunitcolor\":\"white\",\"showland\":true,\"showlakes\":true,\"lakecolor\":\"white\"},\"title\":{\"x\":0.05},\"mapbox\":{\"style\":\"light\"}}}},                        {\"responsive\": true}                    ).then(function(){\n",
       "                            \n",
       "var gd = document.getElementById('2506d2a7-ae67-4090-8c22-ad1261d27b14');\n",
       "var x = new MutationObserver(function (mutations, observer) {{\n",
       "        var display = window.getComputedStyle(gd).display;\n",
       "        if (!display || display === 'none') {{\n",
       "            console.log([gd, 'removed!']);\n",
       "            Plotly.purge(gd);\n",
       "            observer.disconnect();\n",
       "        }}\n",
       "}});\n",
       "\n",
       "// Listen for the removal of the full notebook cells\n",
       "var notebookContainer = gd.closest('#notebook-container');\n",
       "if (notebookContainer) {{\n",
       "    x.observe(notebookContainer, {childList: true});\n",
       "}}\n",
       "\n",
       "// Listen for the clearing of the current output cell\n",
       "var outputEl = gd.closest('.output');\n",
       "if (outputEl) {{\n",
       "    x.observe(outputEl, {childList: true});\n",
       "}}\n",
       "\n",
       "                        })                };                });            </script>        </div>"
      ]
     },
     "metadata": {},
     "output_type": "display_data"
    },
    {
     "ename": "ValueError",
     "evalue": "The truth value of an array with more than one element is ambiguous. Use a.any() or a.all()",
     "output_type": "error",
     "traceback": [
      "\u001b[0;31m---------------------------------------------------------------------------\u001b[0m",
      "\u001b[0;31mValueError\u001b[0m                                Traceback (most recent call last)",
      "\u001b[0;32m/tmp/ipykernel_109101/2476679473.py\u001b[0m in \u001b[0;36m<module>\u001b[0;34m\u001b[0m\n\u001b[1;32m     42\u001b[0m \u001b[0mfig\u001b[0m\u001b[0;34m,\u001b[0m \u001b[0mclassification_counts\u001b[0m \u001b[0;34m=\u001b[0m \u001b[0mcreate_classification_counts_pie_chart\u001b[0m\u001b[0;34m(\u001b[0m\u001b[0mdf_main\u001b[0m\u001b[0;34m)\u001b[0m\u001b[0;34m\u001b[0m\u001b[0;34m\u001b[0m\u001b[0m\n\u001b[1;32m     43\u001b[0m \u001b[0mapproved_not_withdrawn_count\u001b[0m \u001b[0;34m=\u001b[0m \u001b[0mcount_approved_not_withdrawn\u001b[0m\u001b[0;34m(\u001b[0m\u001b[0mdf_main\u001b[0m\u001b[0;34m)\u001b[0m\u001b[0;34m\u001b[0m\u001b[0;34m\u001b[0m\u001b[0m\n\u001b[0;32m---> 44\u001b[0;31m \u001b[0minteractions_df\u001b[0m \u001b[0;34m=\u001b[0m \u001b[0mcreate_interactions_df\u001b[0m\u001b[0;34m(\u001b[0m\u001b[0mdf_main\u001b[0m\u001b[0;34m)\u001b[0m\u001b[0;34m\u001b[0m\u001b[0;34m\u001b[0m\u001b[0m\n\u001b[0m\u001b[1;32m     45\u001b[0m \u001b[0;34m\u001b[0m\u001b[0m\n\u001b[1;32m     46\u001b[0m \u001b[0;31m# Display the results\u001b[0m\u001b[0;34m\u001b[0m\u001b[0;34m\u001b[0m\u001b[0m\n",
      "\u001b[0;32m/tmp/ipykernel_109101/2476679473.py\u001b[0m in \u001b[0;36mcreate_interactions_df\u001b[0;34m(df)\u001b[0m\n\u001b[1;32m     21\u001b[0m     \u001b[0;32mfor\u001b[0m \u001b[0m_\u001b[0m\u001b[0;34m,\u001b[0m \u001b[0mrow\u001b[0m \u001b[0;32min\u001b[0m \u001b[0mdf\u001b[0m\u001b[0;34m.\u001b[0m\u001b[0miterrows\u001b[0m\u001b[0;34m(\u001b[0m\u001b[0;34m)\u001b[0m\u001b[0;34m:\u001b[0m\u001b[0;34m\u001b[0m\u001b[0;34m\u001b[0m\u001b[0m\n\u001b[1;32m     22\u001b[0m         \u001b[0;31m# Ensure the drug_interactions column is parsed correctly\u001b[0m\u001b[0;34m\u001b[0m\u001b[0;34m\u001b[0m\u001b[0m\n\u001b[0;32m---> 23\u001b[0;31m         \u001b[0;32mif\u001b[0m \u001b[0mpd\u001b[0m\u001b[0;34m.\u001b[0m\u001b[0misna\u001b[0m\u001b[0;34m(\u001b[0m\u001b[0mrow\u001b[0m\u001b[0;34m[\u001b[0m\u001b[0;34m'drug_interactions'\u001b[0m\u001b[0;34m]\u001b[0m\u001b[0;34m)\u001b[0m \u001b[0;32mor\u001b[0m \u001b[0mrow\u001b[0m\u001b[0;34m[\u001b[0m\u001b[0;34m'drug_interactions'\u001b[0m\u001b[0;34m]\u001b[0m \u001b[0;34m==\u001b[0m \u001b[0;34m'None'\u001b[0m\u001b[0;34m:\u001b[0m\u001b[0;34m\u001b[0m\u001b[0;34m\u001b[0m\u001b[0m\n\u001b[0m\u001b[1;32m     24\u001b[0m             \u001b[0;32mcontinue\u001b[0m\u001b[0;34m\u001b[0m\u001b[0;34m\u001b[0m\u001b[0m\n\u001b[1;32m     25\u001b[0m \u001b[0;34m\u001b[0m\u001b[0m\n",
      "\u001b[0;31mValueError\u001b[0m: The truth value of an array with more than one element is ambiguous. Use a.any() or a.all()"
     ]
    }
   ],
   "source": [
    "# 9), 10)\n",
    "import pandas as pd\n",
    "import plotly.graph_objects as go\n",
    "\n",
    "def create_classification_counts_pie_chart(df):\n",
    "    classification_counts = df['groups'].apply(lambda x: ', '.join(x)).value_counts().reset_index()\n",
    "    classification_counts.columns = ['classification', 'count']\n",
    "    \n",
    "    fig = go.Figure(data=[go.Pie(labels=classification_counts['classification'], values=classification_counts['count'], title='Drug Classification Distribution')])\n",
    "    fig.show()\n",
    "    \n",
    "    return fig, classification_counts\n",
    "\n",
    "def count_approved_not_withdrawn(df):\n",
    "    approved_not_withdrawn = df[df['groups'].apply(lambda x: 'approved' in x and 'withdrawn' not in x)].shape[0]\n",
    "    return approved_not_withdrawn\n",
    "    \n",
    "\n",
    "def create_interactions_df(df):\n",
    "    interactions = []\n",
    "    for _, row in df.iterrows():\n",
    "        # Ensure the drug_interactions column is parsed correctly\n",
    "        if pd.isna(row['drug_interactions']) or row['drug_interactions'] == 'None':\n",
    "            continue\n",
    "        \n",
    "        # Convert interaction strings to lists of dictionaries\n",
    "        drug_interactions_list = ast.literal_eval(row['drug_interactions']) if isinstance(row['drug_interactions'], str) else row['drug_interactions']\n",
    "        \n",
    "        for interaction in drug_interactions_list:\n",
    "            if isinstance(interaction, dict):\n",
    "                interactions.append({\n",
    "                    'drugbank_id': row['drugbank_id'],\n",
    "                    'drug_name': row['name'],\n",
    "                    'interacting_drug': interaction.get('drugbank-id', 'Unknown'),\n",
    "                    'interaction': interaction.get('name', 'Unknown')\n",
    "                })\n",
    "\n",
    "    interactions_df = pd.DataFrame(interactions)\n",
    "    return interactions_df\n",
    "\n",
    "# Example usage\n",
    "fig, classification_counts = create_classification_counts_pie_chart(df_main)\n",
    "approved_not_withdrawn_count = count_approved_not_withdrawn(df_main)\n",
    "interactions_df = create_interactions_df(df_main)\n",
    "\n",
    "# Display the results\n",
    "print(f\"Number of approved drugs not withdrawn: {approved_not_withdrawn_count}\")\n",
    "print(interactions_df.head())"
   ]
  },
  {
   "cell_type": "code",
   "execution_count": null,
   "id": "8e777b9b-adc0-4ac5-990e-ee42653e5e70",
   "metadata": {},
   "outputs": [],
   "source": []
  },
  {
   "cell_type": "code",
   "execution_count": null,
   "id": "0f15ab5b-4de3-439c-93d5-769ad288922d",
   "metadata": {},
   "outputs": [],
   "source": []
  },
  {
   "cell_type": "code",
   "execution_count": null,
   "id": "2abdd7af-b581-4e23-bbd6-758e687ebc0c",
   "metadata": {},
   "outputs": [],
   "source": []
  },
  {
   "cell_type": "code",
   "execution_count": null,
   "id": "c54cdd9d-1676-4923-8986-b76fd5c34956",
   "metadata": {},
   "outputs": [],
   "source": []
  },
  {
   "cell_type": "code",
   "execution_count": null,
   "id": "a3278f9a-0d27-4b2c-bc93-18f1742458d1",
   "metadata": {},
   "outputs": [],
   "source": []
  }
 ],
 "metadata": {
  "kernelspec": {
   "display_name": "Python 3 (ipykernel)",
   "language": "python",
   "name": "python3"
  },
  "language_info": {
   "codemirror_mode": {
    "name": "ipython",
    "version": 3
   },
   "file_extension": ".py",
   "mimetype": "text/x-python",
   "name": "python",
   "nbconvert_exporter": "python",
   "pygments_lexer": "ipython3",
   "version": "3.10.12"
  }
 },
 "nbformat": 4,
 "nbformat_minor": 5
}
