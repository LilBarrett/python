{
 "cells": [
  {
   "cell_type": "code",
   "execution_count": 1,
   "id": "36689908",
   "metadata": {},
   "outputs": [],
   "source": [
    "import math\n",
    "import random as rd\n",
    "\n",
    "# Function that approximates pi with the monte carlo method\n",
    "def monte_carlo():\n",
    "    # User imput the number of random points and steps to be shown\n",
    "    n = int(input())\n",
    "    k = int(input())\n",
    "\n",
    "    total_in_circle = 0    # Variable to count number of generated points that are inside the O((1/2, 1/2), 1/2) circle\n",
    "    \n",
    "    # n step loop\n",
    "    for i in range(n):\n",
    "        # Generate random point (x, y) in [0, 1]X[0, 1]\n",
    "        x = rd.random()\n",
    "        y = rd.random()\n",
    "        \n",
    "        # If it's inside the circle update the count\n",
    "        if (x-1/2)**2+(y-1/2)**2 <= 1/4:\n",
    "            total_in_circle += 1\n",
    "            \n",
    "        # Calculate i'th pi approximation\n",
    "        pi_approx = 4 * total_in_circle/(i+1)\n",
    "        \n",
    "        # If current step number is greater than k display the approximation\n",
    "        if i >= k:\n",
    "            print(str(i)+\"'th approximation of pi = \"+str(pi_approx))\n",
    "    print(\"Difference between approximation and pi = \"+str(math.pi-pi_approx))\n",
    "    return"
   ]
  },
  {
   "cell_type": "code",
   "execution_count": 7,
   "id": "e3440aad",
   "metadata": {},
   "outputs": [
    {
     "name": "stdout",
     "output_type": "stream",
     "text": [
      "10000000\n",
      "9999999\n",
      "9999999'th approximation of pi = 3.142228\n",
      "Difference between approximation and pi = -0.000635346410206683\n"
     ]
    }
   ],
   "source": [
    "monte_carlo()"
   ]
  },
  {
   "cell_type": "code",
   "execution_count": null,
   "id": "fa412dc6",
   "metadata": {},
   "outputs": [],
   "source": []
  }
 ],
 "metadata": {
  "kernelspec": {
   "display_name": "Python 3 (ipykernel)",
   "language": "python",
   "name": "python3"
  },
  "language_info": {
   "codemirror_mode": {
    "name": "ipython",
    "version": 3
   },
   "file_extension": ".py",
   "mimetype": "text/x-python",
   "name": "python",
   "nbconvert_exporter": "python",
   "pygments_lexer": "ipython3",
   "version": "3.10.12"
  }
 },
 "nbformat": 4,
 "nbformat_minor": 5
}
