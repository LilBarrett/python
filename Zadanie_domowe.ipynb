{
 "cells": [
  {
   "cell_type": "markdown",
   "metadata": {},
   "source": [
    "### Kilka uwag do zadania"
   ]
  },
  {
   "cell_type": "markdown",
   "metadata": {},
   "source": [
    "Wskazówka 1 - sortowanie"
   ]
  },
  {
   "cell_type": "code",
   "execution_count": 1,
   "metadata": {},
   "outputs": [
    {
     "data": {
      "text/plain": [
       "[1, 2, 3, 5, 7]"
      ]
     },
     "execution_count": 1,
     "metadata": {},
     "output_type": "execute_result"
    }
   ],
   "source": [
    "l = [2,3,7,5,1]\n",
    "sorted(l)"
   ]
  },
  {
   "cell_type": "markdown",
   "metadata": {},
   "source": [
    "Wskazówka 2 - wczytywanie"
   ]
  },
  {
   "cell_type": "code",
   "execution_count": 2,
   "metadata": {},
   "outputs": [
    {
     "name": "stdout",
     "output_type": "stream",
     "text": [
      "Podaj napis: 5\n",
      "Twój napis to `5`\n"
     ]
    }
   ],
   "source": [
    "x = input(\"Podaj napis: \")\n",
    "print(\"Twój napis to `\" + x + \"`\")"
   ]
  },
  {
   "cell_type": "markdown",
   "metadata": {},
   "source": [
    "# Zadanie domowe:\n",
    "Zadanie: Śledzenie Spędzonego Czasu\n",
    "\n",
    "Stwórz program, który pozwala śledzić czas spędzony na różnych aktywnościach. Użyj słownika do przechowywania danych o aktywnościach oraz listy do śledzenia czasu spędzonego na każdej z nich. Program powinien mieć trzy główne funkcje:\n",
    "* Dodaj Aktywność: Użytkownik może dodać nową aktywność do śledzenia. Jeśli aktywność już istnieje, program powinien tylko zaktualizować ją o nowy czas. Struktura danych może wyglądać tak:\n",
    "    {\n",
    "    'Aktywność 1': [czas1, czas2, czas3, ...],\n",
    "    'Aktywność 2': [czas1, czas2, czas3, ...],\n",
    "    ...\n",
    "}\n",
    "* Pokaż Czas: Użytkownik może wybrać aktywność i zobaczyć, ile łącznie czasu spędził na niej.\n",
    "* Pokaż Top Aktywności: Program powinien pokazać top 3 aktywności, na których użytkownik spędził najwięcej czasu."
   ]
  },
  {
   "cell_type": "code",
   "execution_count": 3,
   "metadata": {},
   "outputs": [],
   "source": [
    "from datetime import datetime\n",
    "import time\n",
    "# Create an empty dictionary for storage purpose\n",
    "A = {}"
   ]
  },
  {
   "cell_type": "code",
   "execution_count": 14,
   "metadata": {},
   "outputs": [],
   "source": [
    "# Function let's the user add an activity to a dictionary\n",
    "def add_activity(activity_name, Activities = A):\n",
    "    \n",
    "    current_time = datetime.now()    # Get current time\n",
    "    \n",
    "    if activity_name not in Activities:    # If it's a new activity create an empty list\n",
    "        time_list = []  \n",
    "        \n",
    "     # If it's already in the dictionary update the newest time\n",
    "    else:\n",
    "        time_list = Activities[activity_name]\n",
    "    \n",
    "    time_list.append(current_time)\n",
    "    Activities[activity_name] = time_list\n",
    "    \n",
    "    return"
   ]
  },
  {
   "cell_type": "code",
   "execution_count": 15,
   "metadata": {},
   "outputs": [],
   "source": [
    "# Function for converting timedelta type to hours, minutes and seconds in a tuple\n",
    "def convert_timedelta(duration):\n",
    "    days, seconds = duration.days, duration.seconds\n",
    "    hours = days * 24 + seconds // 3600    # Calculate hours\n",
    "    minutes = (seconds % 3600) // 60    # Calculate minutes\n",
    "    seconds = (seconds % 60)   # Calculate seconds\n",
    "    return hours, minutes, seconds"
   ]
  },
  {
   "cell_type": "code",
   "execution_count": 16,
   "metadata": {},
   "outputs": [],
   "source": [
    "# Functon let's the user check current use time of an activity\n",
    "def check_time(activity_name, Activities = A):   \n",
    "    \n",
    "    if activity_name not in Activities:    # If user asked for an activity missing from the list raise error\n",
    "        raise ValueError(\"This Activity does not exit\")\n",
    "        return \n",
    "    \n",
    "    last_index = len(Activities[activity_name])    # Calculate index holding last recorded time\n",
    "    start = Activities[activity_name][last_index-1]\n",
    "    time = convert_timedelta((datetime.now() - start))    # Calculate the time from last usage\n",
    "    \n",
    "    print(str(time[0])+\" hours \"+str(time[1])+ \" minutes \" + str(time[2]) + \" seconds\")\n",
    "    \n",
    "    return"
   ]
  },
  {
   "cell_type": "code",
   "execution_count": 17,
   "metadata": {},
   "outputs": [],
   "source": [
    "# Function let's the user remove an activity from the list\n",
    "def stop_activity(activity_name, Activities = A):\n",
    "    \n",
    "    if activity_name in Activities:\n",
    "        Activities.pop(activity_name)\n",
    "    else:\n",
    "        raise ValueError(\"This Activity does not exit\")\n",
    "        \n",
    "    return"
   ]
  },
  {
   "cell_type": "code",
   "execution_count": 18,
   "metadata": {},
   "outputs": [],
   "source": [
    "# Fuction let's the user see the top 3 activities along with time spent in them\n",
    "def top_activities(Activities=A):\n",
    "    \n",
    "    top_Activities = []    # Create empty list to hold top activities\n",
    "    for activity in Activities:\n",
    "        last_index = len(Activities[activity])    # For each activity alculate index holding last recorded time\n",
    "        time = datetime.now() - Activities[activity][last_index-1]\n",
    "        top_Activities.append([activity, time])    # Append to list the activity and time spend on it\n",
    "    \n",
    "    top_Activities = list(reversed(sorted(\n",
    "        top_Activities, key=lambda item: item[1])))    # Sort the Activities by longest usage time\n",
    "    \n",
    "    i = 0\n",
    "    for activity in top_Activities:    # Print the top 3 activities\n",
    "        if i< 3 and len(top_Activities) >= i:\n",
    "            print(str(i+1)+\" longest Activity - \" + activity[0] + \" and time spent is:\") \n",
    "            activity_Time = convert_timedelta(activity[1])\n",
    "            print(str(activity_Time[0])+\" hours \"\n",
    "                  +str(activity_Time[1])+ \" minutes \" + str(activity_Time[2]) + \" seconds\")\n",
    "        i += 1\n",
    "        \n",
    "    return "
   ]
  },
  {
   "cell_type": "code",
   "execution_count": 24,
   "metadata": {},
   "outputs": [
    {
     "name": "stdout",
     "output_type": "stream",
     "text": [
      "0 hours 0 minutes 10 seconds\n"
     ]
    }
   ],
   "source": [
    "add_activity('bos')\n",
    "add_activity('bsooop')\n",
    "add_activity('a')\n",
    "time.sleep(1)\n",
    "add_activity('busos')\n",
    "add_activity('bos')\n",
    "time.sleep(10)\n",
    "add_activity('bs')\n",
    "add_activity('aX')\n",
    "time.sleep(0.1)\n",
    "add_activity('busos')\n",
    "check_time('bos')"
   ]
  },
  {
   "cell_type": "code",
   "execution_count": 25,
   "metadata": {},
   "outputs": [
    {
     "name": "stdout",
     "output_type": "stream",
     "text": [
      "0 hours 0 minutes 10 seconds\n",
      "0 hours 0 minutes 0 seconds\n",
      "0 hours 0 minutes 11 seconds\n",
      "0 hours 0 minutes 10 seconds\n",
      "0 hours 0 minutes 0 seconds\n"
     ]
    }
   ],
   "source": [
    "check_time('bos')\n",
    "check_time('bs')\n",
    "check_time('a')\n",
    "check_time('bos')\n",
    "check_time('busos')\n",
    "stop_activity('busos')"
   ]
  },
  {
   "cell_type": "code",
   "execution_count": 26,
   "metadata": {},
   "outputs": [
    {
     "name": "stdout",
     "output_type": "stream",
     "text": [
      "1 longest Activity - bsooopX and time spent is:\n",
      "0 hours 0 minutes 48 seconds\n",
      "2 longest Activity - busosX and time spent is:\n",
      "0 hours 0 minutes 48 seconds\n",
      "3 longest Activity - bosX and time spent is:\n",
      "0 hours 0 minutes 48 seconds\n"
     ]
    }
   ],
   "source": [
    "top_activities(A)"
   ]
  },
  {
   "cell_type": "code",
   "execution_count": null,
   "metadata": {},
   "outputs": [],
   "source": []
  }
 ],
 "metadata": {
  "kernelspec": {
   "display_name": "Python 3 (ipykernel)",
   "language": "python",
   "name": "python3"
  },
  "language_info": {
   "codemirror_mode": {
    "name": "ipython",
    "version": 3
   },
   "file_extension": ".py",
   "mimetype": "text/x-python",
   "name": "python",
   "nbconvert_exporter": "python",
   "pygments_lexer": "ipython3",
   "version": "3.10.12"
  }
 },
 "nbformat": 4,
 "nbformat_minor": 2
}
